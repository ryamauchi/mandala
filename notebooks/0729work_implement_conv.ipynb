{
 "cells": [
  {
   "cell_type": "code",
   "execution_count": 1,
   "metadata": {},
   "outputs": [],
   "source": [
    "import sys\n",
    "import numpy as np\n",
    "\n",
    "sys.path.append('../')\n",
    "\n",
    "import cupy\n",
    "from mandala import cuda\n",
    "from mandala import Node\n",
    "from mandala import Variable\n",
    "\n",
    "from mandala.autodiff import autodiff\n",
    "from mandala.autodiff import layer\n",
    "from mandala.autodiff import initializers"
   ]
  },
  {
   "cell_type": "code",
   "execution_count": 2,
   "metadata": {},
   "outputs": [],
   "source": [
    "from mandala import cuda\n",
    "\n",
    "\n",
    "# modified from chainer.\n",
    "def get_conv_outsize(size, k, s, p, cover_all=False, d=1):\n",
    "    dk = k + (k - 1) * (d - 1)\n",
    "    if cover_all:\n",
    "        return (size + p * 2 - dk + s - 1) // s + 1\n",
    "    else:\n",
    "        return (size + p * 2 - dk) // s + 1\n",
    "\n",
    "\n",
    "def im2col(img, kh, kw, sy, sx, ph, pw, pval=0, cover_all=False,\n",
    "           dy=1, dx=1, out_h=None, out_w=None):\n",
    "    xp = cuda.get_array_module(img)\n",
    "    n, c, h, w = img.shape\n",
    "    if out_h is None:\n",
    "        out_h = get_conv_outsize(h, kh, sy, ph, cover_all, dy)\n",
    "    if out_w is None:\n",
    "        out_w = get_conv_outsize(w, kw, sx, pw, cover_all, dx)\n",
    "\n",
    "    img = xp.pad(img,\n",
    "                 ((0, 0), (0, 0), (ph, ph + sy - 1), (pw, pw + sx - 1)),\n",
    "                  mode='constant', constant_values=(pval,))\n",
    "    col = xp.ndarray((n, c, kh, kw, out_h, out_w), dtype=img.dtype)\n",
    "\n",
    "    for j in range(kh):\n",
    "        jdy = j * dy\n",
    "        j_lim = jdy + sy * out_h\n",
    "        for i in range(kw):\n",
    "            idx = i * dx\n",
    "            i_lim = idx + sx * out_w\n",
    "            col[:, :, j, i, :, :] = img[:, :, jdy:j_lim:sy, idx:i_lim:sx]\n",
    "\n",
    "    return col"
   ]
  },
  {
   "cell_type": "code",
   "execution_count": 3,
   "metadata": {},
   "outputs": [],
   "source": [
    "import numpy\n",
    "\n",
    "\n",
    "def _pair(x):\n",
    "    if hasattr(x, '__getitem__'):\n",
    "        return x\n",
    "    return x, x\n",
    "\n",
    "\n",
    "class Convolution2D(layer.Layer):\n",
    "    def __init__(self, in_ch, out_ch, ksize, stride=1, pad=0,\n",
    "                 nobias=False, cover_all=False, dilate=1):\n",
    "        self.ksize = _pair(ksize)\n",
    "        self.stride = _pair(stride)\n",
    "        self.pad = _pair(pad)\n",
    "        self.dilate = _pair(dilate)\n",
    "        self.cover_all = cover_all\n",
    "\n",
    "        self.W = Variable(\n",
    "            initializers.HeNormal((out_ch, in_ch, *self.ksize)))\n",
    "        if nobias:\n",
    "            self.b = None\n",
    "        else:\n",
    "            self.b = Variable(\n",
    "                numpy.zeros(out_ch, dtype=numpy.float32))\n",
    "\n",
    "    def __call__(self, x):\n",
    "        args = [x, self.W, self.b]\n",
    "        kargs = {\n",
    "            'ksize': self.ksize,\n",
    "            'stride': self.stride,\n",
    "            'pad': self.pad,\n",
    "            'dilate': self.dilate,\n",
    "            'cover_all': self.cover_all\n",
    "        }\n",
    "        return Convolution2DFunction()(args, kargs)"
   ]
  },
  {
   "cell_type": "code",
   "execution_count": 4,
   "metadata": {},
   "outputs": [],
   "source": [
    "class Convolution2DFunction(autodiff.AutoDiff):\n",
    "\n",
    "    def forward(self, xs, kargs):\n",
    "        y = Node(convolution_2d_forward, xs, kargs)\n",
    "        return y\n",
    "\n",
    "    def backward(self, xs, gy):\n",
    "        raise NotImplementedError()"
   ]
  },
  {
   "cell_type": "code",
   "execution_count": 12,
   "metadata": {},
   "outputs": [],
   "source": [
    "def convolution_2d_forward(x, W, b, ksize, stride, pad,\n",
    "                           dilate=(1, 1), cover_all=None):\n",
    "    xp = cuda.get_array_module(x)\n",
    "    \n",
    "    kh, kw = ksize\n",
    "    sy, sx = stride\n",
    "    ph, pw = pad\n",
    "    dx, dy = dilate\n",
    "\n",
    "    col = im2col(x, kh, kw, sy, sx, ph, pw,\n",
    "                 cover_all=cover_all, dy=dy, dx=dx)\n",
    "    y = xp.tensordot(col, W, ((1, 2, 3), (1, 2, 3)))\n",
    "    if b is not None:\n",
    "        y += b\n",
    "    y = xp.rollaxis(y, 3, 1)\n",
    "\n",
    "    return y\n",
    "\n",
    "\n",
    "def convolution_2d_backward(x, W, b, ):\n",
    "    xp = cuda.get_array_module(x)\n",
    "    "
   ]
  },
  {
   "cell_type": "code",
   "execution_count": null,
   "metadata": {},
   "outputs": [],
   "source": [
    "    def forward_cpu(self, inputs):\n",
    "        self.retain_inputs((0, 1))\n",
    "        x, gy = inputs\n",
    "\n",
    "        # NumPy raises an error when the array is not contiguous.\n",
    "        # See: https://github.com/chainer/chainer/issues/2744\n",
    "        # TODO(niboshi): Remove this code when NumPy is fixed.\n",
    "        if (not (gy.flags.c_contiguous or gy.flags.f_contiguous) and\n",
    "                1 in gy.shape):\n",
    "            gy = numpy.ascontiguousarray(gy)\n",
    "\n",
    "        if self.groups > 1:\n",
    "            return self._forward_grouped_convolution(x, gy)\n",
    "        else:\n",
    "            return self._forward_cpu_core(x, gy)\n",
    "\n",
    "    def _forward_cpu_core(self, x, gy):\n",
    "        if self._use_ideep:\n",
    "            return self._forward_ideep(x, gy)\n",
    "\n",
    "        col = conv.im2col_cpu(\n",
    "            x, self.kh, self.kw, self.sy, self.sx, self.ph, self.pw,\n",
    "            cover_all=self.cover_all, dy=self.dy, dx=self.dx)\n",
    "        gW = numpy.tensordot(gy, col, ((0, 2, 3), (0, 4, 5))\n",
    "                             ).astype(self.W_dtype, copy=False)\n",
    "        return gW,"
   ]
  },
  {
   "cell_type": "code",
   "execution_count": 23,
   "metadata": {},
   "outputs": [],
   "source": [
    "conv = Convolution2D(3, 10, 3)\n",
    "conv.to_cpu()"
   ]
  },
  {
   "cell_type": "code",
   "execution_count": 24,
   "metadata": {},
   "outputs": [],
   "source": [
    "xp = numpy\n",
    "x = xp.zeros((2, 3, 10, 10), dtype=np.float32)"
   ]
  },
  {
   "cell_type": "code",
   "execution_count": 25,
   "metadata": {},
   "outputs": [
    {
     "data": {
      "text/plain": [
       "dtype('float32')"
      ]
     },
     "execution_count": 25,
     "metadata": {},
     "output_type": "execute_result"
    }
   ],
   "source": [
    "conv(x).data.dtype"
   ]
  },
  {
   "cell_type": "code",
   "execution_count": null,
   "metadata": {},
   "outputs": [],
   "source": []
  }
 ],
 "metadata": {
  "kernelspec": {
   "display_name": "Python 3",
   "language": "python",
   "name": "python3"
  },
  "language_info": {
   "codemirror_mode": {
    "name": "ipython",
    "version": 3
   },
   "file_extension": ".py",
   "mimetype": "text/x-python",
   "name": "python",
   "nbconvert_exporter": "python",
   "pygments_lexer": "ipython3",
   "version": "3.6.3"
  }
 },
 "nbformat": 4,
 "nbformat_minor": 2
}
