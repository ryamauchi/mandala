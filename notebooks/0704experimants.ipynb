{
 "cells": [
  {
   "cell_type": "code",
   "execution_count": 5,
   "metadata": {},
   "outputs": [],
   "source": [
    "import types"
   ]
  },
  {
   "cell_type": "code",
   "execution_count": 9,
   "metadata": {},
   "outputs": [
    {
     "data": {
      "text/plain": [
       "False"
      ]
     },
     "execution_count": 9,
     "metadata": {},
     "output_type": "execute_result"
    }
   ],
   "source": [
    "isinstance(1, types.FunctionType)"
   ]
  },
  {
   "cell_type": "code",
   "execution_count": 13,
   "metadata": {},
   "outputs": [],
   "source": [
    "import types\n",
    "\n",
    "class Node(object):\n",
    "    '''Node of computational graph.\n",
    "\n",
    "    This object represents a node of a computation graph. A node has one\n",
    "    function and several arguments of that function. At the time when the node\n",
    "    is generated, the function is not applied, and it is calculated as\n",
    "    necessary. A node can be an argument of another node.\n",
    "\n",
    "    Args:\n",
    "        func (function): The function applied to the argument.\n",
    "        args (Node, list or tuple): Arguments of the function.\n",
    "\n",
    "    Attributes:\n",
    "        data: Computation result of this Node.\n",
    "    '''\n",
    "    def __init__(self, func, args):\n",
    "        if not isinstance(func, types.FunctionType):\n",
    "            raise TypeError('func mast be a function.')\n",
    "        self.func = func\n",
    "        self._data = None\n",
    "        _args = []\n",
    "        if not isinstance(args, (tuple, list)):\n",
    "            args = [args]\n",
    "        for arg in args:\n",
    "            if not isinstance(arg, Node):\n",
    "                raise TypeError('args must be Node or list(tuple) of Nodes.')\n",
    "            _args.append(arg)\n",
    "        self.args = tuple(_args)\n",
    "\n",
    "    def apply_func(self):\n",
    "        expanded_args = [arg.data for arg in self.args]\n",
    "        return self.func(*expanded_args)\n",
    "    \n",
    "    @property\n",
    "    def data(self):\n",
    "        if self._data is None:\n",
    "            self._data = self.apply_func()\n",
    "        return self._data\n",
    "\n",
    "\n",
    "class Variable(Node):\n",
    "    '''Start node of computational graph.\n",
    "    \n",
    "    Computation graph starts from this object.\n",
    "    \n",
    "    Args:\n",
    "        data: value of the Variable.\n",
    "    '''\n",
    "    def __init__(self, data):\n",
    "        self.func = None\n",
    "        self.args = ()\n",
    "        self._data = data\n",
    "\n",
    "    def apply_func(self):\n",
    "        raise NotImplementedError()\n",
    "    \n",
    "    @property\n",
    "    def data(self):\n",
    "        return self._data\n",
    "\n",
    "    @data.setter\n",
    "    def data(self, d):\n",
    "        self._data = d\n"
   ]
  },
  {
   "cell_type": "code",
   "execution_count": 2,
   "metadata": {},
   "outputs": [],
   "source": [
    "def add(a, b):\n",
    "    return a + b\n",
    "\n",
    "def mul(a, b):\n",
    "    return a * b"
   ]
  },
  {
   "cell_type": "code",
   "execution_count": 5,
   "metadata": {},
   "outputs": [],
   "source": [
    "x = Variable(5)\n",
    "\n",
    "h0 = Node(mul, [x, 5])\n",
    "h1 = Node(mul, [Variable(2), x])\n",
    "h2 = Node(add, [h0, h1])\n",
    "y  = Node(add, [h2, Variable(1)])"
   ]
  },
  {
   "cell_type": "code",
   "execution_count": 14,
   "metadata": {},
   "outputs": [
    {
     "name": "stdout",
     "output_type": "stream",
     "text": [
      "None\n",
      "36\n",
      "10\n"
     ]
    }
   ],
   "source": [
    "print(h1._data)\n",
    "print(y.data)\n",
    "print(h1._data)"
   ]
  },
  {
   "cell_type": "markdown",
   "metadata": {},
   "source": [
    "計算グラフの構築と計算の実行が分離されており、なおかつそのことを使用者に意識させない計算グラフフレームワーク。"
   ]
  },
  {
   "cell_type": "markdown",
   "metadata": {},
   "source": [
    "Node は関数の適用を表現する。つまり関数とその引数の組を保持しており、必要に応じて実際に計算し値を返す。引数もまた Node である。ただし計算のたびに関数と引数の組を与えて新たな Node を作るというルールは、実運用上少々面倒である。したがって Node の生成をサポートする関数群を定義しておく。これらの関数は F(node) という形で新たな Node インスタンスを生成する。"
   ]
  },
  {
   "cell_type": "code",
   "execution_count": 12,
   "metadata": {},
   "outputs": [
    {
     "data": {
      "text/plain": [
       "()"
      ]
     },
     "execution_count": 12,
     "metadata": {},
     "output_type": "execute_result"
    }
   ],
   "source": [
    "h0.args[1].args"
   ]
  },
  {
   "cell_type": "code",
   "execution_count": null,
   "metadata": {},
   "outputs": [],
   "source": []
  }
 ],
 "metadata": {
  "kernelspec": {
   "display_name": "Python 3",
   "language": "python",
   "name": "python3"
  },
  "language_info": {
   "codemirror_mode": {
    "name": "ipython",
    "version": 3
   },
   "file_extension": ".py",
   "mimetype": "text/x-python",
   "name": "python",
   "nbconvert_exporter": "python",
   "pygments_lexer": "ipython3",
   "version": "3.6.0"
  }
 },
 "nbformat": 4,
 "nbformat_minor": 2
}
