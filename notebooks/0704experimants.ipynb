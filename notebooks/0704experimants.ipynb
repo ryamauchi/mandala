{
 "cells": [
  {
   "cell_type": "code",
   "execution_count": 177,
   "metadata": {},
   "outputs": [],
   "source": [
    "class Node(object):\n",
    "    '''Node of computational graph.\n",
    "\n",
    "    This object represents a node of a computation graph. A node has one\n",
    "    function and several arguments of that function. At the time when the node\n",
    "    is generated, the function is not applied, and it is calculated as\n",
    "    necessary. A node can be an argument of another node.\n",
    "\n",
    "    Args:\n",
    "        func (function): The function applied to the argument.\n",
    "        args (Node, list or tuple): Arguments of the function.\n",
    "\n",
    "    Attributes:\n",
    "        data: Computation result of this Node.\n",
    "    '''\n",
    "    def __init__(self, func, args):\n",
    "        self.func = func\n",
    "        self._data = None\n",
    "        _args = []\n",
    "        if not isinstance(args, (tuple, list)):\n",
    "            args = [args]\n",
    "        for arg in args:\n",
    "            if not isinstance(arg, Node):\n",
    "                raise ValueError('args must be Node or list(tuple) of Nodes.')\n",
    "            _args.append(arg)\n",
    "        self.args = tuple(_args)\n",
    "\n",
    "    def apply_func(self):\n",
    "        expanded_args = [arg.data for arg in self.args]\n",
    "        return self.func(*expanded_args)\n",
    "    \n",
    "    @property\n",
    "    def data(self):\n",
    "        if self._data is None:\n",
    "            self._data = self.apply_func()\n",
    "        return self._data\n",
    "\n",
    "\n",
    "class Variable(Node):\n",
    "    '''Start node of computational graph.\n",
    "    \n",
    "    Computation graph starts from this object.\n",
    "    \n",
    "    Args:\n",
    "        data: value of the Variable.\n",
    "    '''\n",
    "    def __init__(self, data):\n",
    "        self.func = None\n",
    "        self.args = ()\n",
    "        self._data = data\n",
    "\n",
    "    def apply_func(self):\n",
    "        raise NotImplementedError()\n",
    "    \n",
    "    @property\n",
    "    def data(self):\n",
    "        return self._data\n",
    "\n",
    "    @data.setter\n",
    "    def data(self, d):\n",
    "        self._data = d\n"
   ]
  },
  {
   "cell_type": "code",
   "execution_count": 178,
   "metadata": {},
   "outputs": [],
   "source": [
    "def add(a, b):\n",
    "    return a + b\n",
    "\n",
    "def mul(a, b):\n",
    "    return a * b"
   ]
  },
  {
   "cell_type": "code",
   "execution_count": 179,
   "metadata": {},
   "outputs": [],
   "source": [
    "x = Variable(5)\n",
    "\n",
    "h0 = Node(mul, [x, x])\n",
    "h1 = Node(mul, [Variable(2), x])\n",
    "h2 = Node(add, [h0, h1])\n",
    "y  = Node(add, [h2, Variable(1)])"
   ]
  },
  {
   "cell_type": "code",
   "execution_count": 180,
   "metadata": {},
   "outputs": [
    {
     "name": "stdout",
     "output_type": "stream",
     "text": [
      "None\n",
      "36\n",
      "10\n"
     ]
    }
   ],
   "source": [
    "print(h1._data)\n",
    "print(y.data)\n",
    "print(h1._data)"
   ]
  }
 ],
 "metadata": {
  "kernelspec": {
   "display_name": "Python 3",
   "language": "python",
   "name": "python3"
  },
  "language_info": {
   "codemirror_mode": {
    "name": "ipython",
    "version": 3
   },
   "file_extension": ".py",
   "mimetype": "text/x-python",
   "name": "python",
   "nbconvert_exporter": "python",
   "pygments_lexer": "ipython3",
   "version": "3.6.4"
  }
 },
 "nbformat": 4,
 "nbformat_minor": 2
}
