{
 "cells": [
  {
   "cell_type": "code",
   "execution_count": 1,
   "metadata": {},
   "outputs": [],
   "source": [
    "import sys\n",
    "import numpy as np\n",
    "import cupy as cp\n",
    "\n",
    "sys.path.append('../')\n",
    "\n",
    "from mandala.nodecore import Node\n",
    "from mandala.nodecore import Variable\n",
    "from mandala.autodiff import autodiff\n",
    "from mandala.autodiff.linear import Linear\n",
    "from mandala.autodiff.relu import relu\n",
    "from mandala.autodiff import initializers\n",
    "from mandala import cuda"
   ]
  },
  {
   "cell_type": "code",
   "execution_count": 2,
   "metadata": {},
   "outputs": [],
   "source": [
    "from mandala.autodiff.under_development import basic_math_ho"
   ]
  },
  {
   "cell_type": "code",
   "execution_count": 3,
   "metadata": {},
   "outputs": [],
   "source": [
    "basic_math_ho.install_node_arithmetics()"
   ]
  },
  {
   "cell_type": "code",
   "execution_count": 4,
   "metadata": {},
   "outputs": [],
   "source": [
    "xp = cp"
   ]
  },
  {
   "cell_type": "code",
   "execution_count": 5,
   "metadata": {},
   "outputs": [],
   "source": [
    "def sum_forward(x):\n",
    "    xp = cuda.get_array_module(x)\n",
    "    return xp.sum(x)\n",
    "\n",
    "\n",
    "def sum_backward(x, gy):\n",
    "    xp = cuda.get_array_module(x)\n",
    "    return xp.ones_like(x) * gy\n",
    "\n",
    "\n",
    "class SumFunction(autodiff.AutoDiff):\n",
    "    def forward(self, xs):\n",
    "        x = xs[0]\n",
    "        y = Node(sum_forward, [x])\n",
    "        return y\n",
    "\n",
    "    def backward(self, xs, gy):\n",
    "        x = xs[0]\n",
    "        gx = Node(sum_backward, [x, gy])\n",
    "        return gx,\n",
    "\n",
    "\n",
    "def _sum(x):\n",
    "    return SumFunction()([x])"
   ]
  },
  {
   "cell_type": "code",
   "execution_count": 6,
   "metadata": {},
   "outputs": [],
   "source": [
    "l0 = Linear(   5, 1000)\n",
    "l1 = Linear(1000, 1000)\n",
    "l2 = Linear(1000, 1000)\n",
    "l3 = Linear(1000, 1000)\n",
    "l4 = Linear(1000, 1000)\n",
    "l5 = Linear(1000, 1000)\n",
    "l6 = Linear(1000,    3)\n",
    "\n",
    "layer_list = [l0, l1, l2, l3, l4, l5, l6]"
   ]
  },
  {
   "cell_type": "code",
   "execution_count": 7,
   "metadata": {},
   "outputs": [],
   "source": [
    "for l in layer_list:\n",
    "    l.to_gpu()"
   ]
  },
  {
   "cell_type": "code",
   "execution_count": 8,
   "metadata": {},
   "outputs": [],
   "source": [
    "# 真の係数\n",
    "W = xp.arange(15, dtype=np.float32).reshape(3, 5)\n",
    "b = xp.arange(3, dtype=np.float32)"
   ]
  },
  {
   "cell_type": "markdown",
   "metadata": {},
   "source": [
    "## test"
   ]
  },
  {
   "cell_type": "code",
   "execution_count": 9,
   "metadata": {},
   "outputs": [],
   "source": [
    "batchsize = 32\n",
    "x = Variable(xp.random.random((batchsize, 5)).astype(np.float32))\n",
    "t = Variable(xp.matmul(x.data, W.T) + b)"
   ]
  },
  {
   "cell_type": "code",
   "execution_count": 10,
   "metadata": {},
   "outputs": [],
   "source": [
    "h0 = relu(l0(x))\n",
    "h1 = relu(l1(h0))\n",
    "h2 = relu(l2(h1))\n",
    "h3 = relu(l3(h2))\n",
    "h4 = relu(l4(h3))\n",
    "h5 = relu(l5(h4))\n",
    "y  = relu(l6(h5))\n",
    "loss = (y - t) ** 2 / batchsize"
   ]
  },
  {
   "cell_type": "code",
   "execution_count": 11,
   "metadata": {},
   "outputs": [
    {
     "data": {
      "text/plain": [
       "1"
      ]
     },
     "execution_count": 11,
     "metadata": {},
     "output_type": "execute_result"
    }
   ],
   "source": [
    "h5._reference_count"
   ]
  },
  {
   "cell_type": "code",
   "execution_count": 12,
   "metadata": {},
   "outputs": [],
   "source": [
    "loss.backward()"
   ]
  },
  {
   "cell_type": "code",
   "execution_count": 13,
   "metadata": {},
   "outputs": [
    {
     "name": "stdout",
     "output_type": "stream",
     "text": [
      "3\n",
      "None\n",
      "2\n",
      "[[ 0.          0.          0.         ...,  0.12666433  0.76408011  0.        ]\n",
      " [ 0.55495471  0.          0.         ...,  0.88499862  0.36393264  0.        ]\n",
      " [ 0.54133213  0.          0.         ...,  1.10250103  0.15624939  0.        ]\n",
      " ..., \n",
      " [ 0.03998751  0.          0.         ...,  0.32125255  0.88836938  0.        ]\n",
      " [ 0.          0.          0.         ...,  0.26192448  1.36837471  0.        ]\n",
      " [ 0.16891342  0.          0.         ...,  0.25272056  0.17231254  0.        ]]\n",
      "2\n",
      "[[ 0.          0.          0.         ...,  0.12666433  0.76408011  0.        ]\n",
      " [ 0.55495471  0.          0.         ...,  0.88499862  0.36393264  0.        ]\n",
      " [ 0.54133213  0.          0.         ...,  1.10250103  0.15624939  0.        ]\n",
      " ..., \n",
      " [ 0.03998751  0.          0.         ...,  0.32125255  0.88836938  0.        ]\n",
      " [ 0.          0.          0.         ...,  0.26192448  1.36837471  0.        ]\n",
      " [ 0.16891342  0.          0.         ...,  0.25272056  0.17231254  0.        ]]\n",
      "2\n"
     ]
    }
   ],
   "source": [
    "print(h0._reference_count)\n",
    "print(h0._data)\n",
    "l0.b.grad.data\n",
    "\n",
    "print(h0._reference_count)\n",
    "print(h0._data)\n",
    "l1.W.grad.data\n",
    "\n",
    "print(h0._reference_count)\n",
    "print(h0._data)\n",
    "l2.W.grad.data\n",
    "\n",
    "print(h0._reference_count)"
   ]
  },
  {
   "cell_type": "markdown",
   "metadata": {},
   "source": [
    "## 学習"
   ]
  },
  {
   "cell_type": "code",
   "execution_count": 14,
   "metadata": {},
   "outputs": [],
   "source": [
    "import time"
   ]
  },
  {
   "cell_type": "code",
   "execution_count": 15,
   "metadata": {},
   "outputs": [
    {
     "name": "stdout",
     "output_type": "stream",
     "text": [
      "1629.709716796875\n",
      "1433.44189453125\n",
      "1263.68359375\n",
      "1458.7252197265625\n",
      "1375.1968994140625\n",
      "1187.2822265625\n",
      "1168.05322265625\n",
      "1099.1854248046875\n",
      "918.8353881835938\n",
      "913.2614135742188\n",
      "817.6146240234375\n",
      "850.6698608398438\n",
      "683.982666015625\n",
      "575.1829833984375\n",
      "602.7376708984375\n",
      "503.7901611328125\n",
      "399.8293762207031\n",
      "394.1236267089844\n",
      "272.1575927734375\n",
      "216.1071319580078\n",
      "151.84751892089844\n",
      "119.29740905761719\n",
      "86.51712036132812\n",
      "71.78948974609375\n",
      "62.75883483886719\n",
      "34.53779602050781\n",
      "31.21698570251465\n",
      "19.06456184387207\n",
      "13.076095581054688\n",
      "11.71542739868164\n",
      "9.851085662841797\n",
      "7.14787483215332\n",
      "4.554547309875488\n",
      "3.810123920440674\n",
      "6.4520263671875\n",
      "4.0052642822265625\n",
      "3.753199815750122\n",
      "4.13516902923584\n",
      "3.646177291870117\n",
      "2.514437198638916\n",
      "2.9052107334136963\n",
      "3.3988115787506104\n",
      "3.251530647277832\n",
      "2.6922383308410645\n",
      "1.9552860260009766\n",
      "3.2730531692504883\n",
      "3.1700549125671387\n",
      "3.40663480758667\n",
      "2.7090768814086914\n",
      "1.9420878887176514\n",
      "3.1146209239959717\n",
      "2.5617852210998535\n",
      "3.732339382171631\n",
      "2.2583436965942383\n",
      "3.5026397705078125\n",
      "1.7274692058563232\n",
      "2.566586971282959\n",
      "2.6380579471588135\n",
      "2.2487902641296387\n",
      "2.215181827545166\n",
      "2.6507880687713623\n",
      "4.050254821777344\n",
      "2.4806346893310547\n",
      "2.6460251808166504\n",
      "1.7794380187988281\n",
      "2.7524356842041016\n",
      "3.7730045318603516\n",
      "1.5102264881134033\n",
      "3.3515124320983887\n",
      "2.3216781616210938\n",
      "2.229907751083374\n",
      "2.287196397781372\n",
      "2.5233635902404785\n",
      "2.339719295501709\n",
      "2.192734479904175\n",
      "3.245173692703247\n",
      "2.1831483840942383\n",
      "2.001978874206543\n",
      "3.0006937980651855\n",
      "3.6866750717163086\n",
      "1.8693350553512573\n",
      "2.5399022102355957\n",
      "1.689113736152649\n",
      "1.489225149154663\n",
      "3.5096044540405273\n",
      "2.7216343879699707\n",
      "2.6068835258483887\n",
      "2.577889919281006\n",
      "2.4315316677093506\n",
      "1.7789881229400635\n",
      "2.5831351280212402\n",
      "2.8618946075439453\n",
      "2.078233003616333\n",
      "2.2371621131896973\n",
      "2.2677159309387207\n",
      "1.774219274520874\n",
      "1.9426512718200684\n",
      "2.240424394607544\n",
      "1.7788336277008057\n",
      "1.5567623376846313\n",
      "time: 0.5997998714447021\n"
     ]
    }
   ],
   "source": [
    "s = time.time()\n",
    "lr = 1e-5\n",
    "\n",
    "for i in range(100):\n",
    "    # make batch\n",
    "    x = Variable(xp.random.random((batchsize, 5)).astype(np.float32))\n",
    "    t = Variable(xp.matmul(x.data, W.T) + b)\n",
    "    \n",
    "    # forward\n",
    "    h0 = relu(l0(x))\n",
    "    h1 = relu(l1(h0))\n",
    "    h2 = relu(l2(h1))\n",
    "    h3 = relu(l3(h2))\n",
    "    h4 = relu(l4(h3))\n",
    "    h5 = relu(l5(h4))\n",
    "    y  = l6(h5)\n",
    "    loss = (y - t) ** 2 / batchsize\n",
    "\n",
    "    # loss\n",
    "    loss = _sum((y - t) ** 2) / batchsize\n",
    "    \n",
    "    for l in layer_list:\n",
    "        l.W.grad = 0\n",
    "        if l.b is not None:\n",
    "            l.b.grad = 0.\n",
    "\n",
    "    # backward\n",
    "    loss.backward()\n",
    "    \n",
    "    # update\n",
    "    for l in layer_list[::-1]:\n",
    "        l.W.data -= lr * l.W.grad.data\n",
    "        if l.b is not None:\n",
    "            l.b.data -= lr * l.b.grad.data\n",
    "\n",
    "    print(loss.data)\n",
    "\n",
    "print('time:', time.time() - s)"
   ]
  },
  {
   "cell_type": "markdown",
   "metadata": {},
   "source": [
    "## Chainer との速度比較"
   ]
  },
  {
   "cell_type": "code",
   "execution_count": 16,
   "metadata": {},
   "outputs": [],
   "source": [
    "import chainer\n",
    "import chainer.functions as F\n",
    "import chainer.links as L\n",
    "from chainer import optimizer"
   ]
  },
  {
   "cell_type": "code",
   "execution_count": null,
   "metadata": {},
   "outputs": [],
   "source": [
    "class Model(chainer.Chain):\n",
    "    def __init__(self):\n",
    "        super().__init__()\n",
    "        with self.init_scope():\n",
    "            self.l0 = L.Linear(   5, 1000)\n",
    "            self.l1 = L.Linear(1000, 1000)\n",
    "            self.l2 = L.Linear(1000, 1000)\n",
    "            self.l3 = L.Linear(1000, 1000)\n",
    "            self.l4 = L.Linear(1000, 1000)\n",
    "            self.l5 = L.Linear(1000, 1000)\n",
    "            self.l6 = L.Linear(1000,    3)\n",
    "\n",
    "    def __call__(self, x):\n",
    "        h  = F.relu(self.l0(x))\n",
    "        h  = F.relu(self.l1(h))\n",
    "        h  = F.relu(self.l2(h))\n",
    "        h  = F.relu(self.l3(h))\n",
    "        h  = F.relu(self.l4(h))\n",
    "        h  = F.relu(self.l5(h))\n",
    "        y  = self.l6(h)\n",
    "        return y"
   ]
  },
  {
   "cell_type": "code",
   "execution_count": null,
   "metadata": {},
   "outputs": [],
   "source": [
    "model = Model()\n",
    "model.to_gpu()"
   ]
  },
  {
   "cell_type": "code",
   "execution_count": 13,
   "metadata": {},
   "outputs": [
    {
     "ename": "NameError",
     "evalue": "name 'chainer' is not defined",
     "output_type": "error",
     "traceback": [
      "\u001b[0;31m---------------------------------------------------------------------------\u001b[0m",
      "\u001b[0;31mNameError\u001b[0m                                 Traceback (most recent call last)",
      "\u001b[0;32m<ipython-input-13-be1ffeb92fa4>\u001b[0m in \u001b[0;36m<module>\u001b[0;34m()\u001b[0m\n\u001b[0;32m----> 1\u001b[0;31m \u001b[0mopt\u001b[0m \u001b[0;34m=\u001b[0m \u001b[0mchainer\u001b[0m\u001b[0;34m.\u001b[0m\u001b[0moptimizers\u001b[0m\u001b[0;34m.\u001b[0m\u001b[0mSGD\u001b[0m\u001b[0;34m(\u001b[0m\u001b[0mlr\u001b[0m\u001b[0;34m=\u001b[0m\u001b[0;36m1e-4\u001b[0m\u001b[0;34m)\u001b[0m\u001b[0;34m\u001b[0m\u001b[0m\n\u001b[0m\u001b[1;32m      2\u001b[0m \u001b[0mopt\u001b[0m\u001b[0;34m.\u001b[0m\u001b[0msetup\u001b[0m\u001b[0;34m(\u001b[0m\u001b[0mmodel\u001b[0m\u001b[0;34m)\u001b[0m\u001b[0;34m\u001b[0m\u001b[0m\n",
      "\u001b[0;31mNameError\u001b[0m: name 'chainer' is not defined"
     ]
    }
   ],
   "source": [
    "opt = chainer.optimizers.SGD(lr=1e-4)\n",
    "opt.setup(model)"
   ]
  },
  {
   "cell_type": "code",
   "execution_count": 14,
   "metadata": {},
   "outputs": [
    {
     "ename": "NameError",
     "evalue": "name 'time' is not defined",
     "output_type": "error",
     "traceback": [
      "\u001b[0;31m---------------------------------------------------------------------------\u001b[0m",
      "\u001b[0;31mNameError\u001b[0m                                 Traceback (most recent call last)",
      "\u001b[0;32m<ipython-input-14-d9e3b63550ce>\u001b[0m in \u001b[0;36m<module>\u001b[0;34m()\u001b[0m\n\u001b[1;32m      1\u001b[0m \u001b[0mbatchsize\u001b[0m \u001b[0;34m=\u001b[0m \u001b[0;36m32\u001b[0m\u001b[0;34m\u001b[0m\u001b[0m\n\u001b[0;32m----> 2\u001b[0;31m \u001b[0ms\u001b[0m \u001b[0;34m=\u001b[0m \u001b[0mtime\u001b[0m\u001b[0;34m.\u001b[0m\u001b[0mtime\u001b[0m\u001b[0;34m(\u001b[0m\u001b[0;34m)\u001b[0m\u001b[0;34m\u001b[0m\u001b[0m\n\u001b[0m\u001b[1;32m      3\u001b[0m \u001b[0;34m\u001b[0m\u001b[0m\n\u001b[1;32m      4\u001b[0m \u001b[0;32mfor\u001b[0m \u001b[0mi\u001b[0m \u001b[0;32min\u001b[0m \u001b[0mrange\u001b[0m\u001b[0;34m(\u001b[0m\u001b[0;36m100\u001b[0m\u001b[0;34m)\u001b[0m\u001b[0;34m:\u001b[0m\u001b[0;34m\u001b[0m\u001b[0m\n\u001b[1;32m      5\u001b[0m     \u001b[0;31m# make batch\u001b[0m\u001b[0;34m\u001b[0m\u001b[0;34m\u001b[0m\u001b[0m\n",
      "\u001b[0;31mNameError\u001b[0m: name 'time' is not defined"
     ]
    }
   ],
   "source": [
    "batchsize = 32\n",
    "s = time.time()\n",
    "\n",
    "for i in range(100):\n",
    "    # make batch\n",
    "    x = xp.random.random((batchsize, 5)).astype(np.float32)\n",
    "    t = xp.matmul(x, W.T) + b\n",
    "    \n",
    "    # forward\n",
    "    y = model(x)\n",
    "\n",
    "    # loss\n",
    "    loss = F.mean_squared_error(y, t)\n",
    "\n",
    "    # backward\n",
    "    model.cleargrads()\n",
    "    loss.backward()\n",
    "    \n",
    "    # update\n",
    "    opt.update()\n",
    "\n",
    "    print(loss.data)\n",
    "\n",
    "print(time.time() - s)"
   ]
  },
  {
   "cell_type": "code",
   "execution_count": 21,
   "metadata": {},
   "outputs": [
    {
     "data": {
      "text/plain": [
       "1.9415384027439404"
      ]
     },
     "execution_count": 21,
     "metadata": {},
     "output_type": "execute_result"
    }
   ],
   "source": [
    "0.3876018524169922 / 0.19963645935058594"
   ]
  },
  {
   "cell_type": "code",
   "execution_count": 22,
   "metadata": {},
   "outputs": [
    {
     "data": {
      "text/plain": [
       "2.7228536962537975"
      ]
     },
     "execution_count": 22,
     "metadata": {},
     "output_type": "execute_result"
    }
   ],
   "source": [
    "1.584319829940796 / 0.5818600654602051"
   ]
  },
  {
   "cell_type": "markdown",
   "metadata": {},
   "source": [
    "Chainer の 2.7 倍の計算時間がかかっている……\n",
    "\n",
    "推論に限定しても 1.9 倍。"
   ]
  },
  {
   "cell_type": "code",
   "execution_count": 23,
   "metadata": {},
   "outputs": [
    {
     "name": "stdout",
     "output_type": "stream",
     "text": [
      "394 ns ± 0.249 ns per loop (mean ± std. dev. of 7 runs, 1000000 loops each)\n"
     ]
    }
   ],
   "source": [
    "%%timeit\n",
    "cuda.get_array_module(W)"
   ]
  },
  {
   "cell_type": "code",
   "execution_count": 24,
   "metadata": {},
   "outputs": [],
   "source": [
    "W = xp.arange(15, dtype=np.float32).reshape(3, 5)\n",
    "b = xp.arange(3, dtype=np.float32)"
   ]
  },
  {
   "cell_type": "code",
   "execution_count": 25,
   "metadata": {},
   "outputs": [],
   "source": [
    "x = Variable(xp.random.random((batchsize, 5)).astype(np.float32))\n",
    "t = Variable(xp.matmul(x.data, W.T) + b)"
   ]
  },
  {
   "cell_type": "code",
   "execution_count": 26,
   "metadata": {},
   "outputs": [
    {
     "name": "stdout",
     "output_type": "stream",
     "text": [
      "1.37 ms ± 2.01 µs per loop (mean ± std. dev. of 7 runs, 1000 loops each)\n"
     ]
    }
   ],
   "source": [
    "%%timeit\n",
    "x = Variable(xp.random.random((batchsize, 5)).astype(np.float32))\n",
    "t = Variable(xp.matmul(x.data, W.T) + b)\n",
    "h0 = l0(x)\n",
    "h1 = l1(h0)\n",
    "h2 = l2(h1)\n",
    "h3 = l3(h2)\n",
    "h4 = l4(h3)\n",
    "h5 = l5(h4)\n",
    "y  = l6(h5)\n",
    "y.data.get()"
   ]
  },
  {
   "cell_type": "code",
   "execution_count": 27,
   "metadata": {},
   "outputs": [],
   "source": [
    "x = xp.random.random((batchsize, 5)).astype(np.float32)\n",
    "t = xp.matmul(x, W.T) + b"
   ]
  },
  {
   "cell_type": "code",
   "execution_count": 28,
   "metadata": {},
   "outputs": [
    {
     "name": "stdout",
     "output_type": "stream",
     "text": [
      "2.05 ms ± 16.2 µs per loop (mean ± std. dev. of 7 runs, 100 loops each)\n"
     ]
    }
   ],
   "source": [
    "%%timeit\n",
    "x = xp.random.random((batchsize, 5)).astype(np.float32)\n",
    "t = xp.matmul(x, W.T) + b\n",
    "\n",
    "y = model(x)\n",
    "y.data.get()"
   ]
  },
  {
   "cell_type": "markdown",
   "metadata": {},
   "source": [
    "Chainer よりほんのちょっと早くなった（type check などやっていないせいかな。）"
   ]
  },
  {
   "cell_type": "code",
   "execution_count": 29,
   "metadata": {},
   "outputs": [
    {
     "data": {
      "text/plain": [
       "2"
      ]
     },
     "execution_count": 29,
     "metadata": {},
     "output_type": "execute_result"
    }
   ],
   "source": [
    "cp.cuda.cudnn.CUDNN_ACTIVATION_TANH"
   ]
  },
  {
   "cell_type": "code",
   "execution_count": 30,
   "metadata": {},
   "outputs": [
    {
     "data": {
      "text/plain": [
       "<module 'cupy.cuda.cudnn' from '/home/ubuntu/anaconda3/lib/python3.6/site-packages/cupy/cuda/cudnn.cpython-36m-x86_64-linux-gnu.so'>"
      ]
     },
     "execution_count": 30,
     "metadata": {},
     "output_type": "execute_result"
    }
   ],
   "source": [
    "cp.cuda.cudnn"
   ]
  },
  {
   "cell_type": "code",
   "execution_count": null,
   "metadata": {},
   "outputs": [],
   "source": []
  }
 ],
 "metadata": {
  "kernelspec": {
   "display_name": "Python 3",
   "language": "python",
   "name": "python3"
  },
  "language_info": {
   "codemirror_mode": {
    "name": "ipython",
    "version": 3
   },
   "file_extension": ".py",
   "mimetype": "text/x-python",
   "name": "python",
   "nbconvert_exporter": "python",
   "pygments_lexer": "ipython3",
   "version": "3.6.3"
  }
 },
 "nbformat": 4,
 "nbformat_minor": 2
}
