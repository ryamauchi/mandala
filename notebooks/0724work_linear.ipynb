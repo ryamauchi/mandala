{
 "cells": [
  {
   "cell_type": "code",
   "execution_count": 1,
   "metadata": {},
   "outputs": [],
   "source": [
    "import sys\n",
    "import numpy as np\n",
    "import cupy as cp\n",
    "\n",
    "sys.path.append('../')\n",
    "\n",
    "from mandala.nodecore import Node\n",
    "from mandala.nodecore import Variable\n",
    "from mandala.autodiff import autodiff\n",
    "from mandala.autodiff.linear import Linear\n",
    "from mandala.autodiff import initializers\n",
    "from mandala import cuda"
   ]
  },
  {
   "cell_type": "code",
   "execution_count": 2,
   "metadata": {},
   "outputs": [],
   "source": [
    "xp = cp"
   ]
  },
  {
   "cell_type": "code",
   "execution_count": 3,
   "metadata": {},
   "outputs": [],
   "source": [
    "def sum_forward(x):\n",
    "    xp = cuda.get_array_module(x)\n",
    "    return xp.sum(x)\n",
    "\n",
    "\n",
    "def sum_backward(x, gy):\n",
    "    xp = cuda.get_array_module(x)\n",
    "    return xp.ones_like(x) * gy\n",
    "\n",
    "\n",
    "class SumFunction(autodiff.AutoDiff):\n",
    "    def forward(self, xs):\n",
    "        x = xs[0]\n",
    "        y = Node(sum_forward, [x])\n",
    "        return y\n",
    "\n",
    "    def backward(self, xs, gy):\n",
    "        x = xs[0]\n",
    "        gx = Node(sum_backward, [x, gy])\n",
    "        return gx,\n",
    "\n",
    "\n",
    "def _sum(x):\n",
    "    return SumFunction()([x])"
   ]
  },
  {
   "cell_type": "code",
   "execution_count": 40,
   "metadata": {},
   "outputs": [],
   "source": [
    "l0 = Linear(   5, 1000)\n",
    "l1 = Linear(1000, 1000)\n",
    "l2 = Linear(1000, 1000)\n",
    "l3 = Linear(1000, 1000)\n",
    "l4 = Linear(1000, 1000)\n",
    "l5 = Linear(1000, 1000)\n",
    "l6 = Linear(1000,    3)\n",
    "\n",
    "layer_list = [l0, l1, l2, l3, l4, l5, l6]"
   ]
  },
  {
   "cell_type": "code",
   "execution_count": 41,
   "metadata": {},
   "outputs": [],
   "source": [
    "for l in layer_list:\n",
    "    l.to_gpu()"
   ]
  },
  {
   "cell_type": "code",
   "execution_count": 42,
   "metadata": {},
   "outputs": [],
   "source": [
    "# 真の係数\n",
    "W = xp.arange(15, dtype=np.float32).reshape(3, 5)\n",
    "b = xp.arange(3, dtype=np.float32)"
   ]
  },
  {
   "cell_type": "markdown",
   "metadata": {},
   "source": [
    "## test"
   ]
  },
  {
   "cell_type": "code",
   "execution_count": 7,
   "metadata": {},
   "outputs": [],
   "source": [
    "batchsize = 32\n",
    "x = Variable(cp.random.random((batchsize, 5)).astype(np.float32))\n",
    "t = Variable(cp.matmul(x.data, W.T) + b)"
   ]
  },
  {
   "cell_type": "code",
   "execution_count": 8,
   "metadata": {},
   "outputs": [],
   "source": [
    "h0 = l0(x)\n",
    "h1 = l1(h0)\n",
    "h2 = l2(h1)\n",
    "h3 = l3(h2)\n",
    "h4 = l4(h3)\n",
    "h5 = l5(h4)\n",
    "y  = l6(h5)\n",
    "loss = (y - t) ** 2 / batchsize"
   ]
  },
  {
   "cell_type": "code",
   "execution_count": 9,
   "metadata": {},
   "outputs": [],
   "source": [
    "loss.backward()"
   ]
  },
  {
   "cell_type": "code",
   "execution_count": 10,
   "metadata": {},
   "outputs": [
    {
     "name": "stdout",
     "output_type": "stream",
     "text": [
      "2\n",
      "None\n",
      "1\n",
      "[[-1.45269883 -1.14134967  0.40837008 ..., -0.28470078  0.76509279\n",
      "   0.19574267]\n",
      " [-0.99341041  0.94193918  1.17227781 ..., -1.48845172  1.69526696\n",
      "  -0.0106365 ]\n",
      " [-0.7119956  -1.23975325  0.83523363 ..., -0.19874306  1.32450438\n",
      "  -0.20664756]\n",
      " ..., \n",
      " [-0.72323817 -1.85495985  0.12650588 ...,  0.74108309  0.13316025\n",
      "   0.35768634]\n",
      " [-1.39501119 -1.93006849  0.48279673 ...,  0.29560131  0.653211\n",
      "   0.36548492]\n",
      " [-1.17374861 -1.7825135   1.00569379 ...,  0.08792435  0.80141807\n",
      "  -0.23789522]]\n",
      "0\n",
      "None\n",
      "0\n"
     ]
    }
   ],
   "source": [
    "print(h0._reference_count)\n",
    "print(h0._data)\n",
    "l0.b.grad.data\n",
    "\n",
    "print(h0._reference_count)\n",
    "print(h0._data)\n",
    "l1.W.grad.data\n",
    "\n",
    "print(h0._reference_count)\n",
    "print(h0._data)\n",
    "l2.W.grad.data\n",
    "\n",
    "print(h0._reference_count)"
   ]
  },
  {
   "cell_type": "markdown",
   "metadata": {},
   "source": [
    "## 学習"
   ]
  },
  {
   "cell_type": "code",
   "execution_count": 12,
   "metadata": {},
   "outputs": [],
   "source": [
    "import time"
   ]
  },
  {
   "cell_type": "code",
   "execution_count": 20,
   "metadata": {},
   "outputs": [
    {
     "name": "stdout",
     "output_type": "stream",
     "text": [
      "1022.7572021484375\n",
      "974.2899169921875\n",
      "644.5301513671875\n",
      "373.63812255859375\n",
      "257.5555114746094\n",
      "189.54306030273438\n",
      "164.09173583984375\n",
      "132.56117248535156\n",
      "118.82176208496094\n",
      "76.20274353027344\n",
      "62.10357666015625\n",
      "69.38015747070312\n",
      "43.59333801269531\n",
      "30.510448455810547\n",
      "42.937278747558594\n",
      "33.311737060546875\n",
      "37.1468391418457\n",
      "33.093849182128906\n",
      "29.00464630126953\n",
      "28.886247634887695\n",
      "29.530941009521484\n",
      "24.751270294189453\n",
      "29.86236572265625\n",
      "21.546585083007812\n",
      "35.712520599365234\n",
      "23.965333938598633\n",
      "26.268512725830078\n",
      "25.813737869262695\n",
      "20.795028686523438\n",
      "19.924579620361328\n",
      "24.809545516967773\n",
      "16.80914306640625\n",
      "23.0338191986084\n",
      "19.310558319091797\n",
      "23.546424865722656\n",
      "20.26229476928711\n",
      "21.46619987487793\n",
      "18.038280487060547\n",
      "19.623844146728516\n",
      "16.68825912475586\n",
      "21.560611724853516\n",
      "17.24473762512207\n",
      "18.96063995361328\n",
      "13.776128768920898\n",
      "16.683149337768555\n",
      "13.212377548217773\n",
      "19.090614318847656\n",
      "15.614459991455078\n",
      "13.525449752807617\n",
      "16.461498260498047\n",
      "13.263801574707031\n",
      "10.483776092529297\n",
      "15.686051368713379\n",
      "15.336315155029297\n",
      "14.01800537109375\n",
      "11.60630989074707\n",
      "13.131858825683594\n",
      "11.640979766845703\n",
      "13.428592681884766\n",
      "9.208170890808105\n",
      "12.750770568847656\n",
      "10.793429374694824\n",
      "11.265104293823242\n",
      "14.236984252929688\n",
      "7.264576435089111\n",
      "8.596918106079102\n",
      "9.121256828308105\n",
      "6.522106170654297\n",
      "9.852230072021484\n",
      "7.256278991699219\n",
      "12.050276756286621\n",
      "8.393536567687988\n",
      "8.791420936584473\n",
      "5.366252899169922\n",
      "6.071199417114258\n",
      "6.141768455505371\n",
      "5.807389259338379\n",
      "7.479006767272949\n",
      "6.618587017059326\n",
      "5.379197597503662\n",
      "7.649600028991699\n",
      "6.759329319000244\n",
      "5.423918724060059\n",
      "6.008615493774414\n",
      "5.001886367797852\n",
      "4.674219608306885\n",
      "5.912772178649902\n",
      "4.9815778732299805\n",
      "4.247270584106445\n",
      "4.708126068115234\n",
      "5.505179405212402\n",
      "4.51105260848999\n",
      "5.781510353088379\n",
      "4.610775470733643\n",
      "4.080265045166016\n",
      "4.428895950317383\n",
      "5.090787887573242\n",
      "3.4647905826568604\n",
      "3.6143789291381836\n",
      "3.5787484645843506\n",
      "time: 1.6975350379943848\n"
     ]
    }
   ],
   "source": [
    "s = time.time()\n",
    "lr = 1e-6\n",
    "\n",
    "for i in range(100):\n",
    "    # make batch\n",
    "    x = Variable(xp.random.random((batchsize, 5)).astype(np.float32))\n",
    "    t = Variable(xp.matmul(x.data, W.T) + b)\n",
    "    \n",
    "    # forward\n",
    "    h0 = l0(x)\n",
    "    h1 = l1(h0)\n",
    "    h2 = l2(h1)\n",
    "    h3 = l3(h2)\n",
    "    h4 = l4(h3)\n",
    "    h5 = l5(h4)\n",
    "    y  = l6(h5)\n",
    "    loss = (y - t) ** 2 / batchsize\n",
    "\n",
    "    # loss\n",
    "    loss = _sum((y - t) ** 2) / batchsize\n",
    "    \n",
    "    for l in layer_list:\n",
    "        l.W.grad = 0\n",
    "        if l.b is not None:\n",
    "            l.b.grad = 0.\n",
    "\n",
    "    # backward\n",
    "    loss.backward()\n",
    "    \n",
    "    # update\n",
    "    for l in layer_list:\n",
    "        l.W.data -= lr * l.W.grad.data\n",
    "        if l.b is not None:\n",
    "            l.b.data -= lr * l.b.grad.data\n",
    "\n",
    "    print(loss.data)\n",
    "\n",
    "print('time:', time.time() - s)"
   ]
  },
  {
   "cell_type": "markdown",
   "metadata": {},
   "source": [
    "## Chainer との速度比較"
   ]
  },
  {
   "cell_type": "code",
   "execution_count": 14,
   "metadata": {},
   "outputs": [],
   "source": [
    "import chainer\n",
    "import chainer.functions as F\n",
    "import chainer.links as L\n",
    "from chainer import optimizer"
   ]
  },
  {
   "cell_type": "code",
   "execution_count": 15,
   "metadata": {},
   "outputs": [],
   "source": [
    "class Model(chainer.Chain):\n",
    "    def __init__(self):\n",
    "        super().__init__()\n",
    "        with self.init_scope():\n",
    "            self.l0 = L.Linear(   5, 1000)\n",
    "            self.l1 = L.Linear(1000, 1000)\n",
    "            self.l2 = L.Linear(1000, 1000)\n",
    "            self.l3 = L.Linear(1000, 1000)\n",
    "            self.l4 = L.Linear(1000, 1000)\n",
    "            self.l5 = L.Linear(1000, 1000)\n",
    "            self.l6 = L.Linear(1000,    3)\n",
    "\n",
    "    def __call__(self, x):\n",
    "        h  = self.l0(x)\n",
    "        h  = self.l1(h)\n",
    "        h  = self.l2(h)\n",
    "        h  = self.l3(h)\n",
    "        h  = self.l4(h)\n",
    "        h  = self.l5(h)\n",
    "        y  = self.l6(h)\n",
    "        return y"
   ]
  },
  {
   "cell_type": "code",
   "execution_count": 16,
   "metadata": {},
   "outputs": [
    {
     "data": {
      "text/plain": [
       "<__main__.Model at 0x7fb453d40c88>"
      ]
     },
     "execution_count": 16,
     "metadata": {},
     "output_type": "execute_result"
    }
   ],
   "source": [
    "model = Model()\n",
    "model.to_gpu()"
   ]
  },
  {
   "cell_type": "code",
   "execution_count": 17,
   "metadata": {},
   "outputs": [
    {
     "data": {
      "text/plain": [
       "<chainer.optimizers.sgd.SGD at 0x7fb453cc9d68>"
      ]
     },
     "execution_count": 17,
     "metadata": {},
     "output_type": "execute_result"
    }
   ],
   "source": [
    "opt = chainer.optimizers.SGD(lr=1e-4)\n",
    "opt.setup(model)"
   ]
  },
  {
   "cell_type": "code",
   "execution_count": 21,
   "metadata": {},
   "outputs": [
    {
     "name": "stdout",
     "output_type": "stream",
     "text": [
      "505.6922912597656\n",
      "377.7620544433594\n",
      "306.7679748535156\n",
      "232.7377471923828\n",
      "153.09405517578125\n",
      "115.99675750732422\n",
      "45.89982223510742\n",
      "11.542582511901855\n",
      "2.639256238937378\n",
      "0.7446701526641846\n",
      "0.5373705625534058\n",
      "0.5749110579490662\n",
      "0.3841663897037506\n",
      "0.5908631682395935\n",
      "0.6780630946159363\n",
      "0.5003799796104431\n",
      "0.5126085877418518\n",
      "0.34513425827026367\n",
      "0.3841787874698639\n",
      "0.45766568183898926\n",
      "0.3691488206386566\n",
      "0.3792717456817627\n",
      "0.3119562566280365\n",
      "0.4458272457122803\n",
      "0.3733067512512207\n",
      "0.28308025002479553\n",
      "0.31647855043411255\n",
      "0.5060803294181824\n",
      "0.44729065895080566\n",
      "0.26748839020729065\n",
      "0.2679491937160492\n",
      "0.43642210960388184\n",
      "0.27527356147766113\n",
      "0.3281126618385315\n",
      "0.3682795464992523\n",
      "0.29757025837898254\n",
      "0.3379487097263336\n",
      "0.278115838766098\n",
      "0.1977410465478897\n",
      "0.302072674036026\n",
      "0.29780301451683044\n",
      "0.31758785247802734\n",
      "0.24617637693881989\n",
      "0.31168970465660095\n",
      "0.2683892548084259\n",
      "0.22383351624011993\n",
      "0.261991024017334\n",
      "0.280195951461792\n",
      "0.25830817222595215\n",
      "0.20409195125102997\n",
      "0.22746340930461884\n",
      "0.20843298733234406\n",
      "0.2421640157699585\n",
      "0.2613634765148163\n",
      "0.24955148994922638\n",
      "0.23629488050937653\n",
      "0.23547284305095673\n",
      "0.20973044633865356\n",
      "0.21133200824260712\n",
      "0.23939169943332672\n",
      "0.18825499713420868\n",
      "0.24237655103206635\n",
      "0.1746727079153061\n",
      "0.2317539006471634\n",
      "0.20800717175006866\n",
      "0.22457844018936157\n",
      "0.24800632894039154\n",
      "0.21607129275798798\n",
      "0.1915748566389084\n",
      "0.1908009797334671\n",
      "0.1616840958595276\n",
      "0.15945057570934296\n",
      "0.16592423617839813\n",
      "0.2217029482126236\n",
      "0.1660829782485962\n",
      "0.16957597434520721\n",
      "0.19137175381183624\n",
      "0.124366395175457\n",
      "0.18257959187030792\n",
      "0.17567865550518036\n",
      "0.1855274885892868\n",
      "0.18381266295909882\n",
      "0.16901959478855133\n",
      "0.22698108851909637\n",
      "0.15460121631622314\n",
      "0.13226430118083954\n",
      "0.16989928483963013\n",
      "0.23346400260925293\n",
      "0.17642028629779816\n",
      "0.15588434040546417\n",
      "0.14457032084465027\n",
      "0.17693759500980377\n",
      "0.15016646683216095\n",
      "0.1378566473722458\n",
      "0.1204737201333046\n",
      "0.15886344015598297\n",
      "0.11755048483610153\n",
      "0.1526564508676529\n",
      "0.1420598030090332\n",
      "0.1919405609369278\n",
      "0.5412869453430176\n"
     ]
    }
   ],
   "source": [
    "batchsize = 32\n",
    "s = time.time()\n",
    "\n",
    "for i in range(100):\n",
    "    # make batch\n",
    "    x = xp.random.random((batchsize, 5)).astype(np.float32)\n",
    "    t = xp.matmul(x, W.T) + b\n",
    "    \n",
    "    # forward\n",
    "    y = model(x)\n",
    "\n",
    "    # loss\n",
    "    loss = F.mean_squared_error(y, t)\n",
    "\n",
    "    # backward\n",
    "    model.cleargrads()\n",
    "    loss.backward()\n",
    "    \n",
    "    # update\n",
    "    opt.update()\n",
    "\n",
    "    print(loss.data)\n",
    "\n",
    "print(time.time() - s)"
   ]
  },
  {
   "cell_type": "code",
   "execution_count": 19,
   "metadata": {},
   "outputs": [
    {
     "data": {
      "text/plain": [
       "1.9415384027439404"
      ]
     },
     "execution_count": 19,
     "metadata": {},
     "output_type": "execute_result"
    }
   ],
   "source": [
    "0.3876018524169922 / 0.19963645935058594"
   ]
  },
  {
   "cell_type": "code",
   "execution_count": 18,
   "metadata": {},
   "outputs": [
    {
     "data": {
      "text/plain": [
       "2.7228536962537975"
      ]
     },
     "execution_count": 18,
     "metadata": {},
     "output_type": "execute_result"
    }
   ],
   "source": [
    "1.584319829940796 / 0.5818600654602051"
   ]
  },
  {
   "cell_type": "markdown",
   "metadata": {},
   "source": [
    "Chainer の 2.7 倍の計算時間がかかっている……\n",
    "\n",
    "推論に限定しても 1.9 倍。"
   ]
  },
  {
   "cell_type": "code",
   "execution_count": 22,
   "metadata": {},
   "outputs": [
    {
     "name": "stdout",
     "output_type": "stream",
     "text": [
      "398 ns ± 0.139 ns per loop (mean ± std. dev. of 7 runs, 1000000 loops each)\n"
     ]
    }
   ],
   "source": [
    "%%timeit\n",
    "cuda.get_array_module(W)"
   ]
  },
  {
   "cell_type": "code",
   "execution_count": 48,
   "metadata": {},
   "outputs": [],
   "source": [
    "W = xp.arange(15, dtype=np.float32).reshape(3, 5)\n",
    "b = xp.arange(3, dtype=np.float32)"
   ]
  },
  {
   "cell_type": "code",
   "execution_count": 49,
   "metadata": {},
   "outputs": [],
   "source": [
    "x = Variable(xp.random.random((batchsize, 5)).astype(np.float32))\n",
    "t = Variable(xp.matmul(x.data, W.T) + b)"
   ]
  },
  {
   "cell_type": "code",
   "execution_count": 55,
   "metadata": {},
   "outputs": [
    {
     "name": "stdout",
     "output_type": "stream",
     "text": [
      "2.72 ms ± 114 µs per loop (mean ± std. dev. of 7 runs, 100 loops each)\n"
     ]
    }
   ],
   "source": [
    "%%timeit\n",
    "x = Variable(xp.random.random((batchsize, 5)).astype(np.float32))\n",
    "t = Variable(xp.matmul(x.data, W.T) + b)\n",
    "h0 = l0(x)\n",
    "h1 = l1(h0)\n",
    "h2 = l2(h1)\n",
    "h3 = l3(h2)\n",
    "h4 = l4(h3)\n",
    "h5 = l5(h4)\n",
    "y  = l6(h5)\n",
    "y.data.get()"
   ]
  },
  {
   "cell_type": "code",
   "execution_count": 57,
   "metadata": {},
   "outputs": [],
   "source": [
    "x = xp.random.random((batchsize, 5)).astype(np.float32)\n",
    "t = xp.matmul(x, W.T) + b"
   ]
  },
  {
   "cell_type": "code",
   "execution_count": 60,
   "metadata": {},
   "outputs": [
    {
     "name": "stdout",
     "output_type": "stream",
     "text": [
      "1.42 ms ± 768 ns per loop (mean ± std. dev. of 7 runs, 1000 loops each)\n"
     ]
    }
   ],
   "source": [
    "%%timeit\n",
    "x = xp.random.random((batchsize, 5)).astype(np.float32)\n",
    "t = xp.matmul(x, W.T) + b\n",
    "\n",
    "y = model(x)\n",
    "y.data.get()"
   ]
  },
  {
   "cell_type": "code",
   "execution_count": null,
   "metadata": {},
   "outputs": [],
   "source": []
  }
 ],
 "metadata": {
  "kernelspec": {
   "display_name": "Python 3",
   "language": "python",
   "name": "python3"
  },
  "language_info": {
   "codemirror_mode": {
    "name": "ipython",
    "version": 3
   },
   "file_extension": ".py",
   "mimetype": "text/x-python",
   "name": "python",
   "nbconvert_exporter": "python",
   "pygments_lexer": "ipython3",
   "version": "3.6.3"
  }
 },
 "nbformat": 4,
 "nbformat_minor": 2
}
