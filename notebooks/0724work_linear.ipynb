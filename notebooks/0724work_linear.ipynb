{
 "cells": [
  {
   "cell_type": "code",
   "execution_count": 1,
   "metadata": {},
   "outputs": [],
   "source": [
    "import sys\n",
    "import numpy as np\n",
    "import cupy as cp\n",
    "\n",
    "sys.path.append('../')\n",
    "\n",
    "from mandala.nodecore import Node\n",
    "from mandala.nodecore import Variable\n",
    "from mandala.autodiff import autodiff\n",
    "from mandala.autodiff.linear import Linear\n",
    "from mandala.autodiff.relu import relu\n",
    "from mandala.autodiff import initializers\n",
    "from mandala import cuda"
   ]
  },
  {
   "cell_type": "code",
   "execution_count": 2,
   "metadata": {},
   "outputs": [],
   "source": [
    "xp = np"
   ]
  },
  {
   "cell_type": "code",
   "execution_count": 3,
   "metadata": {},
   "outputs": [],
   "source": [
    "def sum_forward(x):\n",
    "    xp = cuda.get_array_module(x)\n",
    "    return xp.sum(x)\n",
    "\n",
    "\n",
    "def sum_backward(x, gy):\n",
    "    xp = cuda.get_array_module(x)\n",
    "    return xp.ones_like(x) * gy\n",
    "\n",
    "\n",
    "class SumFunction(autodiff.AutoDiff):\n",
    "    def forward(self, xs):\n",
    "        x = xs[0]\n",
    "        y = Node(sum_forward, [x])\n",
    "        return y\n",
    "\n",
    "    def backward(self, xs, gy):\n",
    "        x = xs[0]\n",
    "        gx = Node(sum_backward, [x, gy])\n",
    "        return gx,\n",
    "\n",
    "\n",
    "def _sum(x):\n",
    "    return SumFunction()([x])"
   ]
  },
  {
   "cell_type": "code",
   "execution_count": 4,
   "metadata": {},
   "outputs": [],
   "source": [
    "l0 = Linear(   5, 1000)\n",
    "l1 = Linear(1000, 1000)\n",
    "l2 = Linear(1000, 1000)\n",
    "l3 = Linear(1000, 1000)\n",
    "l4 = Linear(1000, 1000)\n",
    "l5 = Linear(1000, 1000)\n",
    "l6 = Linear(1000,    3)\n",
    "\n",
    "layer_list = [l0, l1, l2, l3, l4, l5, l6]"
   ]
  },
  {
   "cell_type": "code",
   "execution_count": 8,
   "metadata": {},
   "outputs": [],
   "source": [
    "for l in layer_list:\n",
    "    l.to_cpu()"
   ]
  },
  {
   "cell_type": "code",
   "execution_count": 9,
   "metadata": {},
   "outputs": [],
   "source": [
    "# 真の係数\n",
    "W = xp.arange(15, dtype=np.float32).reshape(3, 5)\n",
    "b = xp.arange(3, dtype=np.float32)"
   ]
  },
  {
   "cell_type": "markdown",
   "metadata": {},
   "source": [
    "## test"
   ]
  },
  {
   "cell_type": "code",
   "execution_count": 11,
   "metadata": {},
   "outputs": [],
   "source": [
    "batchsize = 32\n",
    "x = Variable(xp.random.random((batchsize, 5)).astype(np.float32))\n",
    "t = Variable(xp.matmul(x.data, W.T) + b)"
   ]
  },
  {
   "cell_type": "code",
   "execution_count": 12,
   "metadata": {},
   "outputs": [],
   "source": [
    "h0 = relu(l0(x))\n",
    "h1 = relu(l1(h0))\n",
    "h2 = relu(l2(h1))\n",
    "h3 = relu(l3(h2))\n",
    "h4 = relu(l4(h3))\n",
    "h5 = relu(l5(h4))\n",
    "y  = relu(l6(h5))\n",
    "loss = (y - t) ** 2 / batchsize"
   ]
  },
  {
   "cell_type": "code",
   "execution_count": 13,
   "metadata": {},
   "outputs": [
    {
     "data": {
      "text/plain": [
       "1"
      ]
     },
     "execution_count": 13,
     "metadata": {},
     "output_type": "execute_result"
    }
   ],
   "source": [
    "h5._reference_count"
   ]
  },
  {
   "cell_type": "code",
   "execution_count": 14,
   "metadata": {},
   "outputs": [],
   "source": [
    "loss.backward()"
   ]
  },
  {
   "cell_type": "code",
   "execution_count": 15,
   "metadata": {},
   "outputs": [
    {
     "name": "stdout",
     "output_type": "stream",
     "text": [
      "3\n",
      "None\n",
      "2\n",
      "[[ 0.          0.          0.         ...,  1.30759203  0.          0.01450732]\n",
      " [ 0.4096289   0.          0.92056292 ...,  1.122908    0.          0.14405206]\n",
      " [ 0.41204247  0.          1.06728971 ...,  1.48688972  0.          0.        ]\n",
      " ..., \n",
      " [ 0.45349318  0.          1.29238796 ...,  0.95312977  0.          0.37512371]\n",
      " [ 0.0862558   0.          0.26748317 ...,  0.64024949  0.          0.        ]\n",
      " [ 0.51119685  0.          1.18466616 ...,  1.47835171  0.          0.        ]]\n",
      "2\n",
      "[[ 0.          0.          0.         ...,  1.30759203  0.          0.01450732]\n",
      " [ 0.4096289   0.          0.92056292 ...,  1.122908    0.          0.14405206]\n",
      " [ 0.41204247  0.          1.06728971 ...,  1.48688972  0.          0.        ]\n",
      " ..., \n",
      " [ 0.45349318  0.          1.29238796 ...,  0.95312977  0.          0.37512371]\n",
      " [ 0.0862558   0.          0.26748317 ...,  0.64024949  0.          0.        ]\n",
      " [ 0.51119685  0.          1.18466616 ...,  1.47835171  0.          0.        ]]\n",
      "2\n"
     ]
    }
   ],
   "source": [
    "print(h0._reference_count)\n",
    "print(h0._data)\n",
    "l0.b.grad.data\n",
    "\n",
    "print(h0._reference_count)\n",
    "print(h0._data)\n",
    "l1.W.grad.data\n",
    "\n",
    "print(h0._reference_count)\n",
    "print(h0._data)\n",
    "l2.W.grad.data\n",
    "\n",
    "print(h0._reference_count)"
   ]
  },
  {
   "cell_type": "markdown",
   "metadata": {},
   "source": [
    "## 学習"
   ]
  },
  {
   "cell_type": "code",
   "execution_count": 16,
   "metadata": {},
   "outputs": [],
   "source": [
    "import time"
   ]
  },
  {
   "cell_type": "code",
   "execution_count": 17,
   "metadata": {},
   "outputs": [
    {
     "name": "stdout",
     "output_type": "stream",
     "text": [
      "1425.75561523\n",
      "1666.04833984\n",
      "1266.38574219\n",
      "1243.77563477\n",
      "1437.87182617\n",
      "1087.68701172\n",
      "1104.49267578\n",
      "900.745117188\n",
      "896.819641113\n",
      "896.51184082\n",
      "921.512695312\n",
      "873.22668457\n",
      "730.631835938\n",
      "678.827941895\n",
      "529.70123291\n",
      "562.189331055\n",
      "441.067993164\n",
      "377.487304688\n",
      "293.370727539\n",
      "204.905990601\n",
      "181.571426392\n",
      "128.131072998\n",
      "136.892333984\n",
      "95.0800476074\n",
      "60.8776779175\n",
      "44.7653961182\n",
      "28.8390007019\n",
      "22.6556854248\n",
      "18.1653633118\n",
      "13.4435253143\n",
      "12.5200576782\n",
      "8.54035186768\n",
      "6.77353096008\n",
      "6.8616104126\n",
      "5.61371660233\n",
      "4.25124788284\n",
      "3.65509462357\n",
      "4.26582622528\n",
      "3.47016763687\n",
      "5.17222213745\n",
      "4.16736364365\n",
      "3.64300322533\n",
      "3.95307016373\n",
      "2.28883051872\n",
      "3.42058801651\n",
      "3.17661952972\n",
      "3.28876161575\n",
      "4.97187852859\n",
      "2.69698691368\n",
      "2.60293388367\n",
      "2.35467576981\n",
      "2.32014131546\n",
      "2.40879797935\n",
      "1.89380097389\n",
      "2.76378822327\n",
      "3.80360722542\n",
      "2.60347604752\n",
      "3.97976112366\n",
      "2.54765462875\n",
      "2.8703122139\n",
      "2.38314795494\n",
      "2.17342758179\n",
      "3.3876080513\n",
      "2.88738489151\n",
      "2.76563811302\n",
      "2.06089806557\n",
      "3.437748909\n",
      "2.6959528923\n",
      "4.50141334534\n",
      "4.42389678955\n",
      "2.78028011322\n",
      "2.53992128372\n",
      "1.53163897991\n",
      "2.60201454163\n",
      "3.9226398468\n",
      "2.68725967407\n",
      "2.48635721207\n",
      "3.8959941864\n",
      "2.28160333633\n",
      "2.87161397934\n",
      "1.93264651299\n",
      "1.89502513409\n",
      "2.47044801712\n",
      "2.33051967621\n",
      "2.86584019661\n",
      "2.02995634079\n",
      "1.78879904747\n",
      "2.70003724098\n",
      "1.93221056461\n",
      "2.87575340271\n",
      "2.28633832932\n",
      "1.67658877373\n",
      "2.22964811325\n",
      "2.8439540863\n",
      "1.77404880524\n",
      "2.21753740311\n",
      "3.30600976944\n",
      "1.80923604965\n",
      "1.42718183994\n",
      "1.86928272247\n",
      "time: 1.955094575881958\n"
     ]
    }
   ],
   "source": [
    "s = time.time()\n",
    "lr = 1e-5\n",
    "\n",
    "for i in range(100):\n",
    "    # make batch\n",
    "    x = Variable(xp.random.random((batchsize, 5)).astype(np.float32))\n",
    "    t = Variable(xp.matmul(x.data, W.T) + b)\n",
    "    \n",
    "    # forward\n",
    "    h0 = relu(l0(x))\n",
    "    h1 = relu(l1(h0))\n",
    "    h2 = relu(l2(h1))\n",
    "    h3 = relu(l3(h2))\n",
    "    h4 = relu(l4(h3))\n",
    "    h5 = relu(l5(h4))\n",
    "    y  = l6(h5)\n",
    "    loss = (y - t) ** 2 / batchsize\n",
    "\n",
    "    # loss\n",
    "    loss = _sum((y - t) ** 2) / batchsize\n",
    "    \n",
    "    for l in layer_list:\n",
    "        l.W.grad = 0\n",
    "        if l.b is not None:\n",
    "            l.b.grad = 0.\n",
    "\n",
    "    # backward\n",
    "    loss.backward()\n",
    "    \n",
    "    # update\n",
    "    for l in layer_list[::-1]:\n",
    "        l.W.data -= lr * l.W.grad.data\n",
    "        if l.b is not None:\n",
    "            l.b.data -= lr * l.b.grad.data\n",
    "\n",
    "    print(loss.data)\n",
    "\n",
    "print('time:', time.time() - s)"
   ]
  },
  {
   "cell_type": "markdown",
   "metadata": {},
   "source": [
    "## Chainer との速度比較"
   ]
  },
  {
   "cell_type": "code",
   "execution_count": 18,
   "metadata": {},
   "outputs": [],
   "source": [
    "import chainer\n",
    "import chainer.functions as F\n",
    "import chainer.links as L\n",
    "from chainer import optimizer"
   ]
  },
  {
   "cell_type": "code",
   "execution_count": 19,
   "metadata": {},
   "outputs": [],
   "source": [
    "class Model(chainer.Chain):\n",
    "    def __init__(self):\n",
    "        super().__init__()\n",
    "        with self.init_scope():\n",
    "            self.l0 = L.Linear(   5, 1000)\n",
    "            self.l1 = L.Linear(1000, 1000)\n",
    "            self.l2 = L.Linear(1000, 1000)\n",
    "            self.l3 = L.Linear(1000, 1000)\n",
    "            self.l4 = L.Linear(1000, 1000)\n",
    "            self.l5 = L.Linear(1000, 1000)\n",
    "            self.l6 = L.Linear(1000,    3)\n",
    "\n",
    "    def __call__(self, x):\n",
    "        h  = F.relu(self.l0(x))\n",
    "        h  = F.relu(self.l1(h))\n",
    "        h  = F.relu(self.l2(h))\n",
    "        h  = F.relu(self.l3(h))\n",
    "        h  = F.relu(self.l4(h))\n",
    "        h  = F.relu(self.l5(h))\n",
    "        y  = self.l6(h)\n",
    "        return y"
   ]
  },
  {
   "cell_type": "code",
   "execution_count": 20,
   "metadata": {},
   "outputs": [
    {
     "data": {
      "text/plain": [
       "<__main__.Model at 0x7f2a26ab2d30>"
      ]
     },
     "execution_count": 20,
     "metadata": {},
     "output_type": "execute_result"
    }
   ],
   "source": [
    "model = Model()\n",
    "model.to_cpu()"
   ]
  },
  {
   "cell_type": "code",
   "execution_count": 21,
   "metadata": {},
   "outputs": [
    {
     "data": {
      "text/plain": [
       "<chainer.optimizers.sgd.SGD at 0x7f2a26a65320>"
      ]
     },
     "execution_count": 21,
     "metadata": {},
     "output_type": "execute_result"
    }
   ],
   "source": [
    "opt = chainer.optimizers.SGD(lr=1e-4)\n",
    "opt.setup(model)"
   ]
  },
  {
   "cell_type": "code",
   "execution_count": 22,
   "metadata": {},
   "outputs": [
    {
     "name": "stdout",
     "output_type": "stream",
     "text": [
      "427.190185546875\n",
      "495.3069763183594\n",
      "452.23974609375\n",
      "432.2911376953125\n",
      "462.729736328125\n",
      "486.7976379394531\n",
      "534.0407104492188\n",
      "521.8364868164062\n",
      "453.4081115722656\n",
      "494.2232971191406\n",
      "505.9490661621094\n",
      "493.1531677246094\n",
      "532.3102416992188\n",
      "401.0016784667969\n",
      "504.8416442871094\n",
      "571.6755981445312\n",
      "417.8907165527344\n",
      "465.0994567871094\n",
      "471.7832946777344\n",
      "488.6719665527344\n",
      "459.3736572265625\n",
      "447.47998046875\n",
      "439.361572265625\n",
      "425.8631896972656\n",
      "505.7315979003906\n",
      "450.63671875\n",
      "430.0314636230469\n",
      "521.3046875\n",
      "427.0911865234375\n",
      "402.3125\n",
      "437.7055358886719\n",
      "434.9010009765625\n",
      "360.189697265625\n",
      "411.5248107910156\n",
      "334.9768981933594\n",
      "327.3570556640625\n",
      "337.0296325683594\n",
      "320.7826232910156\n",
      "316.4875793457031\n",
      "251.3565673828125\n",
      "225.0121307373047\n",
      "186.0250244140625\n",
      "141.16319274902344\n",
      "128.47906494140625\n",
      "106.15259552001953\n",
      "49.983394622802734\n",
      "36.87723159790039\n",
      "26.114599227905273\n",
      "15.827926635742188\n",
      "6.667320251464844\n",
      "2.811443328857422\n",
      "1.819498896598816\n",
      "1.6840580701828003\n",
      "1.0880179405212402\n",
      "0.9277288317680359\n",
      "1.2546000480651855\n",
      "0.7631561160087585\n",
      "1.0696951150894165\n",
      "0.9360494613647461\n",
      "0.7660210728645325\n",
      "0.6871424317359924\n",
      "1.145644187927246\n",
      "0.9538361430168152\n",
      "1.1063811779022217\n",
      "0.7283961176872253\n",
      "0.8207828402519226\n",
      "1.0116432905197144\n",
      "1.1883220672607422\n",
      "0.8321447968482971\n",
      "0.9767085909843445\n",
      "0.853201150894165\n",
      "0.7773036956787109\n",
      "0.7270519137382507\n",
      "0.6178130507469177\n",
      "0.7812914848327637\n",
      "1.1544685363769531\n",
      "0.6390102505683899\n",
      "0.5747713446617126\n",
      "0.9494571685791016\n",
      "0.6367732882499695\n",
      "0.7658620476722717\n",
      "0.7470046877861023\n",
      "1.123534083366394\n",
      "0.674957275390625\n",
      "0.8144868016242981\n",
      "0.55715411901474\n",
      "0.6785368919372559\n",
      "0.7050776481628418\n",
      "0.8457968831062317\n",
      "0.6633340716362\n",
      "1.068616509437561\n",
      "0.595697820186615\n",
      "0.47817039489746094\n",
      "0.5845513343811035\n",
      "0.8014039993286133\n",
      "0.6739501953125\n",
      "0.7515239119529724\n",
      "0.692866861820221\n",
      "0.635842502117157\n",
      "0.6822824478149414\n",
      "2.3660216331481934\n"
     ]
    }
   ],
   "source": [
    "batchsize = 32\n",
    "s = time.time()\n",
    "\n",
    "for i in range(100):\n",
    "    # make batch\n",
    "    x = xp.random.random((batchsize, 5)).astype(np.float32)\n",
    "    t = xp.matmul(x, W.T) + b\n",
    "    \n",
    "    # forward\n",
    "    y = model(x)\n",
    "\n",
    "    # loss\n",
    "    loss = F.mean_squared_error(y, t)\n",
    "\n",
    "    # backward\n",
    "    model.cleargrads()\n",
    "    loss.backward()\n",
    "    \n",
    "    # update\n",
    "    opt.update()\n",
    "\n",
    "    print(loss.data)\n",
    "\n",
    "print(time.time() - s)"
   ]
  },
  {
   "cell_type": "code",
   "execution_count": 23,
   "metadata": {},
   "outputs": [
    {
     "data": {
      "text/plain": [
       "1.9415384027439404"
      ]
     },
     "execution_count": 23,
     "metadata": {},
     "output_type": "execute_result"
    }
   ],
   "source": [
    "0.3876018524169922 / 0.19963645935058594"
   ]
  },
  {
   "cell_type": "code",
   "execution_count": 24,
   "metadata": {},
   "outputs": [
    {
     "data": {
      "text/plain": [
       "2.7228536962537975"
      ]
     },
     "execution_count": 24,
     "metadata": {},
     "output_type": "execute_result"
    }
   ],
   "source": [
    "1.584319829940796 / 0.5818600654602051"
   ]
  },
  {
   "cell_type": "markdown",
   "metadata": {},
   "source": [
    "Chainer の 2.7 倍の計算時間がかかっている……\n",
    "\n",
    "推論に限定しても 1.9 倍。"
   ]
  },
  {
   "cell_type": "code",
   "execution_count": 25,
   "metadata": {},
   "outputs": [
    {
     "name": "stdout",
     "output_type": "stream",
     "text": [
      "432 ns ± 1.57 ns per loop (mean ± std. dev. of 7 runs, 1000000 loops each)\n"
     ]
    }
   ],
   "source": [
    "%%timeit\n",
    "cuda.get_array_module(W)"
   ]
  },
  {
   "cell_type": "code",
   "execution_count": 22,
   "metadata": {},
   "outputs": [],
   "source": [
    "W = xp.arange(15, dtype=np.float32).reshape(3, 5)\n",
    "b = xp.arange(3, dtype=np.float32)"
   ]
  },
  {
   "cell_type": "code",
   "execution_count": 26,
   "metadata": {},
   "outputs": [],
   "source": [
    "x = Variable(xp.random.random((batchsize, 5)).astype(np.float32))\n",
    "t = Variable(xp.matmul(x.data, W.T) + b)"
   ]
  },
  {
   "cell_type": "code",
   "execution_count": 27,
   "metadata": {},
   "outputs": [
    {
     "name": "stdout",
     "output_type": "stream",
     "text": [
      "1.34 ms ± 2.3 µs per loop (mean ± std. dev. of 7 runs, 1000 loops each)\n"
     ]
    }
   ],
   "source": [
    "%%timeit\n",
    "x = Variable(xp.random.random((batchsize, 5)).astype(np.float32))\n",
    "t = Variable(xp.matmul(x.data, W.T) + b)\n",
    "h0 = l0(x)\n",
    "h1 = l1(h0)\n",
    "h2 = l2(h1)\n",
    "h3 = l3(h2)\n",
    "h4 = l4(h3)\n",
    "h5 = l5(h4)\n",
    "y  = l6(h5)\n",
    "y.data.get()"
   ]
  },
  {
   "cell_type": "code",
   "execution_count": 28,
   "metadata": {},
   "outputs": [],
   "source": [
    "x = xp.random.random((batchsize, 5)).astype(np.float32)\n",
    "t = xp.matmul(x, W.T) + b"
   ]
  },
  {
   "cell_type": "code",
   "execution_count": 29,
   "metadata": {},
   "outputs": [
    {
     "name": "stdout",
     "output_type": "stream",
     "text": [
      "1.43 ms ± 2.6 µs per loop (mean ± std. dev. of 7 runs, 1000 loops each)\n"
     ]
    }
   ],
   "source": [
    "%%timeit\n",
    "x = xp.random.random((batchsize, 5)).astype(np.float32)\n",
    "t = xp.matmul(x, W.T) + b\n",
    "\n",
    "y = model(x)\n",
    "y.data.get()"
   ]
  },
  {
   "cell_type": "markdown",
   "metadata": {},
   "source": [
    "Chainer よりほんのちょっと早くなった（type check などやっていないせいかな。）"
   ]
  },
  {
   "cell_type": "code",
   "execution_count": 30,
   "metadata": {},
   "outputs": [
    {
     "data": {
      "text/plain": [
       "2"
      ]
     },
     "execution_count": 30,
     "metadata": {},
     "output_type": "execute_result"
    }
   ],
   "source": [
    "cp.cuda.cudnn.CUDNN_ACTIVATION_TANH"
   ]
  },
  {
   "cell_type": "code",
   "execution_count": 31,
   "metadata": {},
   "outputs": [
    {
     "data": {
      "text/plain": [
       "<module 'cupy.cuda.cudnn' from '/home/ubuntu/anaconda3/lib/python3.6/site-packages/cupy/cuda/cudnn.cpython-36m-x86_64-linux-gnu.so'>"
      ]
     },
     "execution_count": 31,
     "metadata": {},
     "output_type": "execute_result"
    }
   ],
   "source": [
    "cp.cuda.cudnn"
   ]
  },
  {
   "cell_type": "code",
   "execution_count": null,
   "metadata": {},
   "outputs": [],
   "source": []
  }
 ],
 "metadata": {
  "kernelspec": {
   "display_name": "Python 3",
   "language": "python",
   "name": "python3"
  },
  "language_info": {
   "codemirror_mode": {
    "name": "ipython",
    "version": 3
   },
   "file_extension": ".py",
   "mimetype": "text/x-python",
   "name": "python",
   "nbconvert_exporter": "python",
   "pygments_lexer": "ipython3",
   "version": "3.6.3"
  }
 },
 "nbformat": 4,
 "nbformat_minor": 2
}
