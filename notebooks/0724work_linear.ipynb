{
 "cells": [
  {
   "cell_type": "code",
   "execution_count": 1,
   "metadata": {},
   "outputs": [],
   "source": [
    "import sys\n",
    "import numpy as np\n",
    "import cupy as cp\n",
    "\n",
    "sys.path.append('../')\n",
    "\n",
    "from mandala.nodecore import Node\n",
    "from mandala.nodecore import Variable\n",
    "from mandala.autodiff import autodiff\n",
    "from mandala.autodiff.linear import Linear\n",
    "from mandala.autodiff import initializers\n",
    "from mandala import cuda"
   ]
  },
  {
   "cell_type": "code",
   "execution_count": 2,
   "metadata": {},
   "outputs": [],
   "source": [
    "xp = cp"
   ]
  },
  {
   "cell_type": "code",
   "execution_count": 3,
   "metadata": {},
   "outputs": [],
   "source": [
    "def sum_forward(x):\n",
    "    xp = cuda.get_array_module(x)\n",
    "    return xp.sum(x)\n",
    "\n",
    "\n",
    "def sum_backward(x, gy):\n",
    "    xp = cuda.get_array_module(x)\n",
    "    return xp.ones_like(x) * gy\n",
    "\n",
    "\n",
    "class SumFunction(autodiff.AutoDiff):\n",
    "    def forward(self, xs):\n",
    "        x = xs[0]\n",
    "        y = Node(sum_forward, [x])\n",
    "        return y\n",
    "\n",
    "    def backward(self, xs, gy):\n",
    "        x = xs[0]\n",
    "        gx = Node(sum_backward, [x, gy])\n",
    "        return gx,\n",
    "\n",
    "\n",
    "def _sum(x):\n",
    "    return SumFunction()([x])"
   ]
  },
  {
   "cell_type": "code",
   "execution_count": 4,
   "metadata": {},
   "outputs": [],
   "source": [
    "l0 = Linear(   5, 1000)\n",
    "l1 = Linear(1000, 1000)\n",
    "l2 = Linear(1000, 1000)\n",
    "l3 = Linear(1000, 1000)\n",
    "l4 = Linear(1000, 1000)\n",
    "l5 = Linear(1000, 1000)\n",
    "l6 = Linear(1000,    3)\n",
    "\n",
    "layer_list = [l0, l1, l2, l3, l4, l5, l6]"
   ]
  },
  {
   "cell_type": "code",
   "execution_count": 5,
   "metadata": {},
   "outputs": [],
   "source": [
    "for l in layer_list:\n",
    "    l.to_gpu()"
   ]
  },
  {
   "cell_type": "code",
   "execution_count": 6,
   "metadata": {},
   "outputs": [],
   "source": [
    "# 真の係数\n",
    "W = xp.arange(15, dtype=np.float32).reshape(3, 5)\n",
    "b = xp.arange(3, dtype=np.float32)"
   ]
  },
  {
   "cell_type": "markdown",
   "metadata": {},
   "source": [
    "## test"
   ]
  },
  {
   "cell_type": "code",
   "execution_count": 7,
   "metadata": {},
   "outputs": [],
   "source": [
    "batchsize = 32\n",
    "x = Variable(cp.random.random((batchsize, 5)).astype(np.float32))\n",
    "t = Variable(cp.matmul(x.data, W.T) + b)"
   ]
  },
  {
   "cell_type": "code",
   "execution_count": 8,
   "metadata": {},
   "outputs": [],
   "source": [
    "h0 = l0(x)\n",
    "h1 = l1(h0)\n",
    "h2 = l2(h1)\n",
    "h3 = l3(h2)\n",
    "h4 = l4(h3)\n",
    "h5 = l5(h4)\n",
    "y  = l6(h5)\n",
    "loss = (y - t) ** 2 / batchsize"
   ]
  },
  {
   "cell_type": "code",
   "execution_count": 9,
   "metadata": {},
   "outputs": [],
   "source": [
    "loss.backward()"
   ]
  },
  {
   "cell_type": "code",
   "execution_count": 10,
   "metadata": {},
   "outputs": [
    {
     "name": "stdout",
     "output_type": "stream",
     "text": [
      "2\n",
      "None\n",
      "1\n",
      "[[-0.32309359  0.2884514   1.51070857 ..., -0.95198089 -0.07371156\n",
      "  -0.03532079]\n",
      " [-0.40260783 -0.34337464  1.31651044 ..., -0.472036    0.81224024\n",
      "   0.48255664]\n",
      " [-0.34221035 -0.84781873  1.4369849  ..., -0.48086375  1.42222321\n",
      "   1.19213176]\n",
      " ..., \n",
      " [-0.14121969 -0.42710575  0.58321166 ..., -0.30614865  0.67090493\n",
      "   0.53001797]\n",
      " [-0.27783871 -0.28232253  0.29207876 ..., -0.36407527  0.13322188\n",
      "   0.45857289]\n",
      " [-0.40956718 -0.17585471  0.73497617 ..., -0.46759143  0.3324213\n",
      "   0.14299998]]\n",
      "0\n",
      "[[-0.32309359  0.2884514   1.51070857 ..., -0.95198089 -0.07371156\n",
      "  -0.03532079]\n",
      " [-0.40260783 -0.34337464  1.31651044 ..., -0.472036    0.81224024\n",
      "   0.48255664]\n",
      " [-0.34221035 -0.84781873  1.4369849  ..., -0.48086375  1.42222321\n",
      "   1.19213176]\n",
      " ..., \n",
      " [-0.14121969 -0.42710575  0.58321166 ..., -0.30614865  0.67090493\n",
      "   0.53001797]\n",
      " [-0.27783871 -0.28232253  0.29207876 ..., -0.36407527  0.13322188\n",
      "   0.45857289]\n",
      " [-0.40956718 -0.17585471  0.73497617 ..., -0.46759143  0.3324213\n",
      "   0.14299998]]\n",
      "0\n"
     ]
    }
   ],
   "source": [
    "print(h0._reference_count)\n",
    "print(h0._data)\n",
    "l0.b.grad.data\n",
    "\n",
    "print(h0._reference_count)\n",
    "print(h0._data)\n",
    "l1.W.grad.data\n",
    "\n",
    "print(h0._reference_count)\n",
    "print(h0._data)\n",
    "l2.W.grad.data\n",
    "\n",
    "print(h0._reference_count)"
   ]
  },
  {
   "cell_type": "markdown",
   "metadata": {},
   "source": [
    "## 学習"
   ]
  },
  {
   "cell_type": "code",
   "execution_count": 11,
   "metadata": {},
   "outputs": [],
   "source": [
    "import time"
   ]
  },
  {
   "cell_type": "code",
   "execution_count": 12,
   "metadata": {},
   "outputs": [
    {
     "name": "stdout",
     "output_type": "stream",
     "text": [
      "1551.1934814453125\n",
      "1227.002685546875\n",
      "754.77880859375\n",
      "504.7569885253906\n",
      "322.0633544921875\n",
      "212.13937377929688\n",
      "148.88702392578125\n",
      "102.05595397949219\n",
      "63.85234451293945\n",
      "47.79963684082031\n",
      "42.99308776855469\n",
      "29.727035522460938\n",
      "19.77566146850586\n",
      "17.944822311401367\n",
      "16.91914176940918\n",
      "13.179389953613281\n",
      "12.85638427734375\n",
      "14.407691955566406\n",
      "13.981608390808105\n",
      "12.85222339630127\n",
      "12.640665054321289\n",
      "14.82580280303955\n",
      "12.276845932006836\n",
      "11.85091781616211\n",
      "8.660057067871094\n",
      "10.931921005249023\n",
      "9.344804763793945\n",
      "13.824132919311523\n",
      "11.176336288452148\n",
      "11.0354585647583\n",
      "12.808568954467773\n",
      "6.382782936096191\n",
      "8.150248527526855\n",
      "9.556539535522461\n",
      "7.627527236938477\n",
      "10.338979721069336\n",
      "9.798160552978516\n",
      "9.085975646972656\n",
      "9.828990936279297\n",
      "7.91644811630249\n",
      "5.717816352844238\n",
      "7.92717170715332\n",
      "8.945561408996582\n",
      "6.558893203735352\n",
      "5.622929096221924\n",
      "5.059146881103516\n",
      "4.753493309020996\n",
      "7.270957946777344\n",
      "5.122196197509766\n",
      "5.1840925216674805\n",
      "5.467142105102539\n",
      "5.234935760498047\n",
      "5.173527717590332\n",
      "4.1845903396606445\n",
      "4.522934913635254\n",
      "4.135192394256592\n",
      "4.5023908615112305\n",
      "4.138670921325684\n",
      "4.969335556030273\n",
      "4.081604957580566\n",
      "3.6320180892944336\n",
      "3.9336647987365723\n",
      "4.15670108795166\n",
      "4.615351676940918\n",
      "4.2677130699157715\n",
      "3.8594789505004883\n",
      "3.4227514266967773\n",
      "3.649545907974243\n",
      "3.4882256984710693\n",
      "2.9683876037597656\n",
      "3.1849920749664307\n",
      "2.749354839324951\n",
      "3.052576780319214\n",
      "3.130671501159668\n",
      "2.7752366065979004\n",
      "3.0462794303894043\n",
      "2.6759493350982666\n",
      "2.6859779357910156\n",
      "2.3523621559143066\n",
      "2.9772520065307617\n",
      "1.9049594402313232\n",
      "2.75722599029541\n",
      "2.5085999965667725\n",
      "2.7667269706726074\n",
      "2.5187039375305176\n",
      "2.3016855716705322\n",
      "2.202216625213623\n",
      "2.1072511672973633\n",
      "1.865525722503662\n",
      "1.8657053709030151\n",
      "1.6213412284851074\n",
      "1.7025130987167358\n",
      "2.4933481216430664\n",
      "1.6535849571228027\n",
      "1.7946419715881348\n",
      "2.0409018993377686\n",
      "1.7576079368591309\n",
      "1.8578524589538574\n",
      "2.066269874572754\n",
      "1.5680222511291504\n",
      "time: 0.5307445526123047\n"
     ]
    }
   ],
   "source": [
    "s = time.time()\n",
    "lr = 1e-6\n",
    "\n",
    "for i in range(100):\n",
    "    # make batch\n",
    "    x = Variable(xp.random.random((batchsize, 5)).astype(np.float32))\n",
    "    t = Variable(xp.matmul(x.data, W.T) + b)\n",
    "    \n",
    "    # forward\n",
    "    h0 = l0(x)\n",
    "    h1 = l1(h0)\n",
    "    h2 = l2(h1)\n",
    "    h3 = l3(h2)\n",
    "    h4 = l4(h3)\n",
    "    h5 = l5(h4)\n",
    "    y  = l6(h5)\n",
    "    loss = (y - t) ** 2 / batchsize\n",
    "\n",
    "    # loss\n",
    "    loss = _sum((y - t) ** 2) / batchsize\n",
    "    \n",
    "    for l in layer_list:\n",
    "        l.W.grad = 0\n",
    "        if l.b is not None:\n",
    "            l.b.grad = 0.\n",
    "\n",
    "    # backward\n",
    "    loss.backward()\n",
    "    \n",
    "    # update\n",
    "    for l in layer_list:\n",
    "        l.W.data -= lr * l.W.grad.data\n",
    "        if l.b is not None:\n",
    "            l.b.data -= lr * l.b.grad.data\n",
    "\n",
    "    print(loss.data)\n",
    "\n",
    "print('time:', time.time() - s)"
   ]
  },
  {
   "cell_type": "markdown",
   "metadata": {},
   "source": [
    "## Chainer との速度比較"
   ]
  },
  {
   "cell_type": "code",
   "execution_count": 13,
   "metadata": {},
   "outputs": [],
   "source": [
    "import chainer\n",
    "import chainer.functions as F\n",
    "import chainer.links as L\n",
    "from chainer import optimizer"
   ]
  },
  {
   "cell_type": "code",
   "execution_count": 14,
   "metadata": {},
   "outputs": [],
   "source": [
    "class Model(chainer.Chain):\n",
    "    def __init__(self):\n",
    "        super().__init__()\n",
    "        with self.init_scope():\n",
    "            self.l0 = L.Linear(   5, 1000)\n",
    "            self.l1 = L.Linear(1000, 1000)\n",
    "            self.l2 = L.Linear(1000, 1000)\n",
    "            self.l3 = L.Linear(1000, 1000)\n",
    "            self.l4 = L.Linear(1000, 1000)\n",
    "            self.l5 = L.Linear(1000, 1000)\n",
    "            self.l6 = L.Linear(1000,    3)\n",
    "\n",
    "    def __call__(self, x):\n",
    "        h  = self.l0(x)\n",
    "        h  = self.l1(h)\n",
    "        h  = self.l2(h)\n",
    "        h  = self.l3(h)\n",
    "        h  = self.l4(h)\n",
    "        h  = self.l5(h)\n",
    "        y  = self.l6(h)\n",
    "        return y"
   ]
  },
  {
   "cell_type": "code",
   "execution_count": 15,
   "metadata": {},
   "outputs": [
    {
     "data": {
      "text/plain": [
       "<__main__.Model at 0x7f9d6bec1cf8>"
      ]
     },
     "execution_count": 15,
     "metadata": {},
     "output_type": "execute_result"
    }
   ],
   "source": [
    "model = Model()\n",
    "model.to_gpu()"
   ]
  },
  {
   "cell_type": "code",
   "execution_count": 16,
   "metadata": {},
   "outputs": [
    {
     "data": {
      "text/plain": [
       "<chainer.optimizers.sgd.SGD at 0x7f9d6be767b8>"
      ]
     },
     "execution_count": 16,
     "metadata": {},
     "output_type": "execute_result"
    }
   ],
   "source": [
    "opt = chainer.optimizers.SGD(lr=1e-4)\n",
    "opt.setup(model)"
   ]
  },
  {
   "cell_type": "code",
   "execution_count": 17,
   "metadata": {},
   "outputs": [
    {
     "name": "stdout",
     "output_type": "stream",
     "text": [
      "505.260986328125\n",
      "321.1620178222656\n",
      "327.0655822753906\n",
      "247.981201171875\n",
      "155.99098205566406\n",
      "76.3377685546875\n",
      "30.1422176361084\n",
      "7.860241413116455\n",
      "2.2543418407440186\n",
      "1.3737939596176147\n",
      "1.1086504459381104\n",
      "1.0362097024917603\n",
      "0.9039679169654846\n",
      "1.1105233430862427\n",
      "0.8453274369239807\n",
      "1.0538126230239868\n",
      "0.9996352195739746\n",
      "0.7425522208213806\n",
      "0.671079158782959\n",
      "0.9096050262451172\n",
      "0.7945298552513123\n",
      "0.4635123908519745\n",
      "0.7390081286430359\n",
      "0.6977785229682922\n",
      "0.7034571170806885\n",
      "0.6067087054252625\n",
      "0.6501199007034302\n",
      "0.5543020367622375\n",
      "0.5112015604972839\n",
      "0.5471829771995544\n",
      "0.5768411755561829\n",
      "0.5076608061790466\n",
      "0.4802683889865875\n",
      "0.3676702678203583\n",
      "0.3961446285247803\n",
      "0.5038512349128723\n",
      "0.3644340932369232\n",
      "0.37355533242225647\n",
      "0.44834694266319275\n",
      "0.4133519232273102\n",
      "0.34727799892425537\n",
      "0.44477400183677673\n",
      "0.344064325094223\n",
      "0.4300054609775543\n",
      "0.3671726882457733\n",
      "0.3045612871646881\n",
      "0.3572017252445221\n",
      "0.3388247489929199\n",
      "0.3930419981479645\n",
      "0.36113572120666504\n",
      "0.35798025131225586\n",
      "0.285039484500885\n",
      "0.3495961129665375\n",
      "0.29173803329467773\n",
      "0.3276946246623993\n",
      "0.24071793258190155\n",
      "0.3352113664150238\n",
      "0.22662031650543213\n",
      "0.2960681617259979\n",
      "0.3290672302246094\n",
      "0.28866538405418396\n",
      "0.21444666385650635\n",
      "0.27714237570762634\n",
      "0.25143855810165405\n",
      "0.24913300573825836\n",
      "0.25519034266471863\n",
      "0.26819679141044617\n",
      "0.21680910885334015\n",
      "0.1912785768508911\n",
      "0.26181212067604065\n",
      "0.27185681462287903\n",
      "0.23927664756774902\n",
      "0.23860502243041992\n",
      "0.30560532212257385\n",
      "0.2420063018798828\n",
      "0.18662585318088531\n",
      "0.1918044090270996\n",
      "0.21187476813793182\n",
      "0.21886402368545532\n",
      "0.2088664025068283\n",
      "0.20045430958271027\n",
      "0.17646527290344238\n",
      "0.24706612527370453\n",
      "0.2114558070898056\n",
      "0.2323528379201889\n",
      "0.1944599598646164\n",
      "0.1990775316953659\n",
      "0.1592690646648407\n",
      "0.18125297129154205\n",
      "0.24070954322814941\n",
      "0.1694938689470291\n",
      "0.14863772690296173\n",
      "0.17972414195537567\n",
      "0.17053107917308807\n",
      "0.1732865571975708\n",
      "0.16345450282096863\n",
      "0.14525198936462402\n",
      "0.14435341954231262\n",
      "0.13228140771389008\n",
      "0.16508348286151886\n",
      "0.544562578201294\n"
     ]
    }
   ],
   "source": [
    "batchsize = 32\n",
    "s = time.time()\n",
    "\n",
    "for i in range(100):\n",
    "    # make batch\n",
    "    x = xp.random.random((batchsize, 5)).astype(np.float32)\n",
    "    t = xp.matmul(x, W.T) + b\n",
    "    \n",
    "    # forward\n",
    "    y = model(x)\n",
    "\n",
    "    # loss\n",
    "    loss = F.mean_squared_error(y, t)\n",
    "\n",
    "    # backward\n",
    "    model.cleargrads()\n",
    "    loss.backward()\n",
    "    \n",
    "    # update\n",
    "    opt.update()\n",
    "\n",
    "    print(loss.data)\n",
    "\n",
    "print(time.time() - s)"
   ]
  },
  {
   "cell_type": "code",
   "execution_count": 18,
   "metadata": {},
   "outputs": [
    {
     "data": {
      "text/plain": [
       "1.9415384027439404"
      ]
     },
     "execution_count": 18,
     "metadata": {},
     "output_type": "execute_result"
    }
   ],
   "source": [
    "0.3876018524169922 / 0.19963645935058594"
   ]
  },
  {
   "cell_type": "code",
   "execution_count": 19,
   "metadata": {},
   "outputs": [
    {
     "data": {
      "text/plain": [
       "2.7228536962537975"
      ]
     },
     "execution_count": 19,
     "metadata": {},
     "output_type": "execute_result"
    }
   ],
   "source": [
    "1.584319829940796 / 0.5818600654602051"
   ]
  },
  {
   "cell_type": "markdown",
   "metadata": {},
   "source": [
    "Chainer の 2.7 倍の計算時間がかかっている……\n",
    "\n",
    "推論に限定しても 1.9 倍。"
   ]
  },
  {
   "cell_type": "code",
   "execution_count": 20,
   "metadata": {},
   "outputs": [
    {
     "name": "stdout",
     "output_type": "stream",
     "text": [
      "395 ns ± 0.672 ns per loop (mean ± std. dev. of 7 runs, 1000000 loops each)\n"
     ]
    }
   ],
   "source": [
    "%%timeit\n",
    "cuda.get_array_module(W)"
   ]
  },
  {
   "cell_type": "code",
   "execution_count": 21,
   "metadata": {},
   "outputs": [],
   "source": [
    "W = xp.arange(15, dtype=np.float32).reshape(3, 5)\n",
    "b = xp.arange(3, dtype=np.float32)"
   ]
  },
  {
   "cell_type": "code",
   "execution_count": 22,
   "metadata": {},
   "outputs": [],
   "source": [
    "x = Variable(xp.random.random((batchsize, 5)).astype(np.float32))\n",
    "t = Variable(xp.matmul(x.data, W.T) + b)"
   ]
  },
  {
   "cell_type": "code",
   "execution_count": 23,
   "metadata": {},
   "outputs": [
    {
     "name": "stdout",
     "output_type": "stream",
     "text": [
      "1.36 ms ± 3.27 µs per loop (mean ± std. dev. of 7 runs, 1000 loops each)\n"
     ]
    }
   ],
   "source": [
    "%%timeit\n",
    "x = Variable(xp.random.random((batchsize, 5)).astype(np.float32))\n",
    "t = Variable(xp.matmul(x.data, W.T) + b)\n",
    "h0 = l0(x)\n",
    "h1 = l1(h0)\n",
    "h2 = l2(h1)\n",
    "h3 = l3(h2)\n",
    "h4 = l4(h3)\n",
    "h5 = l5(h4)\n",
    "y  = l6(h5)\n",
    "y.data.get()"
   ]
  },
  {
   "cell_type": "code",
   "execution_count": 24,
   "metadata": {},
   "outputs": [],
   "source": [
    "x = xp.random.random((batchsize, 5)).astype(np.float32)\n",
    "t = xp.matmul(x, W.T) + b"
   ]
  },
  {
   "cell_type": "code",
   "execution_count": 25,
   "metadata": {},
   "outputs": [
    {
     "name": "stdout",
     "output_type": "stream",
     "text": [
      "1.44 ms ± 2.94 µs per loop (mean ± std. dev. of 7 runs, 1000 loops each)\n"
     ]
    }
   ],
   "source": [
    "%%timeit\n",
    "x = xp.random.random((batchsize, 5)).astype(np.float32)\n",
    "t = xp.matmul(x, W.T) + b\n",
    "\n",
    "y = model(x)\n",
    "y.data.get()"
   ]
  },
  {
   "cell_type": "markdown",
   "metadata": {},
   "source": [
    "Chainer よりほんのちょっと早くなった（type check などやっていないせいかな。）"
   ]
  },
  {
   "cell_type": "code",
   "execution_count": null,
   "metadata": {},
   "outputs": [],
   "source": []
  }
 ],
 "metadata": {
  "kernelspec": {
   "display_name": "Python 3",
   "language": "python",
   "name": "python3"
  },
  "language_info": {
   "codemirror_mode": {
    "name": "ipython",
    "version": 3
   },
   "file_extension": ".py",
   "mimetype": "text/x-python",
   "name": "python",
   "nbconvert_exporter": "python",
   "pygments_lexer": "ipython3",
   "version": "3.6.3"
  }
 },
 "nbformat": 4,
 "nbformat_minor": 2
}
