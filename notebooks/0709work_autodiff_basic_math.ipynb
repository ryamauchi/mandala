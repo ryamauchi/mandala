{
 "cells": [
  {
   "cell_type": "code",
   "execution_count": 1,
   "metadata": {},
   "outputs": [],
   "source": [
    "import numpy as np\n",
    "import sys\n",
    "\n",
    "sys.path.append('../')\n",
    "\n",
    "from mandala.nodecore import Node\n",
    "from mandala.nodecore import Variable\n",
    "\n",
    "from mandala import basic_math\n",
    "from mandala.autodiff import autodiff\n",
    "\n",
    "basic_math.install_node_arithmetics()\n",
    "autodiff.install_node_backward()"
   ]
  },
  {
   "cell_type": "markdown",
   "metadata": {},
   "source": [
    "## AutoDiff supporters\n",
    "以下の関数は、backward における Node の生成をサポートする。Node を受け取り Node を返す点に注意。"
   ]
  },
  {
   "cell_type": "code",
   "execution_count": 50,
   "metadata": {},
   "outputs": [],
   "source": [
    "class Add(autodiff.AutoDiff):\n",
    "    \n",
    "    def forward(self, xs):\n",
    "        y = basic_math.add(*xs)\n",
    "        return y\n",
    "\n",
    "    def backward(self, xs, gy):\n",
    "        return gy, gy\n",
    "\n",
    "def add(lhs, rhs):\n",
    "    return Add()([lhs, rhs])\n",
    "\n",
    "\n",
    "class Mul(autodiff.AutoDiff):\n",
    "\n",
    "    def forward(self, xs):\n",
    "        y = basic_math.mul(*xs)\n",
    "        return y\n",
    "\n",
    "    def backward(self, xs, gy):\n",
    "        gx0 = basic_math.mul(xs[1], gy)\n",
    "        gx1 = basic_math.mul(xs[0], gy)\n",
    "        return gx0, gx1\n",
    "\n",
    "def mul(lhs, rhs):\n",
    "    return Mul()([lhs, rhs])\n",
    "\n",
    "\n",
    "class Sub(autodiff.AutoDiff):\n",
    "    \n",
    "    def forward(self, xs):\n",
    "        y = basic_math.sub(*xs)\n",
    "        return y\n",
    "\n",
    "    def backward(self, xs, gy):\n",
    "        return gy, basic_math.neg(gy)\n",
    "\n",
    "\n",
    "def sub(lhs, rhs):\n",
    "    return Sub()([lhs, rhs])\n",
    "\n",
    "\n",
    "def rsub(rhs, lhs):\n",
    "    return Sub()([lhs, rhs])\n",
    "\n",
    "\n",
    "class Div(autodiff.AutoDiff):\n",
    "    \n",
    "    def forward(self, xs):\n",
    "        y = basic_math.div(*xs)\n",
    "        return y\n",
    "\n",
    "    def backward(self, xs, gy):\n",
    "\n",
    "        def _calc_gx0(x0, x1, gy):\n",
    "            return 1 / x1 * gy\n",
    "\n",
    "        def _calc_gx1(x0, x1, gy):\n",
    "            return - x0 / (x1 ** 2) * gy\n",
    "\n",
    "        gx0 = Node(_calc_gx0, [*xs, gy])\n",
    "        gx1 = Node(_calc_gx1, [*xs, gy])\n",
    "        return gx0, gx1\n",
    "\n",
    "\n",
    "def div(lhs, rhs):\n",
    "    return Div()([lhs, rhs])\n",
    "\n",
    "\n",
    "def rdiv(rhs, lhs):\n",
    "    return Div()([lhs, rhs])\n",
    "\n",
    "\n",
    "def floordiv(lhs, rhs):\n",
    "    raise NotImplementedError\n",
    "\n",
    "\n",
    "def rfloordiv(rhs, lhs):\n",
    "    raise NotImplementedError\n",
    "\n",
    "\n",
    "class Pow(autodiff.AutoDiff):\n",
    "\n",
    "    def forward(self, xs):\n",
    "        y = basic_math.pow(*xs)\n",
    "        return y\n",
    "\n",
    "    def backward(self, xs, gy):\n",
    "\n",
    "        def _calc_gx0(x0, x1, gy):\n",
    "            return x1 * (x0 ** (x1 - 1)) * gy\n",
    "\n",
    "        def _calc_gx1(x0, x1, gy):\n",
    "            return x0 ** x1 * np.log(x0)\n",
    "\n",
    "        gx0 = Node(_calc_gx0, [*xs, gy])\n",
    "        gx1 = Node(_calc_gx1, [*xs, gy])\n",
    "        return gx0, gx1\n",
    "\n",
    "\n",
    "def pow(lhs, rhs):\n",
    "    return Pow()([lhs, rhs])\n",
    "\n",
    "\n",
    "def rpow(rhs, lhs):\n",
    "    return Pow()([lhs, rhs])\n",
    "\n",
    "\n",
    "class Neg(autodiff.AutoDiff):\n",
    "\n",
    "    def forward(self, xs):\n",
    "        y = basic_math.neg(*xs)\n",
    "        return y\n",
    "\n",
    "    def backward(self, xs, gy):\n",
    "        return basic_math.neg(gy),\n",
    "\n",
    "\n",
    "def neg(x):\n",
    "    return Neg()([x])\n",
    "\n",
    "\n",
    "\n",
    "def absolute(a):\n",
    "    raise NotImplementedError\n",
    "\n",
    "\n",
    "def matmul(lhs, rhs):\n",
    "    raise NotImplementedError\n",
    "\n",
    "\n",
    "def rmatmul(lhs, rhs):\n",
    "    raise NotImplementedError\n",
    "\n",
    "\n",
    "def install_node_arithmetics():\n",
    "    Node.__neg__ = neg\n",
    "    Node.__abs__ = absolute\n",
    "    Node.__add__ = add\n",
    "    Node.__radd__ = add\n",
    "    Node.__sub__ = sub\n",
    "    Node.__rsub__ = rsub\n",
    "    Node.__mul__ = mul\n",
    "    Node.__rmul__ = mul\n",
    "    Node.__div__ = div\n",
    "    Node.__truediv__ = div\n",
    "    Node.__rdiv__ = rdiv\n",
    "    Node.__rtruediv__ = rdiv\n",
    "    Node.__floordiv__ = floordiv\n",
    "    Node.__rfloordiv__ = rfloordiv\n",
    "    Node.__pow__ = pow\n",
    "    Node.__rpow__ = rpow\n",
    "    Node.__matmul__ = matmul\n",
    "    Node.__rmatmul__ = rmatmul\n"
   ]
  },
  {
   "cell_type": "code",
   "execution_count": 51,
   "metadata": {},
   "outputs": [],
   "source": [
    "install_node_arithmetics()"
   ]
  },
  {
   "cell_type": "code",
   "execution_count": 52,
   "metadata": {},
   "outputs": [],
   "source": [
    "x = Variable(5.)"
   ]
  },
  {
   "cell_type": "code",
   "execution_count": 53,
   "metadata": {},
   "outputs": [],
   "source": [
    "y = - (x ** 2 + 4 * x - 2)"
   ]
  },
  {
   "cell_type": "code",
   "execution_count": 54,
   "metadata": {},
   "outputs": [
    {
     "data": {
      "text/plain": [
       "-43.0"
      ]
     },
     "execution_count": 54,
     "metadata": {},
     "output_type": "execute_result"
    }
   ],
   "source": [
    "y.data"
   ]
  },
  {
   "cell_type": "code",
   "execution_count": 55,
   "metadata": {},
   "outputs": [],
   "source": [
    "y.backward()"
   ]
  },
  {
   "cell_type": "code",
   "execution_count": 56,
   "metadata": {},
   "outputs": [
    {
     "data": {
      "text/plain": [
       "-14.0"
      ]
     },
     "execution_count": 56,
     "metadata": {},
     "output_type": "execute_result"
    }
   ],
   "source": [
    "x.grad.data"
   ]
  },
  {
   "cell_type": "code",
   "execution_count": 36,
   "metadata": {},
   "outputs": [],
   "source": [
    "x -= 1"
   ]
  },
  {
   "cell_type": "code",
   "execution_count": 11,
   "metadata": {},
   "outputs": [
    {
     "data": {
      "text/plain": [
       "4.0"
      ]
     },
     "execution_count": 11,
     "metadata": {},
     "output_type": "execute_result"
    }
   ],
   "source": [
    "x.data"
   ]
  },
  {
   "cell_type": "code",
   "execution_count": 12,
   "metadata": {},
   "outputs": [
    {
     "data": {
      "text/plain": [
       "(<mandala.nodecore.Variable at 0x17811cfe4e0>,\n",
       " <mandala.nodecore.Variable at 0x17811cfcbe0>)"
      ]
     },
     "execution_count": 12,
     "metadata": {},
     "output_type": "execute_result"
    }
   ],
   "source": [
    "y.args"
   ]
  },
  {
   "cell_type": "code",
   "execution_count": null,
   "metadata": {},
   "outputs": [],
   "source": []
  },
  {
   "cell_type": "code",
   "execution_count": null,
   "metadata": {},
   "outputs": [],
   "source": []
  }
 ],
 "metadata": {
  "kernelspec": {
   "display_name": "Python 3",
   "language": "python",
   "name": "python3"
  },
  "language_info": {
   "codemirror_mode": {
    "name": "ipython",
    "version": 3
   },
   "file_extension": ".py",
   "mimetype": "text/x-python",
   "name": "python",
   "nbconvert_exporter": "python",
   "pygments_lexer": "ipython3",
   "version": "3.6.0"
  }
 },
 "nbformat": 4,
 "nbformat_minor": 2
}
