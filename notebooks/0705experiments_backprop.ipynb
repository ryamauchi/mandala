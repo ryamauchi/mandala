{
 "cells": [
  {
   "cell_type": "code",
   "execution_count": 1,
   "metadata": {},
   "outputs": [],
   "source": [
    "import numpy as np\n",
    "import sys\n",
    "\n",
    "sys.path.append('../src/')\n",
    "\n",
    "from nodecore import Node\n",
    "from nodecore import Variable"
   ]
  },
  {
   "cell_type": "code",
   "execution_count": 2,
   "metadata": {},
   "outputs": [],
   "source": [
    "class Linear(object):\n",
    "    def __init__(self, in_ch, out_ch):\n",
    "        self.W = Variable(\n",
    "            np.random.normal(0, 1 / out_ch, (out_ch, in_ch)).astype('f')\n",
    "        )\n",
    "    \n",
    "    def forward(self, x):\n",
    "        self.x = x\n",
    "        self.y = Node(linear_forward, [self.x, self.W])\n",
    "        return self.y\n",
    "\n",
    "    def backward(self):\n",
    "        self.W.grad = Node(linear_backward_W, [self.x, self.y.grad])\n",
    "        self.x.grad = Node(linear_backward_x, [self.W, self.y.grad])\n",
    "    \n",
    "    def __call__(self, x):\n",
    "        return self.forward(x)\n",
    "\n",
    "def linear_forward(x, W):\n",
    "    y = np.matmul(x, W.T)\n",
    "    return y\n",
    "\n",
    "def linear_backward_W(x, gy):\n",
    "    gW = np.matmul(gy.T, x)\n",
    "    return gW\n",
    "\n",
    "def linear_backward_x(W, gy):\n",
    "    gx = np.matmul(gy, W)\n",
    "    return gx"
   ]
  },
  {
   "cell_type": "code",
   "execution_count": 3,
   "metadata": {},
   "outputs": [],
   "source": [
    "class Add(object):\n",
    "    def forward(self, a, b):\n",
    "        self.a = a\n",
    "        self.b = b\n",
    "        self.y = Node(add_forward, [a, b])\n",
    "        return self.y\n",
    "\n",
    "    def backward(self):\n",
    "        self.a.grad = Node(add_backward, [self.y.grad])\n",
    "        self.b.grad = Node(add_backward, [self.y.grad])\n",
    "\n",
    "    def __call__(self, a, b):\n",
    "        return self.forward(a, b)\n",
    "\n",
    "def add_forward(a, b):\n",
    "    return a + b\n",
    "\n",
    "def add_backward(gy):\n",
    "    return gy\n",
    "\n",
    "def add(a, b):\n",
    "    node_add = Add()\n",
    "    return node_add(a, b)"
   ]
  },
  {
   "cell_type": "code",
   "execution_count": 4,
   "metadata": {},
   "outputs": [],
   "source": [
    "class Sub(object):\n",
    "    def forward(self, a, b):\n",
    "        self.a = a\n",
    "        self.b = b\n",
    "        self.y = Node(sub_forward, [a, b])\n",
    "        return self.y\n",
    "\n",
    "    def backward(self):\n",
    "        self.a.grad = Node(sub_backward_a, [self.y.grad])\n",
    "        self.b.grad = Node(sub_backward_b, [self.y.grad])\n",
    "\n",
    "    def __call__(self, a, b):\n",
    "        return self.forward(a, b)\n",
    "\n",
    "def sub_forward(a, b):\n",
    "    return a - b\n",
    "\n",
    "def sub_backward_a(gy):\n",
    "    return gy\n",
    "\n",
    "def sub_backward_b(gy):\n",
    "    return -gy"
   ]
  },
  {
   "cell_type": "code",
   "execution_count": 5,
   "metadata": {},
   "outputs": [],
   "source": [
    "class Mul(object):\n",
    "    def forward(self, a, b):\n",
    "        self.a = a\n",
    "        self.b = b\n",
    "        self.y = Node(mul_forward, [a, b])\n",
    "        return self.y\n",
    "\n",
    "    def backward(self):\n",
    "        self.a.grad = Node(mul_backward, [self.b, self.y.grad])\n",
    "        self.b.grad = Node(mul_backward, [self.a, self.y.grad])\n",
    "\n",
    "    def __call__(self, a, b):\n",
    "        return self.forward(a, b)\n",
    "\n",
    "def mul_forward(a, b):\n",
    "    return a * b\n",
    "\n",
    "def mul_backward(x, gy):\n",
    "    return x * gy"
   ]
  },
  {
   "cell_type": "code",
   "execution_count": 6,
   "metadata": {},
   "outputs": [],
   "source": [
    "class Sum(object):\n",
    "    def forward(self, x):\n",
    "        self.x = x\n",
    "        self.y = Node(sum_forward, [x])\n",
    "        return self.y\n",
    "\n",
    "    def backward(self):\n",
    "        self.x.grad = Node(sum_backward, [self.x, self.y.grad])\n",
    "\n",
    "    def __call__(self, x):\n",
    "        return self.forward(x)\n",
    "\n",
    "def sum_forward(x):\n",
    "    return np.sum(x)\n",
    "\n",
    "def sum_backward(x, gy):\n",
    "    return np.ones_like(x) * gy"
   ]
  },
  {
   "cell_type": "code",
   "execution_count": 7,
   "metadata": {},
   "outputs": [],
   "source": [
    "l0 = Linear( 5, 10)\n",
    "l1 = Linear(10, 10)\n",
    "l2 = Linear(10,  3)\n",
    "sub3 = Sub()\n",
    "mul4 = Mul()\n",
    "sum5 = Sum()"
   ]
  },
  {
   "cell_type": "code",
   "execution_count": 8,
   "metadata": {},
   "outputs": [],
   "source": [
    "# 真の係数\n",
    "W = np.random.random((3, 5)).astype(np.float32)"
   ]
  },
  {
   "cell_type": "code",
   "execution_count": 9,
   "metadata": {},
   "outputs": [],
   "source": [
    "batchsize = 8\n",
    "x = Variable(np.random.random((batchsize, 5)).astype(np.float32))\n",
    "t = Variable(np.matmul(x.data, W.T))"
   ]
  },
  {
   "cell_type": "code",
   "execution_count": 10,
   "metadata": {},
   "outputs": [],
   "source": [
    "h0 = l0(x)\n",
    "h1 = l1(h0)\n",
    "y  = l2(h1)\n",
    "\n",
    "dif_y_t = sub3(y, t)\n",
    "loss = sum5(mul4(dif_y_t, dif_y_t))"
   ]
  },
  {
   "cell_type": "code",
   "execution_count": 11,
   "metadata": {},
   "outputs": [],
   "source": [
    "loss.grad = Variable(1)"
   ]
  },
  {
   "cell_type": "code",
   "execution_count": 12,
   "metadata": {},
   "outputs": [],
   "source": [
    "sum5.backward()\n",
    "mul4.backward()\n",
    "sub3.backward()\n",
    "l2.backward()\n",
    "l1.backward()\n",
    "l0.backward()"
   ]
  },
  {
   "cell_type": "code",
   "execution_count": 13,
   "metadata": {},
   "outputs": [
    {
     "data": {
      "text/plain": [
       "array([[-0.05047692, -0.04583379, -0.02766792, -0.06458288, -0.0548459 ],\n",
       "       [ 0.5010739 ,  0.39342761,  0.36980706,  0.42696244,  0.44581848],\n",
       "       [-2.69119263, -2.14639473, -1.93818164, -2.20127654, -2.36037779],\n",
       "       [ 0.16421615,  0.14169762,  0.1019178 ,  0.15826198,  0.15558778],\n",
       "       [-0.32672578, -0.27973613, -0.20633459, -0.2968933 , -0.30168769],\n",
       "       [-1.93166375, -1.53746843, -1.39588189, -1.57882571, -1.693277  ],\n",
       "       [-1.00775969, -0.79917854, -0.73286432, -0.80766749, -0.876248  ],\n",
       "       [ 1.4861238 ,  1.15786505,  1.11121058,  1.20547986,  1.29539812],\n",
       "       [-1.62742686, -1.30167127, -1.16679275, -1.31817961, -1.42242336],\n",
       "       [-3.43118   , -2.74285316, -2.4622097 , -2.78242159, -3.00011539]], dtype=float32)"
      ]
     },
     "execution_count": 13,
     "metadata": {},
     "output_type": "execute_result"
    }
   ],
   "source": [
    "l0.W.grad.data"
   ]
  },
  {
   "cell_type": "markdown",
   "metadata": {},
   "source": [
    "## 学習テスト"
   ]
  },
  {
   "cell_type": "code",
   "execution_count": 14,
   "metadata": {},
   "outputs": [
    {
     "name": "stdout",
     "output_type": "stream",
     "text": [
      "51.2562\n",
      "31.2824\n",
      "38.1251\n",
      "41.8289\n",
      "29.5416\n",
      "26.2222\n",
      "38.35\n",
      "45.0232\n",
      "25.2931\n",
      "36.914\n",
      "24.1995\n",
      "44.6067\n",
      "36.4646\n",
      "31.298\n",
      "38.0644\n",
      "35.3944\n",
      "36.2712\n",
      "36.2164\n",
      "22.3982\n",
      "35.1409\n",
      "34.2189\n",
      "25.2897\n",
      "20.3706\n",
      "35.6483\n",
      "29.3707\n",
      "23.3739\n",
      "28.814\n",
      "26.5349\n",
      "23.0588\n",
      "29.8155\n",
      "26.1272\n",
      "15.6531\n",
      "18.0121\n",
      "20.7852\n",
      "12.6815\n",
      "20.8896\n",
      "10.0856\n",
      "12.4411\n",
      "17.2221\n",
      "13.1953\n",
      "13.4904\n",
      "13.7674\n",
      "9.98207\n",
      "5.43043\n",
      "8.37379\n",
      "6.19839\n",
      "8.18385\n",
      "10.3069\n",
      "7.24686\n",
      "3.90009\n",
      "5.64527\n",
      "5.40399\n",
      "3.25546\n",
      "2.50586\n",
      "2.38887\n",
      "2.55661\n",
      "4.16\n",
      "4.2606\n",
      "1.97739\n",
      "1.1981\n",
      "1.81187\n",
      "2.27201\n",
      "0.950636\n",
      "1.52067\n",
      "1.69456\n",
      "0.827481\n",
      "0.698799\n",
      "1.04792\n",
      "1.42378\n",
      "1.60651\n",
      "1.17064\n",
      "0.983331\n",
      "0.915311\n",
      "0.46753\n",
      "0.670402\n",
      "0.704423\n",
      "0.833394\n",
      "0.789159\n",
      "0.90864\n",
      "0.903969\n",
      "0.84604\n",
      "0.826496\n",
      "0.485861\n",
      "1.04132\n",
      "0.897414\n",
      "0.903577\n",
      "0.55741\n",
      "0.831185\n",
      "0.767628\n",
      "0.612234\n",
      "0.428293\n",
      "0.488028\n",
      "0.448398\n",
      "0.657251\n",
      "1.47951\n",
      "0.523366\n",
      "0.511343\n",
      "0.846223\n",
      "0.29173\n",
      "0.689548\n"
     ]
    }
   ],
   "source": [
    "lr = 0.001\n",
    "\n",
    "for i in range(100):\n",
    "    # make batch\n",
    "    x = Variable(np.random.random((batchsize, 5)).astype(np.float32))\n",
    "    t = Variable(np.matmul(x.data, W.T))\n",
    "    \n",
    "    # forward\n",
    "    h0 = l0(x)\n",
    "    h1 = l1(h0)\n",
    "    y  = l2(h1)\n",
    "\n",
    "    # loss\n",
    "    dif_y_t = sub3(y, t)\n",
    "    loss = sum5(mul4(dif_y_t, dif_y_t))\n",
    "    \n",
    "    # backward\n",
    "    loss.grad = Variable(1)\n",
    "    \n",
    "    sum5.backward()\n",
    "    mul4.backward()\n",
    "    sub3.backward()\n",
    "    l2.backward()\n",
    "    l1.backward()\n",
    "    l0.backward()\n",
    "    \n",
    "    # update\n",
    "    l0.W.data -= lr * l0.W.grad.data\n",
    "    l1.W.data -= lr * l1.W.grad.data\n",
    "    l2.W.data -= lr * l2.W.grad.data\n",
    "    \n",
    "    print(loss.data)"
   ]
  },
  {
   "cell_type": "code",
   "execution_count": 15,
   "metadata": {},
   "outputs": [
    {
     "data": {
      "text/plain": [
       "(array([[ 1.49480021,  1.36799705,  0.991364  ],\n",
       "        [ 1.59349108,  1.42237818,  1.04920137],\n",
       "        [ 0.67390949,  0.59562385,  0.43615013],\n",
       "        [ 1.77337492,  1.6086874 ,  1.17290854],\n",
       "        [ 1.1251663 ,  1.01930988,  0.75291014],\n",
       "        [ 1.64332366,  1.47560799,  1.09703469],\n",
       "        [ 0.91083539,  0.81226569,  0.6011613 ],\n",
       "        [ 1.47039366,  1.32274354,  0.96522522]], dtype=float32),\n",
       " array([[ 1.61357653,  1.77865326,  1.02604902],\n",
       "        [ 1.63375974,  1.60560286,  0.91914147],\n",
       "        [ 0.73774105,  0.52081048,  0.4729915 ],\n",
       "        [ 1.99669564,  2.10242891,  1.18826842],\n",
       "        [ 1.13131106,  1.07039201,  0.7167778 ],\n",
       "        [ 1.57323253,  1.52357733,  0.92267299],\n",
       "        [ 1.04702318,  0.96931267,  0.57307184],\n",
       "        [ 1.28425932,  1.16649127,  0.90242654]], dtype=float32))"
      ]
     },
     "execution_count": 15,
     "metadata": {},
     "output_type": "execute_result"
    }
   ],
   "source": [
    "y.data, t.data"
   ]
  },
  {
   "cell_type": "markdown",
   "metadata": {},
   "source": [
    "W.grad = Node(backward, [hoge])と代入しているがこれは加算にしないといけない"
   ]
  },
  {
   "cell_type": "code",
   "execution_count": null,
   "metadata": {},
   "outputs": [],
   "source": []
  }
 ],
 "metadata": {
  "kernelspec": {
   "display_name": "Python 3",
   "language": "python",
   "name": "python3"
  },
  "language_info": {
   "codemirror_mode": {
    "name": "ipython",
    "version": 3
   },
   "file_extension": ".py",
   "mimetype": "text/x-python",
   "name": "python",
   "nbconvert_exporter": "python",
   "pygments_lexer": "ipython3",
   "version": "3.6.0"
  }
 },
 "nbformat": 4,
 "nbformat_minor": 2
}
