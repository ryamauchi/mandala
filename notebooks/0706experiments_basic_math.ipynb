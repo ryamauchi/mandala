{
 "cells": [
  {
   "cell_type": "code",
   "execution_count": 1,
   "metadata": {},
   "outputs": [],
   "source": [
    "import numpy as np\n",
    "import sys\n",
    "\n",
    "sys.path.append('../src/')\n",
    "\n",
    "from nodecore import Node\n",
    "from nodecore import Variable\n",
    "import basic_math"
   ]
  },
  {
   "cell_type": "code",
   "execution_count": 2,
   "metadata": {},
   "outputs": [],
   "source": [
    "basic_math.install_node_arithmetics()"
   ]
  },
  {
   "cell_type": "code",
   "execution_count": 3,
   "metadata": {},
   "outputs": [],
   "source": [
    "x = Variable(5)\n",
    "\n",
    "y = x ** 2 + 2 * x + 1"
   ]
  },
  {
   "cell_type": "code",
   "execution_count": 4,
   "metadata": {},
   "outputs": [
    {
     "data": {
      "text/plain": [
       "36"
      ]
     },
     "execution_count": 4,
     "metadata": {},
     "output_type": "execute_result"
    }
   ],
   "source": [
    "y.data"
   ]
  },
  {
   "cell_type": "code",
   "execution_count": 5,
   "metadata": {},
   "outputs": [],
   "source": [
    "a = Variable(np.ones((3, 3), dtype=np.float32))"
   ]
  },
  {
   "cell_type": "code",
   "execution_count": 6,
   "metadata": {},
   "outputs": [],
   "source": [
    "b = a + a"
   ]
  },
  {
   "cell_type": "code",
   "execution_count": 7,
   "metadata": {},
   "outputs": [
    {
     "data": {
      "text/plain": [
       "array([[ 2.,  2.,  2.],\n",
       "       [ 2.,  2.,  2.],\n",
       "       [ 2.,  2.,  2.]], dtype=float32)"
      ]
     },
     "execution_count": 7,
     "metadata": {},
     "output_type": "execute_result"
    }
   ],
   "source": [
    "b.data"
   ]
  },
  {
   "cell_type": "markdown",
   "metadata": {},
   "source": [
    "## Linear"
   ]
  },
  {
   "cell_type": "code",
   "execution_count": 9,
   "metadata": {},
   "outputs": [],
   "source": [
    "class Linear(object):\n",
    "    def __init__(self, in_ch, out_ch):\n",
    "        self.W = Variable(\n",
    "            np.random.normal(0, 1 / out_ch, (out_ch, in_ch)).astype('f')\n",
    "        )\n",
    "\n",
    "    def forward(self, x):\n",
    "        self.x = x\n",
    "        self.y = Node(linear_forward, [self.x, self.W])\n",
    "        return self.y\n",
    "\n",
    "    def backward(self):\n",
    "        self.W.grad += Node(linear_backward_W, [self.x, self.y.grad])\n",
    "        self.x.grad += Node(linear_backward_x, [self.W, self.y.grad])\n",
    "    \n",
    "    def __call__(self, x):\n",
    "        return self.forward(x)\n",
    "\n",
    "def linear_forward(x, W):\n",
    "    y = np.matmul(x, W.T)\n",
    "    return y\n",
    "\n",
    "def linear_backward_W(x, gy):\n",
    "    gW = np.matmul(gy.T, x)\n",
    "    return gW\n",
    "\n",
    "def linear_backward_x(W, gy):\n",
    "    gx = np.matmul(gy, W)\n",
    "    return gx"
   ]
  },
  {
   "cell_type": "code",
   "execution_count": 10,
   "metadata": {},
   "outputs": [],
   "source": [
    "l0 = Linear( 5, 10)\n",
    "l1 = Linear(10, 10)\n",
    "l2 = Linear(10,  3)"
   ]
  },
  {
   "cell_type": "code",
   "execution_count": 11,
   "metadata": {},
   "outputs": [],
   "source": [
    "# 真の係数\n",
    "W = np.random.random((3, 5)).astype(np.float32)"
   ]
  },
  {
   "cell_type": "code",
   "execution_count": 12,
   "metadata": {},
   "outputs": [],
   "source": [
    "batchsize = 8\n",
    "x = Variable(np.random.random((batchsize, 5)).astype(np.float32))\n",
    "t = Variable(np.matmul(x.data, W.T))"
   ]
  },
  {
   "cell_type": "code",
   "execution_count": 14,
   "metadata": {},
   "outputs": [],
   "source": [
    "h0 = l0(x)\n",
    "h1 = l1(h0)\n",
    "y  = l2(h1)\n",
    "\n",
    "loss = (y - t) ** 2"
   ]
  },
  {
   "cell_type": "code",
   "execution_count": 15,
   "metadata": {},
   "outputs": [
    {
     "data": {
      "text/plain": [
       "array([[ 0.7765637 ,  0.11049283,  0.73104632],\n",
       "       [ 1.59783959,  0.48883584,  0.76882285],\n",
       "       [ 1.49823725,  0.36093721,  0.75923532],\n",
       "       [ 1.55899572,  0.35230374,  1.24337208],\n",
       "       [ 1.62110364,  0.33213964,  1.00779235],\n",
       "       [ 1.40715814,  0.38675347,  1.69120514],\n",
       "       [ 2.54401493,  0.5453096 ,  2.0999763 ],\n",
       "       [ 1.10922825,  0.193562  ,  0.66312635]], dtype=float32)"
      ]
     },
     "execution_count": 15,
     "metadata": {},
     "output_type": "execute_result"
    }
   ],
   "source": [
    "loss.data"
   ]
  },
  {
   "cell_type": "code",
   "execution_count": null,
   "metadata": {},
   "outputs": [],
   "source": []
  }
 ],
 "metadata": {
  "kernelspec": {
   "display_name": "Python 3",
   "language": "python",
   "name": "python3"
  },
  "language_info": {
   "codemirror_mode": {
    "name": "ipython",
    "version": 3
   },
   "file_extension": ".py",
   "mimetype": "text/x-python",
   "name": "python",
   "nbconvert_exporter": "python",
   "pygments_lexer": "ipython3",
   "version": "3.6.0"
  }
 },
 "nbformat": 4,
 "nbformat_minor": 2
}
