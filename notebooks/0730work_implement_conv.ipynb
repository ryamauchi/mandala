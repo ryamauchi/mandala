{
 "cells": [
  {
   "cell_type": "code",
   "execution_count": 1,
   "metadata": {},
   "outputs": [],
   "source": [
    "import sys\n",
    "import numpy as np\n",
    "\n",
    "sys.path.append('../')\n",
    "\n",
    "import cupy\n",
    "from mandala import cuda\n",
    "from mandala import Node\n",
    "from mandala import Variable\n",
    "\n",
    "from mandala.autodiff import autodiff\n",
    "from mandala.autodiff import layer\n",
    "from mandala.autodiff import initializers\n",
    "from mandala.autodiff.utils_conv import im2col\n",
    "from mandala.autodiff.utils_conv import col2im\n",
    "from mandala.autodiff.utils_conv import get_conv_outsize\n",
    "\n",
    "from mandala.autodiff.convolution_2d import Convolution2D"
   ]
  },
  {
   "cell_type": "code",
   "execution_count": 2,
   "metadata": {},
   "outputs": [
    {
     "data": {
      "text/plain": [
       "\u001b[0;31mSignature:\u001b[0m \u001b[0mget_conv_outsize\u001b[0m\u001b[0;34m(\u001b[0m\u001b[0msize\u001b[0m\u001b[0;34m,\u001b[0m \u001b[0mk\u001b[0m\u001b[0;34m,\u001b[0m \u001b[0ms\u001b[0m\u001b[0;34m,\u001b[0m \u001b[0mp\u001b[0m\u001b[0;34m,\u001b[0m \u001b[0mcover_all\u001b[0m\u001b[0;34m=\u001b[0m\u001b[0;32mFalse\u001b[0m\u001b[0;34m,\u001b[0m \u001b[0md\u001b[0m\u001b[0;34m=\u001b[0m\u001b[0;36m1\u001b[0m\u001b[0;34m)\u001b[0m\u001b[0;34m\u001b[0m\u001b[0m\n",
       "\u001b[0;31mDocstring:\u001b[0m <no docstring>\n",
       "\u001b[0;31mFile:\u001b[0m      ~/mandala/mandala/autodiff/utils_conv.py\n",
       "\u001b[0;31mType:\u001b[0m      function\n"
      ]
     },
     "metadata": {},
     "output_type": "display_data"
    }
   ],
   "source": [
    "get_conv_outsize?"
   ]
  },
  {
   "cell_type": "code",
   "execution_count": 70,
   "metadata": {},
   "outputs": [],
   "source": [
    "import numpy\n",
    "import cupy\n",
    "\n",
    "from mandala import cuda\n",
    "from mandala import Node\n",
    "from mandala import Variable\n",
    "from mandala.autodiff import autodiff\n",
    "from mandala.autodiff import layer\n",
    "from mandala.autodiff import initializers\n",
    "from mandala.autodiff.utils_conv import im2col\n",
    "from mandala.autodiff.utils_conv import col2im\n",
    "from mandala.autodiff.utils_conv import get_conv_outsize\n",
    "\n",
    "\n",
    "if cuda.cudnn_enabled:\n",
    "    _cudnn_version = cupy.cuda.cudnn.getVersion()\n",
    "\n",
    "\n",
    "def _forward_cudnn(x, W, b, sy, sx, ph, pw, cover_all, dy, dx):\n",
    "    xp = cuda.get_array_module(x)\n",
    "\n",
    "    out_c, _, kh, kw = W.shape\n",
    "    n, _, h, w = x.shape\n",
    "\n",
    "    pad = (ph, pw)\n",
    "    stride = (sy, sx)\n",
    "    dilation = (dy, dx)\n",
    "\n",
    "    out_h = get_conv_outsize(\n",
    "        h, kh, sy, ph, cover_all=cover_all, d=dy)\n",
    "    out_w = get_conv_outsize(\n",
    "        w, kw, sx, pw, cover_all=cover_all, d=dx)\n",
    "\n",
    "    y = xp.empty((n, out_c, out_h, out_w), dtype=x.dtype)\n",
    "    cupy.cudnn.convolution_forward(\n",
    "        x, W, b, y, pad, stride, dilation, 1,\n",
    "        auto_tune=True, tensor_core='auto')\n",
    "    return y\n",
    "\n",
    "\n",
    "def _forward(x, W, b, sy, sx, ph, pw, cover_all, dy, dx, cls):\n",
    "    xp = cuda.get_array_module(x)\n",
    "\n",
    "    col = im2col(x, kh, kw, sy, sx, ph, pw,\n",
    "                 cover_all=cover_all, dy=dy, dx=dx)\n",
    "    cls.col = col\n",
    "\n",
    "    y = xp.tensordot(col, W, ((1, 2, 3), (1, 2, 3)))\n",
    "    if b is not None:\n",
    "        y += b\n",
    "    y = xp.rollaxis(y, 3, 1)\n",
    "    return y\n",
    "\n",
    "def _backward_W(col, gy):\n",
    "    xp = cuda.get_array_module(col)\n",
    "    gW = xp.tensordot(gy, col, ((0, 2, 3), (0, 4, 5)))\n",
    "    return gW\n",
    "\n",
    "\n",
    "def _backward_x(x, W, gy, sy, sx, ph, pw):\n",
    "    xp = cuda.get_array_module(W)\n",
    "\n",
    "    _, _, h, w = x.shape\n",
    "    gcol = xp.tensordot(W, gy, (0, 1))\n",
    "    gcol = xp.rollaxis(gcol, 3)\n",
    "    gx = col2im(gcol, sy, sx, ph, pw, h, w)\n",
    "    return gx\n",
    "\n",
    "\n",
    "def convolution_2d_forward(x, W, b, sy, sx, ph, pw,\n",
    "                           cover_all, dy, dx, cls):\n",
    "    xp = cuda.get_array_module(x)\n",
    "\n",
    "    use_cudnn = (\n",
    "        xp == cupy\n",
    "        and x.dtype == W.dtype\n",
    "        and not cover_all\n",
    "        and ((dy == 1 and dx == 1) or _cudnn_version >= 6000)\n",
    "    )\n",
    "\n",
    "    if use_cudnn:\n",
    "        y = _forward_cudnn(\n",
    "            x, W, b, sy, sx, ph, pw, cover_all, dy, dx)\n",
    "    else:\n",
    "        y = _forward(\n",
    "            x, W, b, sy, sx, ph, pw, cover_all, dy, dx, cls)\n",
    "    cls.used_cudnn = use_cudnn\n",
    "    return y\n",
    "\n",
    "\n",
    "def convolution_2d_backward_x(x, W, gy, sy, sx, ph, pw, cls):\n",
    "    if cls.used_cudnn:\n",
    "        pass\n",
    "    else:\n",
    "        gx = _backward_x(x, W, gy, sy, sx, ph, pw)\n",
    "    return gx\n",
    "\n",
    "\n",
    "def convolution_2d_backward_W(col, gy, cls):\n",
    "    if cls.used_cudnn:\n",
    "        pass\n",
    "    else:\n",
    "        gW = _backward_W(col, gy)\n",
    "    return gW\n",
    "\n",
    "\n",
    "def convolution_2d_backward_b(gy):\n",
    "    gb = gy.sum(axis=(0, 2, 3))\n",
    "    return gb\n",
    "\n",
    "\n",
    "class Convolution2DFunction(autodiff.AutoDiff):\n",
    "\n",
    "    def __init__(self, stride=1, pad=0, cover_all=False,\n",
    "                 dilate=1):\n",
    "        self.sy, self.sx = _pair(stride)\n",
    "        self.ph, self.pw = _pair(pad)\n",
    "        self.dy, self.dx = _pair(dilate)\n",
    "        self.cover_all = cover_all\n",
    "\n",
    "    def forward(self, xs):\n",
    "        y = Node(convolution_2d_forward, xs,\n",
    "                 sy=self.sy, sx=self.sx, ph=self.ph, pw=self.pw,\n",
    "                 cover_all=self.cover_all, dy=self.dy, dx=self.dx,\n",
    "                 cls=self)\n",
    "        return y\n",
    "\n",
    "    def backward(self, xs, gy):\n",
    "        x, W, b = xs\n",
    "        col = self.col\n",
    "\n",
    "        gx = Node(convolution_2d_backward_x, [x, W, gy],\n",
    "                  sy=self.sy, sx=self.sx, ph=self.ph, pw=self.pw)\n",
    "        gW = Node(convolution_2d_backward_W, [col, gy])\n",
    "        if b is None:\n",
    "            gb = None\n",
    "        else:\n",
    "            gb = Node(convolution_2d_backward_b, [gy])\n",
    "        return gx, gW, gb\n",
    "\n",
    "\n",
    "def _pair(x):\n",
    "    if hasattr(x, '__getitem__'):\n",
    "        return x\n",
    "    return x, x\n",
    "\n",
    "\n",
    "class Convolution2D(layer.Layer):\n",
    "    def __init__(self, in_ch, out_ch, ksize, stride=1, pad=0,\n",
    "                 nobias=False, cover_all=False, dilate=1):\n",
    "\n",
    "        self.config = {\n",
    "            'ksize': _pair(ksize),\n",
    "            'stride': _pair(stride),\n",
    "            'pad': _pair(pad),\n",
    "            'dilate': _pair(dilate),\n",
    "            'cover_all': cover_all\n",
    "        }\n",
    "\n",
    "        kh, kw = self.config['ksize']\n",
    "        self.W = Variable(\n",
    "            initializers.HeNormal((out_ch, in_ch, kh, kw)))\n",
    "        if nobias:\n",
    "            self.b = None\n",
    "        else:\n",
    "            self.b = Variable(\n",
    "                numpy.zeros(out_ch, dtype=numpy.float32))\n",
    "\n",
    "    def __call__(self, x):\n",
    "        xs = [x, self.W, self.b]\n",
    "\n",
    "        stride = self.config['stride']\n",
    "        pad = self.config['pad']\n",
    "        cover_all = self.config['cover_all']\n",
    "        dilate = self.config['dilate']\n",
    "\n",
    "        return Convolution2DFunction(\n",
    "            stride, pad, cover_all, dilate)(xs)\n"
   ]
  },
  {
   "cell_type": "code",
   "execution_count": 54,
   "metadata": {},
   "outputs": [],
   "source": [
    "conv = Convolution2D(3, 10, 3)\n",
    "conv.to_gpu()"
   ]
  },
  {
   "cell_type": "code",
   "execution_count": 55,
   "metadata": {},
   "outputs": [],
   "source": [
    "xp = cupy\n",
    "x = Variable(xp.ones((2, 3, 10, 10), dtype=np.float32))"
   ]
  },
  {
   "cell_type": "code",
   "execution_count": 56,
   "metadata": {},
   "outputs": [],
   "source": [
    "y = conv(x)"
   ]
  },
  {
   "cell_type": "code",
   "execution_count": 57,
   "metadata": {},
   "outputs": [],
   "source": [
    "cuda.cudnn_enabled = True"
   ]
  },
  {
   "cell_type": "code",
   "execution_count": 65,
   "metadata": {},
   "outputs": [
    {
     "data": {
      "text/plain": [
       "<mandala.nodecore.Node at 0x7ff0f6dd8978>"
      ]
     },
     "execution_count": 65,
     "metadata": {},
     "output_type": "execute_result"
    }
   ],
   "source": [
    "y"
   ]
  },
  {
   "cell_type": "code",
   "execution_count": 66,
   "metadata": {},
   "outputs": [
    {
     "ename": "AttributeError",
     "evalue": "'Convolution2DFunction' object has no attribute 'col'",
     "output_type": "error",
     "traceback": [
      "\u001b[0;31m---------------------------------------------------------------------------\u001b[0m",
      "\u001b[0;31mAttributeError\u001b[0m                            Traceback (most recent call last)",
      "\u001b[0;32m<ipython-input-66-822295eef60d>\u001b[0m in \u001b[0;36m<module>\u001b[0;34m()\u001b[0m\n\u001b[0;32m----> 1\u001b[0;31m \u001b[0my\u001b[0m\u001b[0;34m.\u001b[0m\u001b[0mbackward\u001b[0m\u001b[0;34m(\u001b[0m\u001b[0mgy\u001b[0m\u001b[0;34m=\u001b[0m\u001b[0mVariable\u001b[0m\u001b[0;34m(\u001b[0m\u001b[0my\u001b[0m\u001b[0;34m.\u001b[0m\u001b[0mdata\u001b[0m\u001b[0;34m)\u001b[0m\u001b[0;34m)\u001b[0m\u001b[0;34m\u001b[0m\u001b[0m\n\u001b[0m",
      "\u001b[0;32m~/mandala/mandala/autodiff/autodiff.py\u001b[0m in \u001b[0;36mbackward\u001b[0;34m(y, gy)\u001b[0m\n\u001b[1;32m     22\u001b[0m \u001b[0;32mdef\u001b[0m \u001b[0mbackward\u001b[0m\u001b[0;34m(\u001b[0m\u001b[0my\u001b[0m\u001b[0;34m,\u001b[0m \u001b[0mgy\u001b[0m\u001b[0;34m=\u001b[0m\u001b[0mVariable\u001b[0m\u001b[0;34m(\u001b[0m\u001b[0;36m1.\u001b[0m\u001b[0;34m)\u001b[0m\u001b[0;34m)\u001b[0m\u001b[0;34m:\u001b[0m\u001b[0;34m\u001b[0m\u001b[0m\n\u001b[1;32m     23\u001b[0m     \u001b[0mxs\u001b[0m \u001b[0;34m=\u001b[0m \u001b[0my\u001b[0m\u001b[0;34m.\u001b[0m\u001b[0minput_nodes\u001b[0m\u001b[0;34m\u001b[0m\u001b[0m\n\u001b[0;32m---> 24\u001b[0;31m     \u001b[0mgxs\u001b[0m \u001b[0;34m=\u001b[0m \u001b[0my\u001b[0m\u001b[0;34m.\u001b[0m\u001b[0mcreator\u001b[0m\u001b[0;34m.\u001b[0m\u001b[0mbackward\u001b[0m\u001b[0;34m(\u001b[0m\u001b[0mxs\u001b[0m\u001b[0;34m,\u001b[0m \u001b[0mgy\u001b[0m\u001b[0;34m)\u001b[0m\u001b[0;34m\u001b[0m\u001b[0m\n\u001b[0m\u001b[1;32m     25\u001b[0m     \u001b[0;32mfor\u001b[0m \u001b[0mx\u001b[0m\u001b[0;34m,\u001b[0m \u001b[0mgx\u001b[0m \u001b[0;32min\u001b[0m \u001b[0mzip\u001b[0m\u001b[0;34m(\u001b[0m\u001b[0mxs\u001b[0m\u001b[0;34m,\u001b[0m \u001b[0mgxs\u001b[0m\u001b[0;34m)\u001b[0m\u001b[0;34m:\u001b[0m\u001b[0;34m\u001b[0m\u001b[0m\n\u001b[1;32m     26\u001b[0m         \u001b[0;32mif\u001b[0m \u001b[0;32mnot\u001b[0m \u001b[0misinstance\u001b[0m\u001b[0;34m(\u001b[0m\u001b[0mx\u001b[0m\u001b[0;34m,\u001b[0m \u001b[0mNode\u001b[0m\u001b[0;34m)\u001b[0m\u001b[0;34m:\u001b[0m\u001b[0;34m\u001b[0m\u001b[0m\n",
      "\u001b[0;32m<ipython-input-53-0f0ee6585d23>\u001b[0m in \u001b[0;36mbackward\u001b[0;34m(self, xs, gy)\u001b[0m\n\u001b[1;32m     95\u001b[0m     \u001b[0;32mdef\u001b[0m \u001b[0mbackward\u001b[0m\u001b[0;34m(\u001b[0m\u001b[0mself\u001b[0m\u001b[0;34m,\u001b[0m \u001b[0mxs\u001b[0m\u001b[0;34m,\u001b[0m \u001b[0mgy\u001b[0m\u001b[0;34m)\u001b[0m\u001b[0;34m:\u001b[0m\u001b[0;34m\u001b[0m\u001b[0m\n\u001b[1;32m     96\u001b[0m         \u001b[0mx\u001b[0m\u001b[0;34m,\u001b[0m \u001b[0mW\u001b[0m\u001b[0;34m,\u001b[0m \u001b[0mb\u001b[0m \u001b[0;34m=\u001b[0m \u001b[0mxs\u001b[0m\u001b[0;34m\u001b[0m\u001b[0m\n\u001b[0;32m---> 97\u001b[0;31m         \u001b[0mcol\u001b[0m \u001b[0;34m=\u001b[0m \u001b[0mself\u001b[0m\u001b[0;34m.\u001b[0m\u001b[0mcol\u001b[0m\u001b[0;34m\u001b[0m\u001b[0m\n\u001b[0m\u001b[1;32m     98\u001b[0m \u001b[0;34m\u001b[0m\u001b[0m\n\u001b[1;32m     99\u001b[0m         gx = Node(convolution_2d_backward_x, [x, W, gy],\n",
      "\u001b[0;31mAttributeError\u001b[0m: 'Convolution2DFunction' object has no attribute 'col'"
     ]
    }
   ],
   "source": [
    "y.backward(gy=Variable(y.data))"
   ]
  },
  {
   "cell_type": "code",
   "execution_count": 8,
   "metadata": {},
   "outputs": [
    {
     "data": {
      "text/plain": [
       "6021"
      ]
     },
     "execution_count": 8,
     "metadata": {},
     "output_type": "execute_result"
    }
   ],
   "source": [
    "cupy.cuda.cudnn.getVersion()"
   ]
  },
  {
   "cell_type": "code",
   "execution_count": 24,
   "metadata": {},
   "outputs": [],
   "source": [
    "from chainer import configuration"
   ]
  },
  {
   "cell_type": "code",
   "execution_count": 26,
   "metadata": {},
   "outputs": [],
   "source": [
    "auto_tune = configuration.config.autotune\n",
    "tensor_core = configuration.config.use_cudnn_tensor_core"
   ]
  },
  {
   "cell_type": "code",
   "execution_count": 27,
   "metadata": {},
   "outputs": [
    {
     "data": {
      "text/plain": [
       "False"
      ]
     },
     "execution_count": 27,
     "metadata": {},
     "output_type": "execute_result"
    }
   ],
   "source": [
    "auto_tune"
   ]
  },
  {
   "cell_type": "code",
   "execution_count": 28,
   "metadata": {},
   "outputs": [
    {
     "data": {
      "text/plain": [
       "'auto'"
      ]
     },
     "execution_count": 28,
     "metadata": {},
     "output_type": "execute_result"
    }
   ],
   "source": [
    "tensor_core"
   ]
  },
  {
   "cell_type": "code",
   "execution_count": 59,
   "metadata": {},
   "outputs": [
    {
     "data": {
      "text/plain": [
       "\u001b[0;31mDocstring:\u001b[0m convolution_backward_data(ndarray W, ndarray x, ndarray b, ndarray y, tuple pad, tuple stride, tuple dilation, int groups, *, bool deterministic, bool auto_tune, str tensor_core)\n",
       "\u001b[0;31mType:\u001b[0m      builtin_function_or_method\n"
      ]
     },
     "metadata": {},
     "output_type": "display_data"
    }
   ],
   "source": [
    "cupy.cudnn.convolution_backward_data?"
   ]
  },
  {
   "cell_type": "code",
   "execution_count": 60,
   "metadata": {},
   "outputs": [
    {
     "data": {
      "text/plain": [
       "\u001b[0;31mDocstring:\u001b[0m convolution_backward_filter(ndarray x, ndarray gy, ndarray gW, tuple pad, tuple stride, tuple dilation, int groups, *, bool deterministic, bool auto_tune, str tensor_core)\n",
       "\u001b[0;31mType:\u001b[0m      builtin_function_or_method\n"
      ]
     },
     "metadata": {},
     "output_type": "display_data"
    }
   ],
   "source": [
    "cupy.cudnn.convolution_backward_filter?"
   ]
  },
  {
   "cell_type": "code",
   "execution_count": 68,
   "metadata": {},
   "outputs": [
    {
     "data": {
      "text/plain": [
       "\u001b[0;31mDocstring:\u001b[0m convolution_forward(ndarray x, ndarray W, ndarray b, ndarray y, tuple pad, tuple stride, tuple dilation, int groups, *, bool auto_tune, str tensor_core)\n",
       "\u001b[0;31mType:\u001b[0m      builtin_function_or_method\n"
      ]
     },
     "metadata": {},
     "output_type": "display_data"
    }
   ],
   "source": [
    "cupy.cudnn.convolution_forward?"
   ]
  },
  {
   "cell_type": "code",
   "execution_count": 2,
   "metadata": {},
   "outputs": [],
   "source": [
    "from mandala.autodiff import reshape"
   ]
  },
  {
   "cell_type": "code",
   "execution_count": 3,
   "metadata": {},
   "outputs": [],
   "source": [
    "reshape.install_node_reshape()"
   ]
  },
  {
   "cell_type": "code",
   "execution_count": 4,
   "metadata": {},
   "outputs": [],
   "source": [
    "x = Variable(np.zeros(12))"
   ]
  },
  {
   "cell_type": "code",
   "execution_count": 5,
   "metadata": {},
   "outputs": [
    {
     "data": {
      "text/plain": [
       "array([[ 0.,  0.,  0.,  0.],\n",
       "       [ 0.,  0.,  0.,  0.],\n",
       "       [ 0.,  0.,  0.,  0.]])"
      ]
     },
     "execution_count": 5,
     "metadata": {},
     "output_type": "execute_result"
    }
   ],
   "source": [
    "x.reshape(3, 4).data"
   ]
  },
  {
   "cell_type": "code",
   "execution_count": null,
   "metadata": {},
   "outputs": [],
   "source": []
  }
 ],
 "metadata": {
  "kernelspec": {
   "display_name": "Python 3",
   "language": "python",
   "name": "python3"
  },
  "language_info": {
   "codemirror_mode": {
    "name": "ipython",
    "version": 3
   },
   "file_extension": ".py",
   "mimetype": "text/x-python",
   "name": "python",
   "nbconvert_exporter": "python",
   "pygments_lexer": "ipython3",
   "version": "3.6.3"
  }
 },
 "nbformat": 4,
 "nbformat_minor": 2
}
