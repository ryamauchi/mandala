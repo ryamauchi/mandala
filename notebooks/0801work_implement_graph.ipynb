{
 "cells": [
  {
   "cell_type": "code",
   "execution_count": 17,
   "metadata": {},
   "outputs": [],
   "source": [
    "import sys\n",
    "import numpy as np\n",
    "import cupy as cp\n",
    "\n",
    "sys.path.append('../')\n",
    "\n",
    "import mandala\n",
    "from mandala import Node\n",
    "from mandala import Variable\n",
    "\n",
    "import mandala.autodiff as ad\n",
    "import mandala.autodiff.functions as F"
   ]
  },
  {
   "cell_type": "code",
   "execution_count": 18,
   "metadata": {},
   "outputs": [],
   "source": [
    "class Model(ad.Graph):\n",
    "    def __init__(self):\n",
    "        super(Model, self).__init__()\n",
    "\n",
    "        self.l0 = F.Linear(   5, 1000)\n",
    "        self.l1 = F.Linear(1000, 1000)\n",
    "        self.l2 = F.Linear(1000, 1000)\n",
    "        self.l3 = F.Linear(1000, 1000)\n",
    "        self.l4 = F.Linear(1000, 1000)\n",
    "        self.l5 = F.Linear(1000, 1000)\n",
    "        self.l6 = F.Linear(1000,    3)\n",
    "\n",
    "    def __call__(self, x):\n",
    "        h = F.relu(self.l0(x))\n",
    "        h = F.relu(self.l1(h))\n",
    "        h = F.relu(self.l2(h))\n",
    "        h = F.relu(self.l3(h))\n",
    "        h = F.relu(self.l4(h))\n",
    "        h = F.relu(self.l5(h))\n",
    "        y = F.relu(self.l6(h))\n",
    "        return y"
   ]
  },
  {
   "cell_type": "code",
   "execution_count": 19,
   "metadata": {},
   "outputs": [],
   "source": [
    "xp = cp"
   ]
  },
  {
   "cell_type": "code",
   "execution_count": 20,
   "metadata": {},
   "outputs": [],
   "source": [
    "model = Model()\n",
    "model.to_gpu()"
   ]
  },
  {
   "cell_type": "code",
   "execution_count": 21,
   "metadata": {},
   "outputs": [],
   "source": [
    "# 真の係数\n",
    "W = xp.arange(15, dtype=np.float32).reshape(3, 5)\n",
    "b = xp.arange(3, dtype=np.float32)"
   ]
  },
  {
   "cell_type": "code",
   "execution_count": 27,
   "metadata": {},
   "outputs": [
    {
     "data": {
      "text/plain": [
       "{'l0': <mandala.autodiff.functions.linear.Linear at 0x7fedbdad0470>,\n",
       " 'l1': <mandala.autodiff.functions.linear.Linear at 0x7fedbdad0588>,\n",
       " 'l2': <mandala.autodiff.functions.linear.Linear at 0x7fedbdad0630>,\n",
       " 'l3': <mandala.autodiff.functions.linear.Linear at 0x7fedbdad0c18>,\n",
       " 'l4': <mandala.autodiff.functions.linear.Linear at 0x7fedbdad06a0>,\n",
       " 'l5': <mandala.autodiff.functions.linear.Linear at 0x7fedbdb31550>,\n",
       " 'l6': <mandala.autodiff.functions.linear.Linear at 0x7fedbdac4358>}"
      ]
     },
     "execution_count": 27,
     "metadata": {},
     "output_type": "execute_result"
    }
   ],
   "source": [
    "model.subgraphs"
   ]
  },
  {
   "cell_type": "markdown",
   "metadata": {},
   "source": [
    "## Test"
   ]
  },
  {
   "cell_type": "code",
   "execution_count": 23,
   "metadata": {},
   "outputs": [],
   "source": [
    "import time"
   ]
  },
  {
   "cell_type": "code",
   "execution_count": 24,
   "metadata": {},
   "outputs": [],
   "source": [
    "batch_size = 32"
   ]
  },
  {
   "cell_type": "code",
   "execution_count": 25,
   "metadata": {},
   "outputs": [
    {
     "name": "stdout",
     "output_type": "stream",
     "text": [
      "1465.1697\n",
      "1377.5023\n",
      "1255.2747\n",
      "987.88574\n",
      "1151.0443\n",
      "330.19012\n",
      "40.940514\n",
      "7.5541234\n",
      "2.5024438\n",
      "2.096587\n",
      "2.059877\n",
      "3.3868232\n",
      "4.651155\n",
      "5.734512\n",
      "4.041678\n",
      "4.722045\n",
      "3.417812\n",
      "3.6086245\n",
      "4.848629\n",
      "7.400386\n",
      "8.822976\n",
      "10.159074\n",
      "6.4284763\n",
      "7.433393\n",
      "7.2929983\n",
      "8.142021\n",
      "5.255807\n",
      "6.1913633\n",
      "3.960888\n",
      "6.2092295\n",
      "6.3371754\n",
      "6.853778\n",
      "5.6145644\n",
      "9.076102\n",
      "12.471974\n",
      "20.838785\n",
      "19.754498\n",
      "22.927917\n",
      "12.53281\n",
      "18.66572\n",
      "15.206768\n",
      "17.087418\n",
      "7.726942\n",
      "7.9481115\n",
      "5.811977\n",
      "8.9317875\n",
      "5.741173\n",
      "6.0945187\n",
      "5.6697397\n",
      "4.3192625\n",
      "2.5454612\n",
      "1.3391639\n",
      "0.5194106\n",
      "0.67949134\n",
      "0.5272204\n",
      "0.5922139\n",
      "0.73404396\n",
      "0.6962881\n",
      "0.8274764\n",
      "0.8132\n",
      "0.8734376\n",
      "0.5183546\n",
      "0.9371854\n",
      "0.9192647\n",
      "0.59785795\n",
      "0.58753717\n",
      "0.96124786\n",
      "0.7866516\n",
      "1.0506904\n",
      "1.2100782\n",
      "0.54250336\n",
      "0.46345323\n",
      "0.30857486\n",
      "0.6757778\n",
      "0.52989686\n",
      "0.41163024\n",
      "0.32805687\n",
      "0.44030672\n",
      "0.5382209\n",
      "0.4477445\n",
      "0.27252334\n",
      "0.5257319\n",
      "0.62917054\n",
      "0.6507886\n",
      "0.48263493\n",
      "0.4788032\n",
      "0.52230823\n",
      "0.37600467\n",
      "0.36755335\n",
      "0.40876725\n",
      "0.3687814\n",
      "0.29227737\n",
      "0.44269508\n",
      "0.41219383\n",
      "0.5623789\n",
      "0.5061917\n",
      "0.41838634\n",
      "0.42867166\n",
      "0.54501075\n",
      "0.5435853\n",
      "time: 0.5235574245452881\n"
     ]
    }
   ],
   "source": [
    "s = time.time()\n",
    "lr = 1e-4\n",
    "\n",
    "for i in range(100):\n",
    "    # make batch\n",
    "    x = Variable(xp.random.random((batch_size, 5)).astype(np.float32))\n",
    "    t = Variable(xp.matmul(x.data, W.T) + b)\n",
    "    \n",
    "    # forward\n",
    "    y  = model(x)\n",
    "    loss = (y - t) ** 2 / batch_size\n",
    "\n",
    "    # loss\n",
    "    loss = F.sum((y - t) ** 2) / batch_size\n",
    "\n",
    "    # backward\n",
    "    model.cleargrads()\n",
    "    loss.backward()\n",
    "    \n",
    "    # update\n",
    "    for p in model.params.values():\n",
    "        p.data -= lr * p.grad.data\n",
    "\n",
    "    print(loss.data)\n",
    "\n",
    "\n",
    "\n",
    "print('time:', time.time() - s)"
   ]
  },
  {
   "cell_type": "markdown",
   "metadata": {},
   "source": [
    "## Chainer との速度比較"
   ]
  },
  {
   "cell_type": "code",
   "execution_count": 10,
   "metadata": {},
   "outputs": [
    {
     "name": "stderr",
     "output_type": "stream",
     "text": [
      "/home/ryutaro_yamauchi/anaconda3/lib/python3.6/site-packages/h5py/__init__.py:36: FutureWarning: Conversion of the second argument of issubdtype from `float` to `np.floating` is deprecated. In future, it will be treated as `np.float64 == np.dtype(float).type`.\n",
      "  from ._conv import register_converters as _register_converters\n"
     ]
    }
   ],
   "source": [
    "import chainer\n",
    "import chainer.functions as F\n",
    "import chainer.links as L\n",
    "from chainer import optimizer"
   ]
  },
  {
   "cell_type": "code",
   "execution_count": 11,
   "metadata": {},
   "outputs": [],
   "source": [
    "class Model(chainer.Chain):\n",
    "    def __init__(self):\n",
    "        super().__init__()\n",
    "        with self.init_scope():\n",
    "            self.l0 = L.Linear(   5, 1000)\n",
    "            self.l1 = L.Linear(1000, 1000)\n",
    "            self.l2 = L.Linear(1000, 1000)\n",
    "            self.l3 = L.Linear(1000, 1000)\n",
    "            self.l4 = L.Linear(1000, 1000)\n",
    "            self.l5 = L.Linear(1000, 1000)\n",
    "            self.l6 = L.Linear(1000,    3)\n",
    "\n",
    "    def __call__(self, x):\n",
    "        h  = F.relu(self.l0(x))\n",
    "        h  = F.relu(self.l1(h))\n",
    "        h  = F.relu(self.l2(h))\n",
    "        h  = F.relu(self.l3(h))\n",
    "        h  = F.relu(self.l4(h))\n",
    "        h  = F.relu(self.l5(h))\n",
    "        y  = self.l6(h)\n",
    "        return y"
   ]
  },
  {
   "cell_type": "code",
   "execution_count": 12,
   "metadata": {},
   "outputs": [
    {
     "data": {
      "text/plain": [
       "<__main__.Model at 0x7fedbdba22b0>"
      ]
     },
     "execution_count": 12,
     "metadata": {},
     "output_type": "execute_result"
    }
   ],
   "source": [
    "model = Model()\n",
    "model.to_gpu()"
   ]
  },
  {
   "cell_type": "code",
   "execution_count": 13,
   "metadata": {},
   "outputs": [
    {
     "data": {
      "text/plain": [
       "<chainer.optimizers.sgd.SGD at 0x7fedbdac43c8>"
      ]
     },
     "execution_count": 13,
     "metadata": {},
     "output_type": "execute_result"
    }
   ],
   "source": [
    "opt = chainer.optimizers.SGD(lr=1e-4)\n",
    "opt.setup(model)"
   ]
  },
  {
   "cell_type": "code",
   "execution_count": 14,
   "metadata": {},
   "outputs": [
    {
     "name": "stdout",
     "output_type": "stream",
     "text": [
      "469.14413\n",
      "560.5114\n",
      "479.89108\n",
      "439.02774\n",
      "398.0128\n",
      "486.67892\n",
      "434.71338\n",
      "498.61557\n",
      "513.89453\n",
      "501.6971\n",
      "464.2211\n",
      "433.64822\n",
      "416.07434\n",
      "536.9349\n",
      "477.8173\n",
      "489.48837\n",
      "494.19727\n",
      "401.93628\n",
      "445.39432\n",
      "480.13217\n",
      "506.47742\n",
      "522.77313\n",
      "410.80103\n",
      "457.75757\n",
      "399.5559\n",
      "450.61612\n",
      "478.848\n",
      "448.16895\n",
      "414.1567\n",
      "448.49265\n",
      "431.42007\n",
      "347.9515\n",
      "425.59286\n",
      "334.4722\n",
      "373.50952\n",
      "317.1681\n",
      "303.7303\n",
      "278.90637\n",
      "282.18857\n",
      "225.18282\n",
      "210.00865\n",
      "220.16206\n",
      "161.43806\n",
      "116.8025\n",
      "92.416954\n",
      "49.78757\n",
      "39.59161\n",
      "19.688545\n",
      "12.267301\n",
      "6.3309293\n",
      "1.9553394\n",
      "1.6218678\n",
      "1.7208099\n",
      "1.29629\n",
      "1.7037927\n",
      "1.169364\n",
      "1.2506849\n",
      "1.7126869\n",
      "1.150827\n",
      "1.1362349\n",
      "1.4127616\n",
      "1.4066372\n",
      "0.7393283\n",
      "1.1587137\n",
      "1.1940593\n",
      "0.859771\n",
      "1.1856561\n",
      "1.0925846\n",
      "1.0842143\n",
      "1.4197389\n",
      "1.2192324\n",
      "1.1245869\n",
      "1.1180047\n",
      "1.3830324\n",
      "0.8384678\n",
      "0.9767073\n",
      "1.4450407\n",
      "1.3833526\n",
      "0.8328821\n",
      "0.7093623\n",
      "0.86091423\n",
      "1.1820178\n",
      "1.1244105\n",
      "0.9225852\n",
      "1.2034284\n",
      "1.129447\n",
      "0.7484564\n",
      "1.0831754\n",
      "0.98497605\n",
      "0.933878\n",
      "1.3950139\n",
      "1.0491279\n",
      "0.9912393\n",
      "0.975163\n",
      "0.62471503\n",
      "1.0899663\n",
      "0.8614957\n",
      "0.78640395\n",
      "1.1347501\n",
      "0.78920263\n",
      "0.6778316497802734\n"
     ]
    }
   ],
   "source": [
    "batchsize = 32\n",
    "s = time.time()\n",
    "\n",
    "for i in range(100):\n",
    "    # make batch\n",
    "    x = xp.random.random((batchsize, 5)).astype(np.float32)\n",
    "    t = xp.matmul(x, W.T) + b\n",
    "    \n",
    "    # forward\n",
    "    y = model(x)\n",
    "\n",
    "    # loss\n",
    "    loss = F.mean_squared_error(y, t)\n",
    "\n",
    "    # backward\n",
    "    model.cleargrads()\n",
    "    loss.backward()\n",
    "    \n",
    "    # update\n",
    "    opt.update()\n",
    "\n",
    "    print(loss.data)\n",
    "\n",
    "print(time.time() - s)"
   ]
  },
  {
   "cell_type": "code",
   "execution_count": null,
   "metadata": {},
   "outputs": [],
   "source": []
  },
  {
   "cell_type": "code",
   "execution_count": null,
   "metadata": {},
   "outputs": [],
   "source": []
  }
 ],
 "metadata": {
  "kernelspec": {
   "display_name": "Python 3",
   "language": "python",
   "name": "python3"
  },
  "language_info": {
   "codemirror_mode": {
    "name": "ipython",
    "version": 3
   },
   "file_extension": ".py",
   "mimetype": "text/x-python",
   "name": "python",
   "nbconvert_exporter": "python",
   "pygments_lexer": "ipython3",
   "version": "3.6.1"
  }
 },
 "nbformat": 4,
 "nbformat_minor": 2
}
