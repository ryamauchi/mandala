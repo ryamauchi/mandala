{
 "cells": [
  {
   "cell_type": "code",
   "execution_count": 1,
   "metadata": {},
   "outputs": [],
   "source": [
    "import sys\n",
    "import numpy as np\n",
    "import cupy as cp\n",
    "\n",
    "sys.path.append('../')\n",
    "\n",
    "import mandala\n",
    "from mandala import Node\n",
    "from mandala import Variable\n",
    "\n",
    "import mandala.autodiff as ad\n",
    "import mandala.autodiff.functions as F\n",
    "\n",
    "cp.cuda.Device(1).use()"
   ]
  },
  {
   "cell_type": "code",
   "execution_count": 2,
   "metadata": {},
   "outputs": [],
   "source": [
    "class Model(ad.Graph):\n",
    "    def __init__(self):\n",
    "        super(Model, self).__init__()\n",
    "\n",
    "        self.l0 = F.Linear(   5, 1000)\n",
    "        self.l1 = F.Linear(1000, 1000)\n",
    "        self.l2 = F.Linear(1000, 1000)\n",
    "        self.l3 = F.Linear(1000, 1000)\n",
    "        self.l4 = F.Linear(1000, 1000)\n",
    "        self.l5 = F.Linear(1000, 1000)\n",
    "        self.l6 = F.Linear(1000,    3)\n",
    "\n",
    "    def __call__(self, x):\n",
    "        h = F.relu(self.l0(x))\n",
    "        h = F.relu(self.l1(h))\n",
    "        h = F.relu(self.l2(h))\n",
    "        h = F.relu(self.l3(h))\n",
    "        h = F.relu(self.l4(h))\n",
    "        h = F.relu(self.l5(h))\n",
    "        y = F.relu(self.l6(h))\n",
    "        return y"
   ]
  },
  {
   "cell_type": "code",
   "execution_count": 3,
   "metadata": {},
   "outputs": [],
   "source": [
    "xp = cp"
   ]
  },
  {
   "cell_type": "code",
   "execution_count": 4,
   "metadata": {},
   "outputs": [],
   "source": [
    "model = Model()\n",
    "model.to_gpu()"
   ]
  },
  {
   "cell_type": "code",
   "execution_count": 5,
   "metadata": {},
   "outputs": [],
   "source": [
    "W = xp.arange(15, dtype=np.float32).reshape(3, 5)\n",
    "b = xp.arange(3, dtype=np.float32)"
   ]
  },
  {
   "cell_type": "code",
   "execution_count": 6,
   "metadata": {},
   "outputs": [
    {
     "data": {
      "text/plain": [
       "{'l0': <mandala.autodiff.functions.linear.Linear at 0x7fe1e685b208>,\n",
       " 'l1': <mandala.autodiff.functions.linear.Linear at 0x7fe1e685b860>,\n",
       " 'l2': <mandala.autodiff.functions.linear.Linear at 0x7fe1e685ba20>,\n",
       " 'l3': <mandala.autodiff.functions.linear.Linear at 0x7fe1e685bf98>,\n",
       " 'l4': <mandala.autodiff.functions.linear.Linear at 0x7fe1e685bfd0>,\n",
       " 'l5': <mandala.autodiff.functions.linear.Linear at 0x7fe1e685b6d8>,\n",
       " 'l6': <mandala.autodiff.functions.linear.Linear at 0x7fe1e685b550>}"
      ]
     },
     "execution_count": 6,
     "metadata": {},
     "output_type": "execute_result"
    }
   ],
   "source": [
    "model.subgraphs"
   ]
  },
  {
   "cell_type": "markdown",
   "metadata": {},
   "source": [
    "## Test"
   ]
  },
  {
   "cell_type": "code",
   "execution_count": 7,
   "metadata": {},
   "outputs": [],
   "source": [
    "import time"
   ]
  },
  {
   "cell_type": "code",
   "execution_count": 15,
   "metadata": {},
   "outputs": [],
   "source": [
    "batch_size = 1024"
   ]
  },
  {
   "cell_type": "code",
   "execution_count": 16,
   "metadata": {},
   "outputs": [
    {
     "data": {
      "text/plain": [
       "<CUDA Device 1>"
      ]
     },
     "execution_count": 16,
     "metadata": {},
     "output_type": "execute_result"
    }
   ],
   "source": [
    "model.l1.b.data.device"
   ]
  },
  {
   "cell_type": "code",
   "execution_count": 17,
   "metadata": {},
   "outputs": [
    {
     "name": "stdout",
     "output_type": "stream",
     "text": [
      "time: 4.973711252212524\n"
     ]
    }
   ],
   "source": [
    "s = time.time()\n",
    "lr = 1e-4\n",
    "\n",
    "for i in range(1000):\n",
    "    # make batch\n",
    "    x = Variable(xp.random.random((batch_size, 5)).astype(np.float32))\n",
    "    t = Variable(xp.matmul(x.data, W.T) + b)\n",
    "    \n",
    "    # forward\n",
    "    y  = model(x)\n",
    "    loss = (y - t) ** 2 / batch_size\n",
    "\n",
    "    # loss\n",
    "    loss = F.sum((y - t) ** 2) / batch_size\n",
    "\n",
    "    # backward\n",
    "    model.cleargrads()\n",
    "    loss.backward()\n",
    "\n",
    "    # update\n",
    "    for p in model.params.values():\n",
    "        p.grad.reserve()\n",
    "\n",
    "    for p in model.params.values():\n",
    "        p.data -= lr * p.grad.data\n",
    "\n",
    "    #print(loss.data)\n",
    "\n",
    "\n",
    "\n",
    "print('time:', time.time() - s)"
   ]
  },
  {
   "cell_type": "code",
   "execution_count": null,
   "metadata": {},
   "outputs": [],
   "source": []
  },
  {
   "cell_type": "code",
   "execution_count": 18,
   "metadata": {},
   "outputs": [
    {
     "data": {
      "text/plain": [
       "mandala.nodecore.Variable"
      ]
     },
     "execution_count": 18,
     "metadata": {},
     "output_type": "execute_result"
    }
   ],
   "source": [
    "p.__class__"
   ]
  },
  {
   "cell_type": "code",
   "execution_count": 19,
   "metadata": {},
   "outputs": [],
   "source": [
    "def check_memory(start):\n",
    "    if start._data is not None:\n",
    "        print(start.__class__, start.shape)\n",
    "    for node in start.input_nodes:\n",
    "        check_memory(node)"
   ]
  },
  {
   "cell_type": "code",
   "execution_count": 20,
   "metadata": {},
   "outputs": [
    {
     "name": "stdout",
     "output_type": "stream",
     "text": [
      "<class 'mandala.nodecore.Variable'> (1000, 5)\n",
      "<class 'mandala.nodecore.Variable'> (1024, 5)\n",
      "<class 'mandala.nodecore.Variable'> (1000, 5)\n",
      "<class 'mandala.nodecore.Variable'> (1000,)\n",
      "<class 'mandala.nodecore.Variable'> (1024, 5)\n",
      "<class 'mandala.nodecore.Variable'> (1000, 5)\n",
      "<class 'mandala.nodecore.Variable'> (1000,)\n",
      "<class 'mandala.nodecore.Variable'> (1000, 1000)\n",
      "<class 'mandala.nodecore.Variable'> (1024, 5)\n",
      "<class 'mandala.nodecore.Variable'> (1000, 5)\n",
      "<class 'mandala.nodecore.Variable'> (1000,)\n",
      "<class 'mandala.nodecore.Variable'> (1000, 1000)\n",
      "<class 'mandala.nodecore.Variable'> (1000,)\n",
      "<class 'mandala.nodecore.Variable'> (1024, 5)\n",
      "<class 'mandala.nodecore.Variable'> (1000, 5)\n",
      "<class 'mandala.nodecore.Variable'> (1000,)\n",
      "<class 'mandala.nodecore.Variable'> (1000, 1000)\n",
      "<class 'mandala.nodecore.Variable'> (1000,)\n",
      "<class 'mandala.nodecore.Variable'> (1000, 1000)\n",
      "<class 'mandala.nodecore.Variable'> (1024, 5)\n",
      "<class 'mandala.nodecore.Variable'> (1000, 5)\n",
      "<class 'mandala.nodecore.Variable'> (1000,)\n",
      "<class 'mandala.nodecore.Variable'> (1000, 1000)\n",
      "<class 'mandala.nodecore.Variable'> (1000,)\n",
      "<class 'mandala.nodecore.Variable'> (1000, 1000)\n",
      "<class 'mandala.nodecore.Variable'> (1000,)\n",
      "<class 'mandala.nodecore.Variable'> (1024, 5)\n",
      "<class 'mandala.nodecore.Variable'> (1000, 5)\n",
      "<class 'mandala.nodecore.Variable'> (1000,)\n",
      "<class 'mandala.nodecore.Variable'> (1000, 1000)\n",
      "<class 'mandala.nodecore.Variable'> (1000,)\n",
      "<class 'mandala.nodecore.Variable'> (1000, 1000)\n",
      "<class 'mandala.nodecore.Variable'> (1000,)\n",
      "<class 'mandala.nodecore.Variable'> (1000, 1000)\n",
      "<class 'mandala.nodecore.Variable'> (1024, 5)\n",
      "<class 'mandala.nodecore.Variable'> (1000, 5)\n",
      "<class 'mandala.nodecore.Variable'> (1000,)\n",
      "<class 'mandala.nodecore.Variable'> (1000, 1000)\n",
      "<class 'mandala.nodecore.Variable'> (1000,)\n",
      "<class 'mandala.nodecore.Variable'> (1000, 1000)\n",
      "<class 'mandala.nodecore.Variable'> (1000,)\n",
      "<class 'mandala.nodecore.Variable'> (1000, 1000)\n",
      "<class 'mandala.nodecore.Variable'> (1000,)\n",
      "<class 'mandala.nodecore.Variable'> (1024, 5)\n",
      "<class 'mandala.nodecore.Variable'> (1000, 5)\n",
      "<class 'mandala.nodecore.Variable'> (1000,)\n",
      "<class 'mandala.nodecore.Variable'> (1000, 1000)\n",
      "<class 'mandala.nodecore.Variable'> (1000,)\n",
      "<class 'mandala.nodecore.Variable'> (1000, 1000)\n",
      "<class 'mandala.nodecore.Variable'> (1000,)\n",
      "<class 'mandala.nodecore.Variable'> (1000, 1000)\n",
      "<class 'mandala.nodecore.Variable'> (1000,)\n",
      "<class 'mandala.nodecore.Variable'> (1000, 1000)\n",
      "<class 'mandala.nodecore.Variable'> (1024, 5)\n",
      "<class 'mandala.nodecore.Variable'> (1000, 5)\n",
      "<class 'mandala.nodecore.Variable'> (1000,)\n",
      "<class 'mandala.nodecore.Variable'> (1000, 1000)\n",
      "<class 'mandala.nodecore.Variable'> (1000,)\n",
      "<class 'mandala.nodecore.Variable'> (1000, 1000)\n",
      "<class 'mandala.nodecore.Variable'> (1000,)\n",
      "<class 'mandala.nodecore.Variable'> (1000, 1000)\n",
      "<class 'mandala.nodecore.Variable'> (1000,)\n",
      "<class 'mandala.nodecore.Variable'> (1000, 1000)\n",
      "<class 'mandala.nodecore.Variable'> (1000,)\n",
      "<class 'mandala.nodecore.Variable'> (1024, 5)\n",
      "<class 'mandala.nodecore.Variable'> (1000, 5)\n",
      "<class 'mandala.nodecore.Variable'> (1000,)\n",
      "<class 'mandala.nodecore.Variable'> (1000, 1000)\n",
      "<class 'mandala.nodecore.Variable'> (1000,)\n",
      "<class 'mandala.nodecore.Variable'> (1000, 1000)\n",
      "<class 'mandala.nodecore.Variable'> (1000,)\n",
      "<class 'mandala.nodecore.Variable'> (1000, 1000)\n",
      "<class 'mandala.nodecore.Variable'> (1000,)\n",
      "<class 'mandala.nodecore.Variable'> (1000, 1000)\n",
      "<class 'mandala.nodecore.Variable'> (1000,)\n",
      "<class 'mandala.nodecore.Variable'> (1000, 1000)\n",
      "<class 'mandala.nodecore.Variable'> (1024, 5)\n",
      "<class 'mandala.nodecore.Variable'> (1000, 5)\n",
      "<class 'mandala.nodecore.Variable'> (1000,)\n",
      "<class 'mandala.nodecore.Variable'> (1000, 1000)\n",
      "<class 'mandala.nodecore.Variable'> (1000,)\n",
      "<class 'mandala.nodecore.Variable'> (1000, 1000)\n",
      "<class 'mandala.nodecore.Variable'> (1000,)\n",
      "<class 'mandala.nodecore.Variable'> (1000, 1000)\n",
      "<class 'mandala.nodecore.Variable'> (1000,)\n",
      "<class 'mandala.nodecore.Variable'> (1000, 1000)\n",
      "<class 'mandala.nodecore.Variable'> (1000,)\n",
      "<class 'mandala.nodecore.Variable'> (1000, 1000)\n",
      "<class 'mandala.nodecore.Variable'> (1000,)\n",
      "<class 'mandala.nodecore.Variable'> (1024, 5)\n",
      "<class 'mandala.nodecore.Variable'> (1000, 5)\n",
      "<class 'mandala.nodecore.Variable'> (1000,)\n",
      "<class 'mandala.nodecore.Variable'> (1000, 1000)\n",
      "<class 'mandala.nodecore.Variable'> (1000,)\n",
      "<class 'mandala.nodecore.Variable'> (1000, 1000)\n",
      "<class 'mandala.nodecore.Variable'> (1000,)\n",
      "<class 'mandala.nodecore.Variable'> (1000, 1000)\n",
      "<class 'mandala.nodecore.Variable'> (1000,)\n",
      "<class 'mandala.nodecore.Variable'> (1000, 1000)\n",
      "<class 'mandala.nodecore.Variable'> (1000,)\n",
      "<class 'mandala.nodecore.Variable'> (1000, 1000)\n",
      "<class 'mandala.nodecore.Variable'> (1000,)\n",
      "<class 'mandala.nodecore.Variable'> (3, 1000)\n",
      "<class 'mandala.nodecore.Variable'> (1024, 5)\n",
      "<class 'mandala.nodecore.Variable'> (1000, 5)\n",
      "<class 'mandala.nodecore.Variable'> (1000,)\n",
      "<class 'mandala.nodecore.Variable'> (1000, 1000)\n",
      "<class 'mandala.nodecore.Variable'> (1000,)\n",
      "<class 'mandala.nodecore.Variable'> (1000, 1000)\n",
      "<class 'mandala.nodecore.Variable'> (1000,)\n",
      "<class 'mandala.nodecore.Variable'> (1000, 1000)\n",
      "<class 'mandala.nodecore.Variable'> (1000,)\n",
      "<class 'mandala.nodecore.Variable'> (1000, 1000)\n",
      "<class 'mandala.nodecore.Variable'> (1000,)\n",
      "<class 'mandala.nodecore.Variable'> (1000, 1000)\n",
      "<class 'mandala.nodecore.Variable'> (1000,)\n",
      "<class 'mandala.nodecore.Variable'> (3, 1000)\n",
      "<class 'mandala.nodecore.Variable'> (3,)\n",
      "<class 'mandala.nodecore.Variable'> (1024, 5)\n",
      "<class 'mandala.nodecore.Variable'> (1000, 5)\n",
      "<class 'mandala.nodecore.Variable'> (1000,)\n",
      "<class 'mandala.nodecore.Variable'> (1000, 1000)\n",
      "<class 'mandala.nodecore.Variable'> (1000,)\n",
      "<class 'mandala.nodecore.Variable'> (1000, 1000)\n",
      "<class 'mandala.nodecore.Variable'> (1000,)\n",
      "<class 'mandala.nodecore.Variable'> (1000, 1000)\n",
      "<class 'mandala.nodecore.Variable'> (1000,)\n",
      "<class 'mandala.nodecore.Variable'> (1000, 1000)\n",
      "<class 'mandala.nodecore.Variable'> (1000,)\n",
      "<class 'mandala.nodecore.Variable'> (1000, 1000)\n",
      "<class 'mandala.nodecore.Variable'> (1000,)\n",
      "<class 'mandala.nodecore.Variable'> (3, 1000)\n",
      "<class 'mandala.nodecore.Variable'> (3,)\n",
      "<class 'mandala.nodecore.Variable'> (1024, 5)\n",
      "<class 'mandala.nodecore.Variable'> (1000, 5)\n",
      "<class 'mandala.nodecore.Variable'> (1000,)\n",
      "<class 'mandala.nodecore.Variable'> (1000, 1000)\n",
      "<class 'mandala.nodecore.Variable'> (1000,)\n",
      "<class 'mandala.nodecore.Variable'> (1000, 1000)\n",
      "<class 'mandala.nodecore.Variable'> (1000,)\n",
      "<class 'mandala.nodecore.Variable'> (1000, 1000)\n",
      "<class 'mandala.nodecore.Variable'> (1000,)\n",
      "<class 'mandala.nodecore.Variable'> (1000, 1000)\n",
      "<class 'mandala.nodecore.Variable'> (1000,)\n",
      "<class 'mandala.nodecore.Variable'> (1000, 1000)\n",
      "<class 'mandala.nodecore.Variable'> (1000,)\n",
      "<class 'mandala.nodecore.Variable'> (3, 1000)\n",
      "<class 'mandala.nodecore.Variable'> (3,)\n",
      "<class 'mandala.nodecore.Variable'> (1024, 3)\n"
     ]
    },
    {
     "ename": "AttributeError",
     "evalue": "'int' object has no attribute 'shape'",
     "output_type": "error",
     "traceback": [
      "\u001b[0;31m---------------------------------------------------------------------------\u001b[0m",
      "\u001b[0;31mAttributeError\u001b[0m                            Traceback (most recent call last)",
      "\u001b[0;32m<ipython-input-20-33bb8e163fa4>\u001b[0m in \u001b[0;36m<module>\u001b[0;34m()\u001b[0m\n\u001b[0;32m----> 1\u001b[0;31m \u001b[0mcheck_memory\u001b[0m\u001b[0;34m(\u001b[0m\u001b[0mx\u001b[0m\u001b[0;34m.\u001b[0m\u001b[0mgrad\u001b[0m\u001b[0;34m)\u001b[0m\u001b[0;34m\u001b[0m\u001b[0m\n\u001b[0m",
      "\u001b[0;32m<ipython-input-19-f5a93c62e1b4>\u001b[0m in \u001b[0;36mcheck_memory\u001b[0;34m(start)\u001b[0m\n\u001b[1;32m      3\u001b[0m         \u001b[0mprint\u001b[0m\u001b[0;34m(\u001b[0m\u001b[0mstart\u001b[0m\u001b[0;34m.\u001b[0m\u001b[0m__class__\u001b[0m\u001b[0;34m,\u001b[0m \u001b[0mstart\u001b[0m\u001b[0;34m.\u001b[0m\u001b[0mshape\u001b[0m\u001b[0;34m)\u001b[0m\u001b[0;34m\u001b[0m\u001b[0m\n\u001b[1;32m      4\u001b[0m     \u001b[0;32mfor\u001b[0m \u001b[0mnode\u001b[0m \u001b[0;32min\u001b[0m \u001b[0mstart\u001b[0m\u001b[0;34m.\u001b[0m\u001b[0minput_nodes\u001b[0m\u001b[0;34m:\u001b[0m\u001b[0;34m\u001b[0m\u001b[0m\n\u001b[0;32m----> 5\u001b[0;31m         \u001b[0mcheck_memory\u001b[0m\u001b[0;34m(\u001b[0m\u001b[0mnode\u001b[0m\u001b[0;34m)\u001b[0m\u001b[0;34m\u001b[0m\u001b[0m\n\u001b[0m",
      "\u001b[0;32m<ipython-input-19-f5a93c62e1b4>\u001b[0m in \u001b[0;36mcheck_memory\u001b[0;34m(start)\u001b[0m\n\u001b[1;32m      3\u001b[0m         \u001b[0mprint\u001b[0m\u001b[0;34m(\u001b[0m\u001b[0mstart\u001b[0m\u001b[0;34m.\u001b[0m\u001b[0m__class__\u001b[0m\u001b[0;34m,\u001b[0m \u001b[0mstart\u001b[0m\u001b[0;34m.\u001b[0m\u001b[0mshape\u001b[0m\u001b[0;34m)\u001b[0m\u001b[0;34m\u001b[0m\u001b[0m\n\u001b[1;32m      4\u001b[0m     \u001b[0;32mfor\u001b[0m \u001b[0mnode\u001b[0m \u001b[0;32min\u001b[0m \u001b[0mstart\u001b[0m\u001b[0;34m.\u001b[0m\u001b[0minput_nodes\u001b[0m\u001b[0;34m:\u001b[0m\u001b[0;34m\u001b[0m\u001b[0m\n\u001b[0;32m----> 5\u001b[0;31m         \u001b[0mcheck_memory\u001b[0m\u001b[0;34m(\u001b[0m\u001b[0mnode\u001b[0m\u001b[0;34m)\u001b[0m\u001b[0;34m\u001b[0m\u001b[0m\n\u001b[0m",
      "\u001b[0;32m<ipython-input-19-f5a93c62e1b4>\u001b[0m in \u001b[0;36mcheck_memory\u001b[0;34m(start)\u001b[0m\n\u001b[1;32m      3\u001b[0m         \u001b[0mprint\u001b[0m\u001b[0;34m(\u001b[0m\u001b[0mstart\u001b[0m\u001b[0;34m.\u001b[0m\u001b[0m__class__\u001b[0m\u001b[0;34m,\u001b[0m \u001b[0mstart\u001b[0m\u001b[0;34m.\u001b[0m\u001b[0mshape\u001b[0m\u001b[0;34m)\u001b[0m\u001b[0;34m\u001b[0m\u001b[0m\n\u001b[1;32m      4\u001b[0m     \u001b[0;32mfor\u001b[0m \u001b[0mnode\u001b[0m \u001b[0;32min\u001b[0m \u001b[0mstart\u001b[0m\u001b[0;34m.\u001b[0m\u001b[0minput_nodes\u001b[0m\u001b[0;34m:\u001b[0m\u001b[0;34m\u001b[0m\u001b[0m\n\u001b[0;32m----> 5\u001b[0;31m         \u001b[0mcheck_memory\u001b[0m\u001b[0;34m(\u001b[0m\u001b[0mnode\u001b[0m\u001b[0;34m)\u001b[0m\u001b[0;34m\u001b[0m\u001b[0m\n\u001b[0m",
      "\u001b[0;32m<ipython-input-19-f5a93c62e1b4>\u001b[0m in \u001b[0;36mcheck_memory\u001b[0;34m(start)\u001b[0m\n\u001b[1;32m      3\u001b[0m         \u001b[0mprint\u001b[0m\u001b[0;34m(\u001b[0m\u001b[0mstart\u001b[0m\u001b[0;34m.\u001b[0m\u001b[0m__class__\u001b[0m\u001b[0;34m,\u001b[0m \u001b[0mstart\u001b[0m\u001b[0;34m.\u001b[0m\u001b[0mshape\u001b[0m\u001b[0;34m)\u001b[0m\u001b[0;34m\u001b[0m\u001b[0m\n\u001b[1;32m      4\u001b[0m     \u001b[0;32mfor\u001b[0m \u001b[0mnode\u001b[0m \u001b[0;32min\u001b[0m \u001b[0mstart\u001b[0m\u001b[0;34m.\u001b[0m\u001b[0minput_nodes\u001b[0m\u001b[0;34m:\u001b[0m\u001b[0;34m\u001b[0m\u001b[0m\n\u001b[0;32m----> 5\u001b[0;31m         \u001b[0mcheck_memory\u001b[0m\u001b[0;34m(\u001b[0m\u001b[0mnode\u001b[0m\u001b[0;34m)\u001b[0m\u001b[0;34m\u001b[0m\u001b[0m\n\u001b[0m",
      "\u001b[0;32m<ipython-input-19-f5a93c62e1b4>\u001b[0m in \u001b[0;36mcheck_memory\u001b[0;34m(start)\u001b[0m\n\u001b[1;32m      3\u001b[0m         \u001b[0mprint\u001b[0m\u001b[0;34m(\u001b[0m\u001b[0mstart\u001b[0m\u001b[0;34m.\u001b[0m\u001b[0m__class__\u001b[0m\u001b[0;34m,\u001b[0m \u001b[0mstart\u001b[0m\u001b[0;34m.\u001b[0m\u001b[0mshape\u001b[0m\u001b[0;34m)\u001b[0m\u001b[0;34m\u001b[0m\u001b[0m\n\u001b[1;32m      4\u001b[0m     \u001b[0;32mfor\u001b[0m \u001b[0mnode\u001b[0m \u001b[0;32min\u001b[0m \u001b[0mstart\u001b[0m\u001b[0;34m.\u001b[0m\u001b[0minput_nodes\u001b[0m\u001b[0;34m:\u001b[0m\u001b[0;34m\u001b[0m\u001b[0m\n\u001b[0;32m----> 5\u001b[0;31m         \u001b[0mcheck_memory\u001b[0m\u001b[0;34m(\u001b[0m\u001b[0mnode\u001b[0m\u001b[0;34m)\u001b[0m\u001b[0;34m\u001b[0m\u001b[0m\n\u001b[0m",
      "\u001b[0;32m<ipython-input-19-f5a93c62e1b4>\u001b[0m in \u001b[0;36mcheck_memory\u001b[0;34m(start)\u001b[0m\n\u001b[1;32m      3\u001b[0m         \u001b[0mprint\u001b[0m\u001b[0;34m(\u001b[0m\u001b[0mstart\u001b[0m\u001b[0;34m.\u001b[0m\u001b[0m__class__\u001b[0m\u001b[0;34m,\u001b[0m \u001b[0mstart\u001b[0m\u001b[0;34m.\u001b[0m\u001b[0mshape\u001b[0m\u001b[0;34m)\u001b[0m\u001b[0;34m\u001b[0m\u001b[0m\n\u001b[1;32m      4\u001b[0m     \u001b[0;32mfor\u001b[0m \u001b[0mnode\u001b[0m \u001b[0;32min\u001b[0m \u001b[0mstart\u001b[0m\u001b[0;34m.\u001b[0m\u001b[0minput_nodes\u001b[0m\u001b[0;34m:\u001b[0m\u001b[0;34m\u001b[0m\u001b[0m\n\u001b[0;32m----> 5\u001b[0;31m         \u001b[0mcheck_memory\u001b[0m\u001b[0;34m(\u001b[0m\u001b[0mnode\u001b[0m\u001b[0;34m)\u001b[0m\u001b[0;34m\u001b[0m\u001b[0m\n\u001b[0m",
      "\u001b[0;32m<ipython-input-19-f5a93c62e1b4>\u001b[0m in \u001b[0;36mcheck_memory\u001b[0;34m(start)\u001b[0m\n\u001b[1;32m      3\u001b[0m         \u001b[0mprint\u001b[0m\u001b[0;34m(\u001b[0m\u001b[0mstart\u001b[0m\u001b[0;34m.\u001b[0m\u001b[0m__class__\u001b[0m\u001b[0;34m,\u001b[0m \u001b[0mstart\u001b[0m\u001b[0;34m.\u001b[0m\u001b[0mshape\u001b[0m\u001b[0;34m)\u001b[0m\u001b[0;34m\u001b[0m\u001b[0m\n\u001b[1;32m      4\u001b[0m     \u001b[0;32mfor\u001b[0m \u001b[0mnode\u001b[0m \u001b[0;32min\u001b[0m \u001b[0mstart\u001b[0m\u001b[0;34m.\u001b[0m\u001b[0minput_nodes\u001b[0m\u001b[0;34m:\u001b[0m\u001b[0;34m\u001b[0m\u001b[0m\n\u001b[0;32m----> 5\u001b[0;31m         \u001b[0mcheck_memory\u001b[0m\u001b[0;34m(\u001b[0m\u001b[0mnode\u001b[0m\u001b[0;34m)\u001b[0m\u001b[0;34m\u001b[0m\u001b[0m\n\u001b[0m",
      "\u001b[0;32m<ipython-input-19-f5a93c62e1b4>\u001b[0m in \u001b[0;36mcheck_memory\u001b[0;34m(start)\u001b[0m\n\u001b[1;32m      3\u001b[0m         \u001b[0mprint\u001b[0m\u001b[0;34m(\u001b[0m\u001b[0mstart\u001b[0m\u001b[0;34m.\u001b[0m\u001b[0m__class__\u001b[0m\u001b[0;34m,\u001b[0m \u001b[0mstart\u001b[0m\u001b[0;34m.\u001b[0m\u001b[0mshape\u001b[0m\u001b[0;34m)\u001b[0m\u001b[0;34m\u001b[0m\u001b[0m\n\u001b[1;32m      4\u001b[0m     \u001b[0;32mfor\u001b[0m \u001b[0mnode\u001b[0m \u001b[0;32min\u001b[0m \u001b[0mstart\u001b[0m\u001b[0;34m.\u001b[0m\u001b[0minput_nodes\u001b[0m\u001b[0;34m:\u001b[0m\u001b[0;34m\u001b[0m\u001b[0m\n\u001b[0;32m----> 5\u001b[0;31m         \u001b[0mcheck_memory\u001b[0m\u001b[0;34m(\u001b[0m\u001b[0mnode\u001b[0m\u001b[0;34m)\u001b[0m\u001b[0;34m\u001b[0m\u001b[0m\n\u001b[0m",
      "\u001b[0;32m<ipython-input-19-f5a93c62e1b4>\u001b[0m in \u001b[0;36mcheck_memory\u001b[0;34m(start)\u001b[0m\n\u001b[1;32m      3\u001b[0m         \u001b[0mprint\u001b[0m\u001b[0;34m(\u001b[0m\u001b[0mstart\u001b[0m\u001b[0;34m.\u001b[0m\u001b[0m__class__\u001b[0m\u001b[0;34m,\u001b[0m \u001b[0mstart\u001b[0m\u001b[0;34m.\u001b[0m\u001b[0mshape\u001b[0m\u001b[0;34m)\u001b[0m\u001b[0;34m\u001b[0m\u001b[0m\n\u001b[1;32m      4\u001b[0m     \u001b[0;32mfor\u001b[0m \u001b[0mnode\u001b[0m \u001b[0;32min\u001b[0m \u001b[0mstart\u001b[0m\u001b[0;34m.\u001b[0m\u001b[0minput_nodes\u001b[0m\u001b[0;34m:\u001b[0m\u001b[0;34m\u001b[0m\u001b[0m\n\u001b[0;32m----> 5\u001b[0;31m         \u001b[0mcheck_memory\u001b[0m\u001b[0;34m(\u001b[0m\u001b[0mnode\u001b[0m\u001b[0;34m)\u001b[0m\u001b[0;34m\u001b[0m\u001b[0m\n\u001b[0m",
      "\u001b[0;32m<ipython-input-19-f5a93c62e1b4>\u001b[0m in \u001b[0;36mcheck_memory\u001b[0;34m(start)\u001b[0m\n\u001b[1;32m      3\u001b[0m         \u001b[0mprint\u001b[0m\u001b[0;34m(\u001b[0m\u001b[0mstart\u001b[0m\u001b[0;34m.\u001b[0m\u001b[0m__class__\u001b[0m\u001b[0;34m,\u001b[0m \u001b[0mstart\u001b[0m\u001b[0;34m.\u001b[0m\u001b[0mshape\u001b[0m\u001b[0;34m)\u001b[0m\u001b[0;34m\u001b[0m\u001b[0m\n\u001b[1;32m      4\u001b[0m     \u001b[0;32mfor\u001b[0m \u001b[0mnode\u001b[0m \u001b[0;32min\u001b[0m \u001b[0mstart\u001b[0m\u001b[0;34m.\u001b[0m\u001b[0minput_nodes\u001b[0m\u001b[0;34m:\u001b[0m\u001b[0;34m\u001b[0m\u001b[0m\n\u001b[0;32m----> 5\u001b[0;31m         \u001b[0mcheck_memory\u001b[0m\u001b[0;34m(\u001b[0m\u001b[0mnode\u001b[0m\u001b[0;34m)\u001b[0m\u001b[0;34m\u001b[0m\u001b[0m\n\u001b[0m",
      "\u001b[0;32m<ipython-input-19-f5a93c62e1b4>\u001b[0m in \u001b[0;36mcheck_memory\u001b[0;34m(start)\u001b[0m\n\u001b[1;32m      3\u001b[0m         \u001b[0mprint\u001b[0m\u001b[0;34m(\u001b[0m\u001b[0mstart\u001b[0m\u001b[0;34m.\u001b[0m\u001b[0m__class__\u001b[0m\u001b[0;34m,\u001b[0m \u001b[0mstart\u001b[0m\u001b[0;34m.\u001b[0m\u001b[0mshape\u001b[0m\u001b[0;34m)\u001b[0m\u001b[0;34m\u001b[0m\u001b[0m\n\u001b[1;32m      4\u001b[0m     \u001b[0;32mfor\u001b[0m \u001b[0mnode\u001b[0m \u001b[0;32min\u001b[0m \u001b[0mstart\u001b[0m\u001b[0;34m.\u001b[0m\u001b[0minput_nodes\u001b[0m\u001b[0;34m:\u001b[0m\u001b[0;34m\u001b[0m\u001b[0m\n\u001b[0;32m----> 5\u001b[0;31m         \u001b[0mcheck_memory\u001b[0m\u001b[0;34m(\u001b[0m\u001b[0mnode\u001b[0m\u001b[0;34m)\u001b[0m\u001b[0;34m\u001b[0m\u001b[0m\n\u001b[0m",
      "\u001b[0;32m<ipython-input-19-f5a93c62e1b4>\u001b[0m in \u001b[0;36mcheck_memory\u001b[0;34m(start)\u001b[0m\n\u001b[1;32m      3\u001b[0m         \u001b[0mprint\u001b[0m\u001b[0;34m(\u001b[0m\u001b[0mstart\u001b[0m\u001b[0;34m.\u001b[0m\u001b[0m__class__\u001b[0m\u001b[0;34m,\u001b[0m \u001b[0mstart\u001b[0m\u001b[0;34m.\u001b[0m\u001b[0mshape\u001b[0m\u001b[0;34m)\u001b[0m\u001b[0;34m\u001b[0m\u001b[0m\n\u001b[1;32m      4\u001b[0m     \u001b[0;32mfor\u001b[0m \u001b[0mnode\u001b[0m \u001b[0;32min\u001b[0m \u001b[0mstart\u001b[0m\u001b[0;34m.\u001b[0m\u001b[0minput_nodes\u001b[0m\u001b[0;34m:\u001b[0m\u001b[0;34m\u001b[0m\u001b[0m\n\u001b[0;32m----> 5\u001b[0;31m         \u001b[0mcheck_memory\u001b[0m\u001b[0;34m(\u001b[0m\u001b[0mnode\u001b[0m\u001b[0;34m)\u001b[0m\u001b[0;34m\u001b[0m\u001b[0m\n\u001b[0m",
      "\u001b[0;32m<ipython-input-19-f5a93c62e1b4>\u001b[0m in \u001b[0;36mcheck_memory\u001b[0;34m(start)\u001b[0m\n\u001b[1;32m      3\u001b[0m         \u001b[0mprint\u001b[0m\u001b[0;34m(\u001b[0m\u001b[0mstart\u001b[0m\u001b[0;34m.\u001b[0m\u001b[0m__class__\u001b[0m\u001b[0;34m,\u001b[0m \u001b[0mstart\u001b[0m\u001b[0;34m.\u001b[0m\u001b[0mshape\u001b[0m\u001b[0;34m)\u001b[0m\u001b[0;34m\u001b[0m\u001b[0m\n\u001b[1;32m      4\u001b[0m     \u001b[0;32mfor\u001b[0m \u001b[0mnode\u001b[0m \u001b[0;32min\u001b[0m \u001b[0mstart\u001b[0m\u001b[0;34m.\u001b[0m\u001b[0minput_nodes\u001b[0m\u001b[0;34m:\u001b[0m\u001b[0;34m\u001b[0m\u001b[0m\n\u001b[0;32m----> 5\u001b[0;31m         \u001b[0mcheck_memory\u001b[0m\u001b[0;34m(\u001b[0m\u001b[0mnode\u001b[0m\u001b[0;34m)\u001b[0m\u001b[0;34m\u001b[0m\u001b[0m\n\u001b[0m",
      "\u001b[0;32m<ipython-input-19-f5a93c62e1b4>\u001b[0m in \u001b[0;36mcheck_memory\u001b[0;34m(start)\u001b[0m\n\u001b[1;32m      3\u001b[0m         \u001b[0mprint\u001b[0m\u001b[0;34m(\u001b[0m\u001b[0mstart\u001b[0m\u001b[0;34m.\u001b[0m\u001b[0m__class__\u001b[0m\u001b[0;34m,\u001b[0m \u001b[0mstart\u001b[0m\u001b[0;34m.\u001b[0m\u001b[0mshape\u001b[0m\u001b[0;34m)\u001b[0m\u001b[0;34m\u001b[0m\u001b[0m\n\u001b[1;32m      4\u001b[0m     \u001b[0;32mfor\u001b[0m \u001b[0mnode\u001b[0m \u001b[0;32min\u001b[0m \u001b[0mstart\u001b[0m\u001b[0;34m.\u001b[0m\u001b[0minput_nodes\u001b[0m\u001b[0;34m:\u001b[0m\u001b[0;34m\u001b[0m\u001b[0m\n\u001b[0;32m----> 5\u001b[0;31m         \u001b[0mcheck_memory\u001b[0m\u001b[0;34m(\u001b[0m\u001b[0mnode\u001b[0m\u001b[0;34m)\u001b[0m\u001b[0;34m\u001b[0m\u001b[0m\n\u001b[0m",
      "\u001b[0;32m<ipython-input-19-f5a93c62e1b4>\u001b[0m in \u001b[0;36mcheck_memory\u001b[0;34m(start)\u001b[0m\n\u001b[1;32m      3\u001b[0m         \u001b[0mprint\u001b[0m\u001b[0;34m(\u001b[0m\u001b[0mstart\u001b[0m\u001b[0;34m.\u001b[0m\u001b[0m__class__\u001b[0m\u001b[0;34m,\u001b[0m \u001b[0mstart\u001b[0m\u001b[0;34m.\u001b[0m\u001b[0mshape\u001b[0m\u001b[0;34m)\u001b[0m\u001b[0;34m\u001b[0m\u001b[0m\n\u001b[1;32m      4\u001b[0m     \u001b[0;32mfor\u001b[0m \u001b[0mnode\u001b[0m \u001b[0;32min\u001b[0m \u001b[0mstart\u001b[0m\u001b[0;34m.\u001b[0m\u001b[0minput_nodes\u001b[0m\u001b[0;34m:\u001b[0m\u001b[0;34m\u001b[0m\u001b[0m\n\u001b[0;32m----> 5\u001b[0;31m         \u001b[0mcheck_memory\u001b[0m\u001b[0;34m(\u001b[0m\u001b[0mnode\u001b[0m\u001b[0;34m)\u001b[0m\u001b[0;34m\u001b[0m\u001b[0m\n\u001b[0m",
      "\u001b[0;32m<ipython-input-19-f5a93c62e1b4>\u001b[0m in \u001b[0;36mcheck_memory\u001b[0;34m(start)\u001b[0m\n\u001b[1;32m      1\u001b[0m \u001b[0;32mdef\u001b[0m \u001b[0mcheck_memory\u001b[0m\u001b[0;34m(\u001b[0m\u001b[0mstart\u001b[0m\u001b[0;34m)\u001b[0m\u001b[0;34m:\u001b[0m\u001b[0;34m\u001b[0m\u001b[0m\n\u001b[1;32m      2\u001b[0m     \u001b[0;32mif\u001b[0m \u001b[0mstart\u001b[0m\u001b[0;34m.\u001b[0m\u001b[0m_data\u001b[0m \u001b[0;32mis\u001b[0m \u001b[0;32mnot\u001b[0m \u001b[0;32mNone\u001b[0m\u001b[0;34m:\u001b[0m\u001b[0;34m\u001b[0m\u001b[0m\n\u001b[0;32m----> 3\u001b[0;31m         \u001b[0mprint\u001b[0m\u001b[0;34m(\u001b[0m\u001b[0mstart\u001b[0m\u001b[0;34m.\u001b[0m\u001b[0m__class__\u001b[0m\u001b[0;34m,\u001b[0m \u001b[0mstart\u001b[0m\u001b[0;34m.\u001b[0m\u001b[0mshape\u001b[0m\u001b[0;34m)\u001b[0m\u001b[0;34m\u001b[0m\u001b[0m\n\u001b[0m\u001b[1;32m      4\u001b[0m     \u001b[0;32mfor\u001b[0m \u001b[0mnode\u001b[0m \u001b[0;32min\u001b[0m \u001b[0mstart\u001b[0m\u001b[0;34m.\u001b[0m\u001b[0minput_nodes\u001b[0m\u001b[0;34m:\u001b[0m\u001b[0;34m\u001b[0m\u001b[0m\n\u001b[1;32m      5\u001b[0m         \u001b[0mcheck_memory\u001b[0m\u001b[0;34m(\u001b[0m\u001b[0mnode\u001b[0m\u001b[0;34m)\u001b[0m\u001b[0;34m\u001b[0m\u001b[0m\n",
      "\u001b[0;32m~/mandala/mandala/nodecore.py\u001b[0m in \u001b[0;36mshape\u001b[0;34m(self)\u001b[0m\n\u001b[1;32m     83\u001b[0m     \u001b[0;32mdef\u001b[0m \u001b[0mshape\u001b[0m\u001b[0;34m(\u001b[0m\u001b[0mself\u001b[0m\u001b[0;34m)\u001b[0m\u001b[0;34m:\u001b[0m\u001b[0;34m\u001b[0m\u001b[0m\n\u001b[1;32m     84\u001b[0m         \u001b[0;31m# TODO: calc shape from shape of input_nodes.\u001b[0m\u001b[0;34m\u001b[0m\u001b[0;34m\u001b[0m\u001b[0m\n\u001b[0;32m---> 85\u001b[0;31m         \u001b[0;32mreturn\u001b[0m \u001b[0mself\u001b[0m\u001b[0;34m.\u001b[0m\u001b[0mdata\u001b[0m\u001b[0;34m.\u001b[0m\u001b[0mshape\u001b[0m\u001b[0;34m\u001b[0m\u001b[0m\n\u001b[0m\u001b[1;32m     86\u001b[0m \u001b[0;34m\u001b[0m\u001b[0m\n\u001b[1;32m     87\u001b[0m \u001b[0;34m\u001b[0m\u001b[0m\n",
      "\u001b[0;31mAttributeError\u001b[0m: 'int' object has no attribute 'shape'"
     ]
    }
   ],
   "source": [
    "check_memory(x.grad)"
   ]
  },
  {
   "cell_type": "code",
   "execution_count": 21,
   "metadata": {},
   "outputs": [
    {
     "name": "stdout",
     "output_type": "stream",
     "text": [
      "F\t Model\t Node\t Variable\t W\t ad\t b\t batch_size\t check_memory\t \n",
      "cp\t i\t loss\t lr\t mandala\t model\t np\t p\t s\t \n",
      "sys\t t\t time\t x\t xp\t y\t \n"
     ]
    }
   ],
   "source": [
    "%who"
   ]
  },
  {
   "cell_type": "markdown",
   "metadata": {},
   "source": [
    "## Chainer との速度比較"
   ]
  },
  {
   "cell_type": "code",
   "execution_count": 22,
   "metadata": {},
   "outputs": [],
   "source": [
    "import chainer\n",
    "import chainer.functions as F\n",
    "import chainer.links as L\n",
    "from chainer import optimizer"
   ]
  },
  {
   "cell_type": "code",
   "execution_count": 23,
   "metadata": {},
   "outputs": [],
   "source": [
    "cp.cuda.Device(0).use()"
   ]
  },
  {
   "cell_type": "code",
   "execution_count": 24,
   "metadata": {},
   "outputs": [],
   "source": [
    "W = xp.arange(15, dtype=np.float32).reshape(3, 5)\n",
    "b = xp.arange(3, dtype=np.float32)"
   ]
  },
  {
   "cell_type": "code",
   "execution_count": 25,
   "metadata": {},
   "outputs": [],
   "source": [
    "class Model(chainer.Chain):\n",
    "    def __init__(self):\n",
    "        super().__init__()\n",
    "        with self.init_scope():\n",
    "            self.l0 = L.Linear(   5, 1000)\n",
    "            self.l1 = L.Linear(1000, 1000)\n",
    "            self.l2 = L.Linear(1000, 1000)\n",
    "            self.l3 = L.Linear(1000, 1000)\n",
    "            self.l4 = L.Linear(1000, 1000)\n",
    "            self.l5 = L.Linear(1000, 1000)\n",
    "            self.l6 = L.Linear(1000,    3)\n",
    "\n",
    "    def __call__(self, x):\n",
    "        h  = F.relu(self.l0(x))\n",
    "        h  = F.relu(self.l1(h))\n",
    "        h  = F.relu(self.l2(h))\n",
    "        h  = F.relu(self.l3(h))\n",
    "        h  = F.relu(self.l4(h))\n",
    "        h  = F.relu(self.l5(h))\n",
    "        y  = self.l6(h)\n",
    "        return y"
   ]
  },
  {
   "cell_type": "code",
   "execution_count": 26,
   "metadata": {},
   "outputs": [
    {
     "data": {
      "text/plain": [
       "<__main__.Model at 0x7fe193e1f668>"
      ]
     },
     "execution_count": 26,
     "metadata": {},
     "output_type": "execute_result"
    }
   ],
   "source": [
    "model = Model()\n",
    "model.to_gpu()"
   ]
  },
  {
   "cell_type": "code",
   "execution_count": 27,
   "metadata": {},
   "outputs": [
    {
     "data": {
      "text/plain": [
       "<chainer.optimizers.sgd.SGD at 0x7fe193e35390>"
      ]
     },
     "execution_count": 27,
     "metadata": {},
     "output_type": "execute_result"
    }
   ],
   "source": [
    "opt = chainer.optimizers.SGD(lr=1e-4)\n",
    "opt.setup(model)"
   ]
  },
  {
   "cell_type": "code",
   "execution_count": 28,
   "metadata": {},
   "outputs": [
    {
     "name": "stdout",
     "output_type": "stream",
     "text": [
      "5.682805061340332\n"
     ]
    }
   ],
   "source": [
    "batch_size = 1024\n",
    "s = time.time()\n",
    "\n",
    "for i in range(1000):\n",
    "    # make batch\n",
    "    x = xp.random.random((batch_size, 5)).astype(np.float32)\n",
    "    t = xp.matmul(x, W.T) + b\n",
    "    \n",
    "    # forward\n",
    "    y = model(x)\n",
    "\n",
    "    # loss\n",
    "    loss = F.mean_squared_error(y, t)\n",
    "\n",
    "    # backward\n",
    "    model.cleargrads()\n",
    "    loss.backward(retain_grad=True)\n",
    "    \n",
    "    # update\n",
    "    opt.update()\n",
    "\n",
    "    # print(loss.data)\n",
    "\n",
    "print(time.time() - s)"
   ]
  },
  {
   "cell_type": "code",
   "execution_count": 33,
   "metadata": {},
   "outputs": [
    {
     "data": {
      "text/plain": [
       "array([[ 0.847817  ,  0.47937623, -0.00406083,  0.39935032,  0.00958933],\n",
       "       [-0.03072025,  0.10420427,  0.84563243,  0.634149  , -0.66221374],\n",
       "       [ 0.62243724,  0.10377856,  0.00802623, -0.2549301 , -0.14632824],\n",
       "       ...,\n",
       "       [-0.02014274, -0.02957321,  0.2109989 , -0.45022723, -0.38983467],\n",
       "       [ 0.27564514, -0.7606694 ,  0.1707307 , -0.75222045, -0.51158404],\n",
       "       [-0.04614544,  0.86378103, -0.01214676,  0.35443145,  0.00616781]],\n",
       "      dtype=float32)"
      ]
     },
     "execution_count": 33,
     "metadata": {},
     "output_type": "execute_result"
    }
   ],
   "source": [
    "model.l0.W.data"
   ]
  },
  {
   "cell_type": "code",
   "execution_count": 30,
   "metadata": {},
   "outputs": [],
   "source": [
    "def hoge(x):\n",
    "    pass"
   ]
  },
  {
   "cell_type": "code",
   "execution_count": 24,
   "metadata": {},
   "outputs": [
    {
     "name": "stdout",
     "output_type": "stream",
     "text": [
      "None\n"
     ]
    }
   ],
   "source": [
    "print (hoge(0))"
   ]
  },
  {
   "cell_type": "code",
   "execution_count": 25,
   "metadata": {},
   "outputs": [
    {
     "data": {
      "text/plain": [
       "False"
      ]
     },
     "execution_count": 25,
     "metadata": {},
     "output_type": "execute_result"
    }
   ],
   "source": [
    "y is None"
   ]
  },
  {
   "cell_type": "code",
   "execution_count": 26,
   "metadata": {},
   "outputs": [],
   "source": [
    "y = None"
   ]
  },
  {
   "cell_type": "code",
   "execution_count": 27,
   "metadata": {},
   "outputs": [
    {
     "name": "stdout",
     "output_type": "stream",
     "text": [
      "None\n"
     ]
    }
   ],
   "source": [
    "print(y)"
   ]
  },
  {
   "cell_type": "code",
   "execution_count": null,
   "metadata": {},
   "outputs": [],
   "source": []
  },
  {
   "cell_type": "code",
   "execution_count": null,
   "metadata": {},
   "outputs": [],
   "source": []
  }
 ],
 "metadata": {
  "kernelspec": {
   "display_name": "Python 3",
   "language": "python",
   "name": "python3"
  },
  "language_info": {
   "codemirror_mode": {
    "name": "ipython",
    "version": 3
   },
   "file_extension": ".py",
   "mimetype": "text/x-python",
   "name": "python",
   "nbconvert_exporter": "python",
   "pygments_lexer": "ipython3",
   "version": "3.6.1"
  }
 },
 "nbformat": 4,
 "nbformat_minor": 2
}
