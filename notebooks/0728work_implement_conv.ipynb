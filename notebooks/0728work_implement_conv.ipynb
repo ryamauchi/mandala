{
 "cells": [
  {
   "cell_type": "code",
   "execution_count": 1,
   "metadata": {},
   "outputs": [],
   "source": [
    "import sys\n",
    "import numpy as np\n",
    "\n",
    "sys.path.append('../')\n",
    "\n",
    "import cupy\n",
    "from mandala import cuda\n",
    "from mandala import Node\n",
    "from mandala import Variable\n",
    "\n",
    "from mandala.autodiff import autodiff\n",
    "from mandala.autodiff import layer\n",
    "from mandala.autodiff import initializers"
   ]
  },
  {
   "cell_type": "code",
   "execution_count": 2,
   "metadata": {},
   "outputs": [],
   "source": [
    "x = Variable(np.zeros((8, 3, 10, 10), dtype=np.float32))"
   ]
  },
  {
   "cell_type": "code",
   "execution_count": 2,
   "metadata": {},
   "outputs": [],
   "source": [
    "if cuda.cudnn_enable:\n",
    "    cudnn = cuda.cudnn"
   ]
  },
  {
   "cell_type": "code",
   "execution_count": 55,
   "metadata": {},
   "outputs": [],
   "source": [
    "    def _get_out_size(self, inputs):\n",
    "        x, W = inputs[:2]\n",
    "        _, _, kh, kw = W.shape\n",
    "        _, _, h, w = x.shape\n",
    "        out_h = conv.get_conv_outsize(\n",
    "            h, kh, self.sy, self.ph, cover_all=self.cover_all, d=self.dy)\n",
    "        if out_h <= 0:\n",
    "            raise RuntimeError('Height in the output should be positive.')\n",
    "        out_w = conv.get_conv_outsize(\n",
    "            w, kw, self.sx, self.pw, cover_all=self.cover_all, d=self.dx)\n",
    "        if out_w <= 0:\n",
    "            raise RuntimeError('Width in the output should be positive.')\n",
    "        return out_h, out_w"
   ]
  },
  {
   "cell_type": "code",
   "execution_count": 4,
   "metadata": {},
   "outputs": [],
   "source": [
    "import chainer.links as L"
   ]
  },
  {
   "cell_type": "code",
   "execution_count": 5,
   "metadata": {},
   "outputs": [],
   "source": [
    "test = L.Convolution2D(10, 20, 3)"
   ]
  },
  {
   "cell_type": "code",
   "execution_count": 6,
   "metadata": {},
   "outputs": [
    {
     "data": {
      "text/plain": [
       "(20, 10, 3, 3)"
      ]
     },
     "execution_count": 6,
     "metadata": {},
     "output_type": "execute_result"
    }
   ],
   "source": [
    "test.W.shape"
   ]
  },
  {
   "cell_type": "code",
   "execution_count": 13,
   "metadata": {},
   "outputs": [
    {
     "data": {
      "text/plain": [
       "(8, 1, 1, 5)"
      ]
     },
     "execution_count": 13,
     "metadata": {},
     "output_type": "execute_result"
    }
   ],
   "source": [
    "x = np.zeros((8, 1, 1, 3), dtype=np.float32)\n",
    "W = np.zeros((5, 3), dtype=np.float32)\n",
    "np.dot(x, W.T).shape"
   ]
  },
  {
   "cell_type": "code",
   "execution_count": 40,
   "metadata": {},
   "outputs": [],
   "source": [
    "x = cupy.arange(150, dtype=np.float32).reshape(2, 3, 5, 5)"
   ]
  },
  {
   "cell_type": "code",
   "execution_count": 44,
   "metadata": {},
   "outputs": [],
   "source": [
    "x = cupy.zeros((8, 1024, 10, 10), dtype=np.float32)"
   ]
  },
  {
   "cell_type": "code",
   "execution_count": 49,
   "metadata": {},
   "outputs": [],
   "source": [
    "ind = np.random.randint(0, 3, 8 * 1024 * 10 * 10)"
   ]
  },
  {
   "cell_type": "code",
   "execution_count": 55,
   "metadata": {},
   "outputs": [],
   "source": [
    "y = x[ind, ind, ind, ind]#.reshape(8, 1024, 10, 10)"
   ]
  },
  {
   "cell_type": "code",
   "execution_count": 65,
   "metadata": {},
   "outputs": [
    {
     "data": {
      "text/plain": [
       "2"
      ]
     },
     "execution_count": 65,
     "metadata": {},
     "output_type": "execute_result"
    }
   ],
   "source": [
    "get_ind_size(5, 3, 2)"
   ]
  },
  {
   "cell_type": "code",
   "execution_count": 57,
   "metadata": {},
   "outputs": [],
   "source": [
    "import itertools"
   ]
  },
  {
   "cell_type": "code",
   "execution_count": null,
   "metadata": {},
   "outputs": [],
   "source": [
    "ind_b_base = np.arange(0, 8)\n",
    "ind_h_base"
   ]
  },
  {
   "cell_type": "code",
   "execution_count": 206,
   "metadata": {},
   "outputs": [],
   "source": [
    "def make_indices(b, c, h, w, kh, kw, sy, sx, dy, dx):\n",
    "    h_ind = get_ind_size(h, kh, sy, dy)\n",
    "    w_ind = get_ind_size(w, kw, sx, dx)\n",
    "    dim_col = b * c * kh * kh\n",
    "    indices = np.empty((h_ind, w_ind, dim_col, 4), dtype=np.int32)\n",
    "    \n",
    "    ind_b_base = np.arange(0, b, dtype=np.int32)\n",
    "    ind_c_base = np.arange(0, c, dtype=np.int32)\n",
    "    ind_h_base = np.arange(0, kh, dtype=np.int32) * dy\n",
    "    ind_w_base = np.arange(0, kw, dtype=np.int32) * dx\n",
    "\n",
    "    ind_base = np.array(\n",
    "        list(itertools.product(ind_b_base,\n",
    "                               ind_c_base,\n",
    "                               ind_h_base,\n",
    "                               ind_w_base)), dtype=np.int32)\n",
    "    indices[:, :] = ind_base\n",
    "\n",
    "    grid_b, grid_c, grid_h, grid_w = np.meshgrid(\n",
    "        ind_b_base,\n",
    "        ind_c_base,\n",
    "        np.arange(0, h_ind, sy),\n",
    "        np.arange(0, w_ind, sx))\n",
    "    indices[:, :, :, 0] += grid_b\n",
    "    return indices"
   ]
  },
  {
   "cell_type": "code",
   "execution_count": 3,
   "metadata": {},
   "outputs": [],
   "source": [
    "xp = cupy"
   ]
  },
  {
   "cell_type": "code",
   "execution_count": 4,
   "metadata": {},
   "outputs": [],
   "source": [
    "def get_ind_size(size, k, s, d=1):\n",
    "    dk = k + (k - 1) * (d - 1)\n",
    "    return (size - dk) // s + 1"
   ]
  },
  {
   "cell_type": "code",
   "execution_count": 5,
   "metadata": {},
   "outputs": [],
   "source": [
    "def make_indices(b, c, h, w, kh, kw, sy, sx, dy, dx):\n",
    "    h_ind = get_ind_size(h, kh, sy, dy)\n",
    "    w_ind = get_ind_size(w, kw, sx, dx)\n",
    "    indices = xp.empty((b, c, kh, kw, h_ind, w_ind, 4), dtype=xp.int32)\n",
    "\n",
    "    ind_b_base = xp.arange(0, b, dtype=np.int32)\n",
    "    ind_c_base = xp.arange(0, c, dtype=np.int32)\n",
    "    ind_h_base = xp.arange(0, kh, dtype=np.int32) * dy\n",
    "    ind_w_base = xp.arange(0, kw, dtype=np.int32) * dx\n",
    "    \n",
    "    indices[..., 0] = ind_b_base[:, None, None, None, None, None]\n",
    "    indices[..., 1] = ind_c_base[None, :, None, None, None, None]\n",
    "    indices[..., 2] = ind_h_base[None, None, :, None, None, None]\n",
    "    indices[..., 3] = ind_w_base[None, None, None, :, None, None]\n",
    "    \n",
    "    grid_x, grid_y = xp.meshgrid(\n",
    "        xp.arange(w_ind, dtype=np.int32) * sx,\n",
    "        xp.arange(h_ind, dtype=np.int32) * sy)\n",
    "    \n",
    "    indices[..., 2] += grid_y\n",
    "    indices[..., 3] += grid_x\n",
    "\n",
    "    return indices"
   ]
  },
  {
   "cell_type": "code",
   "execution_count": 6,
   "metadata": {},
   "outputs": [],
   "source": [
    "b = 32\n",
    "c = 1024\n",
    "h = 7\n",
    "w = 7\n",
    "x = xp.arange(b * c * h * w).reshape(b, c, h, w)"
   ]
  },
  {
   "cell_type": "code",
   "execution_count": 7,
   "metadata": {},
   "outputs": [],
   "source": [
    "ind = make_indices(b, c, h, w, 3, 3, 1, 1, 1, 1)"
   ]
  },
  {
   "cell_type": "code",
   "execution_count": 8,
   "metadata": {},
   "outputs": [
    {
     "name": "stdout",
     "output_type": "stream",
     "text": [
      "35.7 ms ± 221 µs per loop (mean ± std. dev. of 7 runs, 10 loops each)\n"
     ]
    }
   ],
   "source": [
    "%%timeit\n",
    "#ind = make_indices(b, c, h, w, 3, 3, 1, 1, 1, 1)\n",
    "ind_b = ind[..., 0].ravel()\n",
    "ind_c = ind[..., 1].ravel()\n",
    "ind_h = ind[..., 2].ravel()\n",
    "ind_w = ind[..., 3].ravel()\n",
    "x[ind_b, ind_c, ind_h, ind_w].get()"
   ]
  },
  {
   "cell_type": "code",
   "execution_count": 9,
   "metadata": {},
   "outputs": [],
   "source": [
    "from chainer.utils.conv import im2col_cpu, im2col_gpu"
   ]
  },
  {
   "cell_type": "code",
   "execution_count": 19,
   "metadata": {},
   "outputs": [
    {
     "name": "stdout",
     "output_type": "stream",
     "text": [
      "23.9 ms ± 56.7 µs per loop (mean ± std. dev. of 7 runs, 10 loops each)\n"
     ]
    }
   ],
   "source": [
    "%%timeit\n",
    "im2col(x, 3, 3, 1, 1, 0, 0).get()"
   ]
  },
  {
   "cell_type": "code",
   "execution_count": 4,
   "metadata": {},
   "outputs": [],
   "source": [
    "from mandala import cuda\n",
    "\n",
    "\n",
    "def get_conv_outsize(size, k, s, p, cover_all=False, d=1):\n",
    "    dk = k + (k - 1) * (d - 1)\n",
    "    if cover_all:\n",
    "        return (size + p * 2 - dk + s - 1) // s + 1\n",
    "    else:\n",
    "        return (size + p * 2 - dk) // s + 1\n",
    "\n",
    "\n",
    "def im2col(img, kh, kw, sy, sx, ph, pw, pval=0, cover_all=False,\n",
    "           dy=1, dx=1, out_h=None, out_w=None):\n",
    "    xp = cuda.get_array_module(img)\n",
    "    n, c, h, w = img.shape\n",
    "    if out_h is None:\n",
    "        out_h = get_conv_outsize(h, kh, sy, ph, cover_all, dy)\n",
    "    if out_w is None:\n",
    "        out_w = get_conv_outsize(w, kw, sx, pw, cover_all, dx)\n",
    "\n",
    "    img = xp.pad(img,\n",
    "                 ((0, 0), (0, 0), (ph, ph + sy - 1), (pw, pw + sx - 1)),\n",
    "                  mode='constant', constant_values=(pval,))\n",
    "    col = xp.ndarray((n, c, kh, kw, out_h, out_w), dtype=img.dtype)\n",
    "\n",
    "    for j in range(kh):\n",
    "        jdy = j * dy\n",
    "        j_lim = jdy + sy * out_h\n",
    "        for i in range(kw):\n",
    "            idx = i * dx\n",
    "            i_lim = idx + sx * out_w\n",
    "            col[:, :, j, i, :, :] = img[:, :, jdy:j_lim:sy, idx:i_lim:sx]\n",
    "\n",
    "    return col"
   ]
  },
  {
   "cell_type": "code",
   "execution_count": 21,
   "metadata": {},
   "outputs": [],
   "source": [
    "col = im2col(x, 3, 3, 1, 1, 0, 0)"
   ]
  },
  {
   "cell_type": "code",
   "execution_count": 30,
   "metadata": {},
   "outputs": [],
   "source": [
    "W = xp.ones((10, 1024, 3, 3), dtype=np.float32)"
   ]
  },
  {
   "cell_type": "code",
   "execution_count": 36,
   "metadata": {},
   "outputs": [
    {
     "data": {
      "text/plain": [
       "(32, 5, 5, 10)"
      ]
     },
     "execution_count": 36,
     "metadata": {},
     "output_type": "execute_result"
    }
   ],
   "source": [
    "xp.tensordot(col, W, ((1, 2, 3), (1, 2, 3))).shape"
   ]
  },
  {
   "cell_type": "code",
   "execution_count": null,
   "metadata": {},
   "outputs": [],
   "source": [
    "def forward_convolution_2d(x, W, b, stride, pad,\n",
    "                           cover_all=None, dilate=(1, 1)):\n",
    "    _, _, kh, kw = W.shape\n",
    "    sy, sx = stride\n",
    "    ph, pw = pad\n",
    "    dy, dx = dilate\n",
    "\n",
    "    col = im2col(x, kh, kw, sy, )"
   ]
  }
 ],
 "metadata": {
  "kernelspec": {
   "display_name": "Python 3",
   "language": "python",
   "name": "python3"
  },
  "language_info": {
   "codemirror_mode": {
    "name": "ipython",
    "version": 3
   },
   "file_extension": ".py",
   "mimetype": "text/x-python",
   "name": "python",
   "nbconvert_exporter": "python",
   "pygments_lexer": "ipython3",
   "version": "3.6.3"
  }
 },
 "nbformat": 4,
 "nbformat_minor": 2
}
