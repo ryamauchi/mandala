{
 "cells": [
  {
   "cell_type": "code",
   "execution_count": 26,
   "metadata": {},
   "outputs": [],
   "source": [
    "import sys\n",
    "import numpy as np\n",
    "\n",
    "sys.path.append('../')\n",
    "\n",
    "from mandala.nodecore import Node\n",
    "from mandala.nodecore import Variable\n",
    "from mandala.autodiff import autodiff\n",
    "from mandala.autodiff import basic_math"
   ]
  },
  {
   "cell_type": "code",
   "execution_count": 27,
   "metadata": {},
   "outputs": [],
   "source": [
    "from mandala import cuda\n",
    "from mandala.nodecore import Node\n",
    "from mandala import basic_math\n",
    "from mandala.autodiff import autodiff\n",
    "\n",
    "\n",
    "class Add(autodiff.AutoDiff):\n",
    "    def forward(self, xs):\n",
    "        y = basic_math.add(*xs)\n",
    "        return y\n",
    "\n",
    "    def backward(self, xs, gy):\n",
    "        return gy, gy\n",
    "\n",
    "\n",
    "def add(lhs, rhs):\n",
    "    return Add()([lhs, rhs])\n",
    "\n",
    "\n",
    "class Mul(autodiff.AutoDiff):\n",
    "    def forward(self, xs):\n",
    "        y = basic_math.mul(*xs)\n",
    "        return y\n",
    "\n",
    "    def backward(self, xs, gy):\n",
    "        gx0 = mul(xs[1], gy)\n",
    "        gx1 = mul(xs[0], gy)\n",
    "        return gx0, gx1\n",
    "\n",
    "\n",
    "def mul(lhs, rhs):\n",
    "    return Mul()([lhs, rhs])\n",
    "\n",
    "\n",
    "class Sub(autodiff.AutoDiff):\n",
    "    def forward(self, xs):\n",
    "        y = basic_math.sub(*xs)\n",
    "        return y\n",
    "\n",
    "    def backward(self, xs, gy):\n",
    "        return gy, neg(gy)\n",
    "\n",
    "\n",
    "def sub(lhs, rhs):\n",
    "    return Sub()([lhs, rhs])\n",
    "\n",
    "\n",
    "def rsub(rhs, lhs):\n",
    "    return Sub()([lhs, rhs])\n",
    "\n",
    "\n",
    "class Div(autodiff.AutoDiff):\n",
    "    def forward(self, xs):\n",
    "        y = basic_math.div(*xs)\n",
    "        return y\n",
    "\n",
    "    def backward(self, xs, gy):\n",
    "        x0, x1 = xs\n",
    "        gx0 = mul(div(1, x1), gy)\n",
    "        gx1 = neg(mul(div(x0, (pow(x1, 2))), gy))\n",
    "        return gx0, gx1\n",
    "\n",
    "\n",
    "def div(lhs, rhs):\n",
    "    return Div()([lhs, rhs])\n",
    "\n",
    "\n",
    "def rdiv(rhs, lhs):\n",
    "    return Div()([lhs, rhs])\n",
    "\n",
    "\n",
    "def floordiv(lhs, rhs):\n",
    "    raise NotImplementedError\n",
    "\n",
    "\n",
    "def rfloordiv(rhs, lhs):\n",
    "    raise NotImplementedError\n",
    "\n",
    "\n",
    "class Pow(autodiff.AutoDiff):\n",
    "    def forward(self, xs):\n",
    "        y = basic_math.pow(*xs)\n",
    "        return y\n",
    "\n",
    "    def backward(self, xs, gy):\n",
    "        x0, x1 = xs\n",
    "        gx0 = mul(mul(x1, pow(x0, sub(x1, 1))), gy)\n",
    "        gx1 = mul(pow(x0, x1), log(x0))\n",
    "        return gx0, gx1\n",
    "\n",
    "\n",
    "def pow(lhs, rhs):\n",
    "    return Pow()([lhs, rhs])\n",
    "\n",
    "\n",
    "def rpow(rhs, lhs):\n",
    "    return Pow()([lhs, rhs])\n",
    "\n",
    "\n",
    "class Log(autodiff.AutoDiff):\n",
    "    def forward(self, xs):\n",
    "        def _log(x):\n",
    "            xp = cuda.get_array_module(x)\n",
    "            return xp.log(x)\n",
    "        x, = xs\n",
    "        y = Node(_log, [x])\n",
    "        return y\n",
    "\n",
    "    def backward(self, xs, gy):\n",
    "        x, = xs\n",
    "        gx = div(1, gy)\n",
    "        return gx,\n",
    "\n",
    "\n",
    "def log(x):\n",
    "    return Log()([x])\n",
    "\n",
    "\n",
    "class Neg(autodiff.AutoDiff):\n",
    "\n",
    "    def forward(self, xs):\n",
    "        y = basic_math.neg(*xs)\n",
    "        return y\n",
    "\n",
    "    def backward(self, xs, gy):\n",
    "        return neg(gy),\n",
    "\n",
    "\n",
    "def neg(x):\n",
    "    return Neg()([x])\n",
    "\n",
    "\n",
    "def absolute(a):\n",
    "    raise NotImplementedError\n",
    "\n",
    "\n",
    "def matmul(lhs, rhs):\n",
    "    raise NotImplementedError\n",
    "\n",
    "\n",
    "def rmatmul(lhs, rhs):\n",
    "    raise NotImplementedError\n",
    "\n",
    "\n",
    "def install_node_arithmetics():\n",
    "    Node.__neg__ = neg\n",
    "    Node.__abs__ = absolute\n",
    "    Node.__add__ = add\n",
    "    Node.__radd__ = add\n",
    "    Node.__sub__ = sub\n",
    "    Node.__rsub__ = rsub\n",
    "    Node.__mul__ = mul\n",
    "    Node.__rmul__ = mul\n",
    "    Node.__div__ = div\n",
    "    Node.__truediv__ = div\n",
    "    Node.__rdiv__ = rdiv\n",
    "    Node.__rtruediv__ = rdiv\n",
    "    Node.__floordiv__ = floordiv\n",
    "    Node.__rfloordiv__ = rfloordiv\n",
    "    Node.__pow__ = pow\n",
    "    Node.__rpow__ = rpow\n",
    "    Node.__matmul__ = matmul\n",
    "    Node.__rmatmul__ = rmatmul\n"
   ]
  },
  {
   "cell_type": "code",
   "execution_count": 28,
   "metadata": {},
   "outputs": [],
   "source": [
    "install_node_arithmetics()"
   ]
  },
  {
   "cell_type": "code",
   "execution_count": 29,
   "metadata": {},
   "outputs": [],
   "source": [
    "def cleargrads(y):\n",
    "    xs = y.args\n",
    "    for x in xs:\n",
    "        if not isinstance(x, Node):\n",
    "            return None\n",
    "        if hasattr(x, 'grad'):\n",
    "            x.grad._data = 0\n",
    "        if hasattr(x, 'creator'):\n",
    "            cleargrads(x)"
   ]
  },
  {
   "cell_type": "code",
   "execution_count": 30,
   "metadata": {},
   "outputs": [],
   "source": [
    "x = Variable(5)"
   ]
  },
  {
   "cell_type": "code",
   "execution_count": 31,
   "metadata": {},
   "outputs": [],
   "source": [
    "y = x ** 3 + x ** 2 + x + 1"
   ]
  },
  {
   "cell_type": "code",
   "execution_count": 32,
   "metadata": {},
   "outputs": [
    {
     "data": {
      "text/plain": [
       "156"
      ]
     },
     "execution_count": 32,
     "metadata": {},
     "output_type": "execute_result"
    }
   ],
   "source": [
    "y.data"
   ]
  },
  {
   "cell_type": "code",
   "execution_count": 33,
   "metadata": {},
   "outputs": [],
   "source": [
    "y.backward()"
   ]
  },
  {
   "cell_type": "code",
   "execution_count": 34,
   "metadata": {},
   "outputs": [
    {
     "data": {
      "text/plain": [
       "86.0"
      ]
     },
     "execution_count": 34,
     "metadata": {},
     "output_type": "execute_result"
    }
   ],
   "source": [
    "x.grad.data"
   ]
  },
  {
   "cell_type": "code",
   "execution_count": 35,
   "metadata": {},
   "outputs": [],
   "source": [
    "cleargrads(y)"
   ]
  },
  {
   "cell_type": "code",
   "execution_count": 36,
   "metadata": {},
   "outputs": [],
   "source": [
    "cleargrads(x.grad)\n",
    "x.grad._data = 0"
   ]
  },
  {
   "cell_type": "code",
   "execution_count": 37,
   "metadata": {},
   "outputs": [],
   "source": [
    "gy = x.grad"
   ]
  },
  {
   "cell_type": "code",
   "execution_count": 38,
   "metadata": {},
   "outputs": [],
   "source": [
    "gy.backward()"
   ]
  },
  {
   "cell_type": "code",
   "execution_count": 39,
   "metadata": {},
   "outputs": [
    {
     "data": {
      "text/plain": [
       "32.0"
      ]
     },
     "execution_count": 39,
     "metadata": {},
     "output_type": "execute_result"
    }
   ],
   "source": [
    "x.grad.data"
   ]
  },
  {
   "cell_type": "code",
   "execution_count": 40,
   "metadata": {},
   "outputs": [],
   "source": [
    "import chainer"
   ]
  },
  {
   "cell_type": "code",
   "execution_count": 41,
   "metadata": {},
   "outputs": [
    {
     "name": "stdout",
     "output_type": "stream",
     "text": [
      "variable(86.0)\n",
      "variable(32.0)\n",
      "variable(6.0)\n"
     ]
    }
   ],
   "source": [
    "import chainer\n",
    "from chainer import Variable\n",
    "import numpy as np\n",
    "\n",
    "x = Variable(np.array(5.0))  # x = 2.0\n",
    "y = x ** 3 + x ** 2 + x + 1\n",
    "\n",
    "gy, = chainer.grad([y], [x], enable_double_backprop=True)  # gy = dy/dx = 2x + 1\n",
    "print(gy)  # variable(5.0)\n",
    "\n",
    "ggy, = chainer.grad([gy], [x], enable_double_backprop=True)  # ggy = dydy/dxdx = 2\n",
    "print(ggy)  # variable(2.0)\n",
    "\n",
    "gggy, = chainer.grad([ggy], [x])  # ggy = dydy/dxdx = 2\n",
    "print(gggy)  # variable(2.0)"
   ]
  },
  {
   "cell_type": "code",
   "execution_count": 17,
   "metadata": {},
   "outputs": [],
   "source": [
    "x.grad"
   ]
  },
  {
   "cell_type": "code",
   "execution_count": null,
   "metadata": {},
   "outputs": [],
   "source": []
  },
  {
   "cell_type": "markdown",
   "metadata": {},
   "source": [
    "2階微分までなら問題ないが、3階以上では x.grad が複数の意味を持ってしまい意味がわからなくなる。\n",
    "\n",
    "x.grad に足しこんでいく設計にしたせいでいろいろ面倒になっている。backward の実装をより適切な形に書きなおする必要あり。"
   ]
  },
  {
   "cell_type": "code",
   "execution_count": null,
   "metadata": {},
   "outputs": [],
   "source": []
  }
 ],
 "metadata": {
  "kernelspec": {
   "display_name": "Python 3",
   "language": "python",
   "name": "python3"
  },
  "language_info": {
   "codemirror_mode": {
    "name": "ipython",
    "version": 3
   },
   "file_extension": ".py",
   "mimetype": "text/x-python",
   "name": "python",
   "nbconvert_exporter": "python",
   "pygments_lexer": "ipython3",
   "version": "3.6.3"
  }
 },
 "nbformat": 4,
 "nbformat_minor": 2
}
