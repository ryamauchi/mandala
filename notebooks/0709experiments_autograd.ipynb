{
 "cells": [
  {
   "cell_type": "code",
   "execution_count": 16,
   "metadata": {},
   "outputs": [],
   "source": [
    "import numpy as np\n",
    "import sys\n",
    "\n",
    "sys.path.append('../')\n",
    "\n",
    "from mandala.nodecore import Node\n",
    "from mandala.nodecore import Variable\n",
    "from mandala import basic_math\n",
    "from mandala import get_item"
   ]
  },
  {
   "cell_type": "code",
   "execution_count": 13,
   "metadata": {},
   "outputs": [],
   "source": [
    "basic_math.install_node_arithmetics()\n",
    "get_item.install_node_get_item()"
   ]
  },
  {
   "cell_type": "markdown",
   "metadata": {},
   "source": [
    "計算グラフは概ねできてきたので、自動微分を行うための仕組みを設計する。ここでは Add や Linear, Convolution といったレイヤを定義するが、これらのレイヤは Node の生成をサポートするのみで、計算自体は Node によって実現される。Chainer でいうところの Link は問題ないが、Function が少々悩ましい。Chainer の Function は Variable を生成するが、Variable は自分を生成した関数とその引数を覚えており、それを使って backprop を走らせる。ところが mandala の Node はあくまで計算グラフ一般の表現であり、自身を生成した関数を覚えてはいるが、えーと。ちょっと待て。"
   ]
  },
  {
   "cell_type": "code",
   "execution_count": 129,
   "metadata": {},
   "outputs": [],
   "source": [
    "\n",
    "def _set_grad(xs):\n",
    "    for x in xs:\n",
    "        if not hasattr(x, 'grad') and isinstance(x, Node):\n",
    "            x.grad = None\n"
   ]
  },
  {
   "cell_type": "code",
   "execution_count": 108,
   "metadata": {},
   "outputs": [],
   "source": [
    "import numpy as np\n",
    "import sys\n",
    "\n",
    "sys.path.append('../')\n",
    "\n",
    "from mandala.nodecore import Node\n",
    "from mandala.nodecore import Variable\n",
    "from mandala import basic_math\n",
    "from mandala.autodiff import autodiff\n",
    "\n",
    "autodiff.install_node_backward()\n",
    "\n",
    "\n",
    "# support function\n",
    "def _make_node(func, args):\n",
    "    _args = []\n",
    "    for arg in args:\n",
    "        if not isinstance(arg, Node):\n",
    "            arg = Variable(arg)\n",
    "        _args.append(arg)\n",
    "    return Node(func, _args)\n",
    "\n",
    "\n",
    "class Add(autodiff.AutoDiff):\n",
    "\n",
    "    def forward(self, x0, x1):\n",
    "        y = x0 + x1\n",
    "        return y\n",
    "    \n",
    "    def backward(self, x0, x1, gy):\n",
    "        return gy, gy\n",
    "\n",
    "\n",
    "def add(lhs, rhs):\n",
    "    func = Add()\n",
    "    out = _make_node(func, [lhs, rhs])\n",
    "    return out\n",
    "\n",
    "\n",
    "class Sub(autodiff.AutoDiff):\n",
    "\n",
    "    def forward(self, x0, x1):\n",
    "        y = x0 - x1\n",
    "        return y\n",
    "    \n",
    "    def backward(self, x0, x1, gy):\n",
    "        return gy, - gy\n",
    "\n",
    "\n",
    "def sub(lhs, rhs):\n",
    "    func = Sub()\n",
    "    out = _make_node(func, [lhs, rhs])\n",
    "    return out\n",
    "\n",
    "\n",
    "def rsub(rhs, lhs):\n",
    "    func = Sub()\n",
    "    out = _make_node(func, [lhs, rhs])\n",
    "    return out\n",
    "\n",
    "\n",
    "class (autodiff.AutoDiff):\n",
    "\n",
    "    def forward(self, x0, x1):\n",
    "        y = \n",
    "        return y\n",
    "    \n",
    "    def backward(self, x0, x1, gy):\n",
    "        return \n",
    "\n",
    "\n",
    "def mul(lhs, rhs):\n",
    "    def _mul(a, b):\n",
    "        return a * b\n",
    "    out = _make_node(_mul, [lhs, rhs])\n",
    "    return out\n",
    "\n",
    "\n",
    "def _div(a, b):\n",
    "    return a / b\n",
    "\n",
    "\n",
    "def div(lhs, rhs):\n",
    "    out = _make_node(_div, [lhs, rhs])\n",
    "    return out\n",
    "\n",
    "\n",
    "def rdiv(lhs, rhs):\n",
    "    out = _make_node(_div, [rhs, lhs])\n",
    "    return out\n",
    "\n",
    "\n",
    "def _floordiv(a, b):\n",
    "    return a // b\n",
    "\n",
    "\n",
    "def floordiv(lhs, rhs):\n",
    "    out = _make_node(_floordiv, [lhs, rhs])\n",
    "    return out\n",
    "\n",
    "\n",
    "def rfloordiv(lhs, rhs):\n",
    "    out = _make_node(_floordiv, [rhs, lhs])\n",
    "    return out\n",
    "\n",
    "\n",
    "def _pow(a, b):\n",
    "    return a ** b\n",
    "\n",
    "\n",
    "def pow(lhs, rhs):\n",
    "    out = _make_node(_pow, [lhs, rhs])\n",
    "    return out\n",
    "\n",
    "\n",
    "def rpow(lhs, rhs):\n",
    "    out = _make_node(_pow, [rhs, lhs])\n",
    "    return out\n",
    "\n",
    "\n",
    "def neg(a):\n",
    "    def _neg(a):\n",
    "        return - a\n",
    "    out = _make_node(_neg, [a])\n",
    "    return out\n",
    "\n",
    "\n",
    "def absolute(a):\n",
    "    out = _make_node(pow, [a])\n",
    "    return out\n",
    "\n",
    "\n",
    "def _matmul(a, b):\n",
    "    return a @ b\n",
    "\n",
    "\n",
    "def matmul(lhs, rhs):\n",
    "    out = _make_node(_matmul, [lhs, rhs])\n",
    "    return out\n",
    "\n",
    "\n",
    "def rmatmul(lhs, rhs):\n",
    "    out = _make_node(_matmul, [rhs, lhs])\n",
    "    return out\n",
    "\n",
    "\n",
    "def install_node_arithmetics():\n",
    "    Node.__neg__ = neg\n",
    "    Node.__abs__ = absolute\n",
    "    Node.__add__ = add\n",
    "    Node.__radd__ = add\n",
    "    Node.__sub__ = sub\n",
    "    Node.__rsub__ = rsub\n",
    "    Node.__mul__ = mul\n",
    "    Node.__rmul__ = mul\n",
    "    Node.__div__ = div\n",
    "    Node.__truediv__ = div\n",
    "    Node.__rdiv__ = rdiv\n",
    "    Node.__rtruediv__ = rdiv\n",
    "    Node.__floordiv__ = floordiv\n",
    "    Node.__rfloordiv__ = rfloordiv\n",
    "    Node.__pow__ = pow\n",
    "    Node.__rpow__ = rpow\n",
    "    Node.__matmul__ = matmul\n",
    "    Node.__rmatmul__ = rmatmul\n"
   ]
  },
  {
   "cell_type": "markdown",
   "metadata": {},
   "source": [
    "Function は必ず値 (Node ではなく) を返さなくてはならない。そのため basic_math を利用した処理を Function 内で定義すると、Node.data がまた Node になるという状態が起こる。"
   ]
  },
  {
   "cell_type": "code",
   "execution_count": 99,
   "metadata": {},
   "outputs": [],
   "source": [
    "x = Variable(np.ones((3, 3), dtype=np.float32))"
   ]
  },
  {
   "cell_type": "code",
   "execution_count": 100,
   "metadata": {},
   "outputs": [],
   "source": [
    "y = add(x, x)"
   ]
  },
  {
   "cell_type": "code",
   "execution_count": 101,
   "metadata": {},
   "outputs": [],
   "source": [
    "y.backward(x)"
   ]
  },
  {
   "cell_type": "code",
   "execution_count": 102,
   "metadata": {},
   "outputs": [
    {
     "data": {
      "text/plain": [
       "array([[1., 1., 1.],\n",
       "       [1., 1., 1.],\n",
       "       [1., 1., 1.]], dtype=float32)"
      ]
     },
     "execution_count": 102,
     "metadata": {},
     "output_type": "execute_result"
    }
   ],
   "source": [
    "x.grad.data"
   ]
  },
  {
   "cell_type": "code",
   "execution_count": 103,
   "metadata": {},
   "outputs": [
    {
     "data": {
      "text/plain": [
       "array([[2., 2., 2.],\n",
       "       [2., 2., 2.],\n",
       "       [2., 2., 2.]], dtype=float32)"
      ]
     },
     "execution_count": 103,
     "metadata": {},
     "output_type": "execute_result"
    }
   ],
   "source": [
    "y.data"
   ]
  },
  {
   "cell_type": "code",
   "execution_count": 104,
   "metadata": {},
   "outputs": [],
   "source": [
    "y.backward()"
   ]
  },
  {
   "cell_type": "code",
   "execution_count": 105,
   "metadata": {},
   "outputs": [],
   "source": [
    "y = x + x"
   ]
  },
  {
   "cell_type": "code",
   "execution_count": 106,
   "metadata": {},
   "outputs": [
    {
     "data": {
      "text/plain": [
       "array([[2., 2., 2.],\n",
       "       [2., 2., 2.],\n",
       "       [2., 2., 2.]], dtype=float32)"
      ]
     },
     "execution_count": 106,
     "metadata": {},
     "output_type": "execute_result"
    }
   ],
   "source": [
    "y.data"
   ]
  },
  {
   "cell_type": "code",
   "execution_count": 110,
   "metadata": {},
   "outputs": [],
   "source": [
    "func = Add().forward"
   ]
  },
  {
   "cell_type": "code",
   "execution_count": 115,
   "metadata": {},
   "outputs": [
    {
     "ename": "TypeError",
     "evalue": "backward() missing 3 required positional arguments: 'x0', 'x1', and 'gy'",
     "output_type": "error",
     "traceback": [
      "\u001b[1;31m---------------------------------------------------------------------------\u001b[0m",
      "\u001b[1;31mTypeError\u001b[0m                                 Traceback (most recent call last)",
      "\u001b[1;32m<ipython-input-115-63d2da680c11>\u001b[0m in \u001b[0;36m<module>\u001b[1;34m()\u001b[0m\n\u001b[1;32m----> 1\u001b[1;33m \u001b[0mfunc\u001b[0m\u001b[1;33m.\u001b[0m\u001b[0m__self__\u001b[0m\u001b[1;33m.\u001b[0m\u001b[0mbackward\u001b[0m\u001b[1;33m(\u001b[0m\u001b[1;33m)\u001b[0m\u001b[1;33m\u001b[0m\u001b[0m\n\u001b[0m",
      "\u001b[1;31mTypeError\u001b[0m: backward() missing 3 required positional arguments: 'x0', 'x1', and 'gy'"
     ]
    }
   ],
   "source": [
    "func.__self__.backward()"
   ]
  },
  {
   "cell_type": "code",
   "execution_count": 116,
   "metadata": {},
   "outputs": [],
   "source": [
    "test = Add()"
   ]
  },
  {
   "cell_type": "code",
   "execution_count": 117,
   "metadata": {},
   "outputs": [
    {
     "data": {
      "text/plain": [
       "1972546632168"
      ]
     },
     "execution_count": 117,
     "metadata": {},
     "output_type": "execute_result"
    }
   ],
   "source": [
    "id(test)"
   ]
  },
  {
   "cell_type": "code",
   "execution_count": 118,
   "metadata": {},
   "outputs": [
    {
     "data": {
      "text/plain": [
       "1972524901960"
      ]
     },
     "execution_count": 118,
     "metadata": {},
     "output_type": "execute_result"
    }
   ],
   "source": [
    "id(test.forward)"
   ]
  },
  {
   "cell_type": "code",
   "execution_count": 120,
   "metadata": {},
   "outputs": [
    {
     "data": {
      "text/plain": [
       "0"
      ]
     },
     "execution_count": 120,
     "metadata": {},
     "output_type": "execute_result"
    }
   ],
   "source": [
    "id(test.forward.__self__) - id(test)"
   ]
  },
  {
   "cell_type": "code",
   "execution_count": null,
   "metadata": {},
   "outputs": [],
   "source": []
  }
 ],
 "metadata": {
  "kernelspec": {
   "display_name": "Python 3",
   "language": "python",
   "name": "python3"
  },
  "language_info": {
   "codemirror_mode": {
    "name": "ipython",
    "version": 3
   },
   "file_extension": ".py",
   "mimetype": "text/x-python",
   "name": "python",
   "nbconvert_exporter": "python",
   "pygments_lexer": "ipython3",
   "version": "3.6.4"
  }
 },
 "nbformat": 4,
 "nbformat_minor": 2
}
