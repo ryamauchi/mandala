{
 "cells": [
  {
   "cell_type": "code",
   "execution_count": 1,
   "metadata": {},
   "outputs": [],
   "source": [
    "import numpy as np\n",
    "import sys\n",
    "\n",
    "sys.path.append('../')\n",
    "\n",
    "from mandala.nodecore import Node\n",
    "from mandala.nodecore import Variable\n",
    "\n",
    "from mandala.autodiff import basic_math\n",
    "from mandala.autodiff import autodiff"
   ]
  },
  {
   "cell_type": "code",
   "execution_count": 2,
   "metadata": {},
   "outputs": [],
   "source": [
    "def linear_forward(x, W):\n",
    "    y = np.matmul(x, W.T)\n",
    "    return y\n",
    "\n",
    "\n",
    "def linear_backward_W(x, gy):\n",
    "    gW = np.matmul(gy.T, x)\n",
    "    return gW\n",
    "\n",
    "\n",
    "def linear_backward_x(W, gy):\n",
    "    gx = np.matmul(gy, W)\n",
    "    return gx\n",
    "\n",
    "\n",
    "class LinearFunction(autodiff.AutoDiff):\n",
    "\n",
    "    def forward(self, xs):\n",
    "        x, W = xs\n",
    "        y = Node(linear_forward, [x, W])\n",
    "        return y\n",
    "\n",
    "    def backward(self, xs, gy):\n",
    "        x, W = xs\n",
    "        gW = Node(linear_backward_W, [x, gy])\n",
    "        gx = Node(linear_backward_x, [W, gy])\n",
    "        return gx, gW\n",
    "\n",
    "\n",
    "class Linear(object):\n",
    "    def __init__(self, in_ch, out_ch):\n",
    "        self.W = Variable(\n",
    "            np.random.normal(0, 1 / out_ch, (out_ch, in_ch)).astype('f')\n",
    "        )\n",
    "\n",
    "    def __call__(self, x):\n",
    "        return LinearFunction()([x, self.W])"
   ]
  },
  {
   "cell_type": "code",
   "execution_count": 3,
   "metadata": {},
   "outputs": [],
   "source": [
    "def sum_forward(x):\n",
    "    return np.sum(x)\n",
    "\n",
    "\n",
    "def sum_backward(x, gy):\n",
    "    return np.ones_like(x) * gy\n",
    "\n",
    "\n",
    "class SumFunction(autodiff.AutoDiff):\n",
    "    def forward(self, xs):\n",
    "        x = xs[0]\n",
    "        y = Node(sum_forward, [x])\n",
    "        return y\n",
    "\n",
    "    def backward(self, xs, gy):\n",
    "        x = xs[0]\n",
    "        gx = Node(sum_backward, [x, gy])\n",
    "        return gx,\n",
    "\n",
    "\n",
    "def _sum(x):\n",
    "    return SumFunction()([x])"
   ]
  },
  {
   "cell_type": "code",
   "execution_count": 4,
   "metadata": {},
   "outputs": [],
   "source": [
    "l0 = Linear( 5, 10)\n",
    "l1 = Linear(10, 10)\n",
    "l2 = Linear(10,  3)"
   ]
  },
  {
   "cell_type": "code",
   "execution_count": 5,
   "metadata": {},
   "outputs": [],
   "source": [
    "# 真の係数\n",
    "W = np.arange(15, dtype=np.float32).reshape(3, 5)\n",
    "#W = np.zeros((3, 5), dtype=np.float32)"
   ]
  },
  {
   "cell_type": "code",
   "execution_count": 6,
   "metadata": {},
   "outputs": [],
   "source": [
    "batchsize = 32\n",
    "x = Variable(np.random.random((batchsize, 5)).astype(np.float32))\n",
    "t = Variable(np.matmul(x.data, W.T))"
   ]
  },
  {
   "cell_type": "code",
   "execution_count": 7,
   "metadata": {},
   "outputs": [],
   "source": [
    "h0 = l0(x)\n",
    "h1 = l1(h0)\n",
    "y  = l2(h1)\n",
    "loss = (y - t) ** 2 / batchsize"
   ]
  },
  {
   "cell_type": "code",
   "execution_count": 8,
   "metadata": {},
   "outputs": [],
   "source": [
    "loss.backward()"
   ]
  },
  {
   "cell_type": "code",
   "execution_count": 9,
   "metadata": {},
   "outputs": [
    {
     "data": {
      "text/plain": [
       "array([[-1.3350790e+00, -1.3097345e+00, -1.3445444e+00, -1.3944225e+00,\n",
       "        -1.3555093e+00],\n",
       "       [-1.2213749e+00, -1.1940767e+00, -1.2292883e+00, -1.2965100e+00,\n",
       "        -1.2710457e+00],\n",
       "       [ 1.7635702e+00,  1.7353930e+00,  1.7758858e+00,  1.8072665e+00,\n",
       "         1.7380435e+00],\n",
       "       [-2.4629545e+00, -2.4163306e+00, -2.4800611e+00, -2.5691853e+00,\n",
       "        -2.4955053e+00],\n",
       "       [-2.5102615e+00, -2.4677534e+00, -2.5285373e+00, -2.5926657e+00,\n",
       "        -2.5049376e+00],\n",
       "       [ 1.0786615e-02, -4.2770896e-03,  9.3357731e-03,  9.4534099e-02,\n",
       "         1.3567208e-01],\n",
       "       [-3.4154446e+00, -3.3447127e+00, -3.4382198e+00, -3.5946226e+00,\n",
       "        -3.5080700e+00],\n",
       "       [-7.3155270e+00, -7.1698360e+00, -7.3649578e+00, -7.6671047e+00,\n",
       "        -7.4657254e+00],\n",
       "       [ 9.9035621e-01,  9.7345650e-01,  9.9747097e-01,  1.0230319e+00,\n",
       "         9.8844206e-01],\n",
       "       [-5.0363865e+00, -4.9314995e+00, -5.0697474e+00, -5.3027792e+00,\n",
       "        -5.1761112e+00]], dtype=float32)"
      ]
     },
     "execution_count": 9,
     "metadata": {},
     "output_type": "execute_result"
    }
   ],
   "source": [
    "l0.W.grad.data"
   ]
  },
  {
   "cell_type": "code",
   "execution_count": 10,
   "metadata": {},
   "outputs": [
    {
     "name": "stdout",
     "output_type": "stream",
     "text": [
      "1289.57861328125\n",
      "1203.0684814453125\n",
      "1361.8775634765625\n",
      "1216.796630859375\n",
      "1148.502197265625\n",
      "1198.65869140625\n",
      "1184.680419921875\n",
      "1080.9808349609375\n",
      "1425.421630859375\n",
      "1340.38916015625\n",
      "1514.458251953125\n",
      "1162.359130859375\n",
      "1312.409912109375\n",
      "1474.2393798828125\n",
      "1161.37646484375\n",
      "1255.52294921875\n",
      "1263.897216796875\n",
      "1322.7415771484375\n",
      "1466.624267578125\n",
      "1048.9349365234375\n",
      "1373.959228515625\n",
      "1160.9873046875\n",
      "1380.9730224609375\n",
      "1149.5445556640625\n",
      "1227.605712890625\n",
      "1141.93115234375\n",
      "1136.90771484375\n",
      "1103.2921142578125\n",
      "1239.6630859375\n",
      "885.6874389648438\n",
      "830.4423217773438\n",
      "651.9061279296875\n",
      "448.90191650390625\n",
      "274.09765625\n",
      "185.13731384277344\n",
      "50.04864501953125\n",
      "17.464618682861328\n",
      "9.264480590820312\n",
      "4.739041328430176\n",
      "3.9357776641845703\n",
      "3.3026888370513916\n",
      "1.9444721937179565\n",
      "1.9236879348754883\n",
      "1.513634204864502\n",
      "2.148855686187744\n",
      "1.191824197769165\n",
      "1.459651231765747\n",
      "1.2925808429718018\n",
      "1.6675642728805542\n",
      "1.4637925624847412\n",
      "1.3674167394638062\n",
      "1.693906307220459\n",
      "1.6847611665725708\n",
      "1.2400810718536377\n",
      "1.2170233726501465\n",
      "1.1526204347610474\n",
      "1.1118955612182617\n",
      "1.059342384338379\n",
      "0.6761948466300964\n",
      "1.0897939205169678\n",
      "0.957636833190918\n",
      "1.0017752647399902\n",
      "1.245414137840271\n",
      "1.1634840965270996\n",
      "0.899682879447937\n",
      "1.1303114891052246\n",
      "1.1113979816436768\n",
      "0.9574445486068726\n",
      "1.1473636627197266\n",
      "0.8357595205307007\n",
      "0.81118243932724\n",
      "0.9044095277786255\n",
      "1.167851448059082\n",
      "1.0440571308135986\n",
      "0.8074843883514404\n",
      "1.1404533386230469\n",
      "0.8717570304870605\n",
      "0.9478473663330078\n",
      "1.3316072225570679\n",
      "0.4361773431301117\n",
      "0.8477920889854431\n",
      "0.768882155418396\n",
      "0.9754034876823425\n",
      "0.7973229885101318\n",
      "1.082181453704834\n",
      "0.6489710807800293\n",
      "0.7171907424926758\n",
      "0.9573951959609985\n",
      "1.1722817420959473\n",
      "0.8430317640304565\n",
      "1.0286822319030762\n",
      "0.7044397592544556\n",
      "0.8189854621887207\n",
      "0.5027941465377808\n",
      "0.8993479013442993\n",
      "0.8309975266456604\n",
      "0.9639501571655273\n",
      "0.9060704112052917\n",
      "0.8182551264762878\n",
      "0.7601462602615356\n"
     ]
    }
   ],
   "source": [
    "lr = 1e-3\n",
    "\n",
    "for i in range(100):\n",
    "    # make batch\n",
    "    x = Variable(np.random.random((batchsize, 5)).astype(np.float32))\n",
    "    t = Variable(np.matmul(x.data, W.T))\n",
    "    \n",
    "    # forward\n",
    "    h0 = l0(x)\n",
    "    h1 = l1(h0)\n",
    "    y  = l2(h1)\n",
    "\n",
    "    # loss\n",
    "    loss = _sum((y - t) ** 2) / batchsize\n",
    "    \n",
    "    l0.W.grad = 0.\n",
    "    l1.W.grad = 0.\n",
    "    l2.W.grad = 0.\n",
    "\n",
    "    # backward\n",
    "    loss.backward()\n",
    "    \n",
    "    # update\n",
    "    l0.W.data -= lr * l0.W.grad.data\n",
    "    l1.W.data -= lr * l1.W.grad.data\n",
    "    l2.W.data -= lr * l2.W.grad.data\n",
    "\n",
    "    print(loss.data)"
   ]
  },
  {
   "cell_type": "code",
   "execution_count": 11,
   "metadata": {},
   "outputs": [
    {
     "data": {
      "text/plain": [
       "(array([ 5.104726, 17.702671, 30.313293], dtype=float32),\n",
       " array([ 5.27361 , 17.882418, 30.491226], dtype=float32))"
      ]
     },
     "execution_count": 11,
     "metadata": {},
     "output_type": "execute_result"
    }
   ],
   "source": [
    "y.data[0], t.data[0]"
   ]
  },
  {
   "cell_type": "code",
   "execution_count": null,
   "metadata": {},
   "outputs": [],
   "source": []
  },
  {
   "cell_type": "code",
   "execution_count": null,
   "metadata": {},
   "outputs": [],
   "source": []
  }
 ],
 "metadata": {
  "kernelspec": {
   "display_name": "Python 3",
   "language": "python",
   "name": "python3"
  },
  "language_info": {
   "codemirror_mode": {
    "name": "ipython",
    "version": 3
   },
   "file_extension": ".py",
   "mimetype": "text/x-python",
   "name": "python",
   "nbconvert_exporter": "python",
   "pygments_lexer": "ipython3",
   "version": "3.6.4"
  }
 },
 "nbformat": 4,
 "nbformat_minor": 2
}
