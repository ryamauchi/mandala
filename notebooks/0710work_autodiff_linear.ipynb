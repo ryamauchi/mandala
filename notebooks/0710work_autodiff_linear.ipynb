{
 "cells": [
  {
   "cell_type": "code",
   "execution_count": 1,
   "metadata": {},
   "outputs": [],
   "source": [
    "import numpy as np\n",
    "import sys\n",
    "\n",
    "sys.path.append('../')\n",
    "\n",
    "from mandala.nodecore import Node\n",
    "from mandala.nodecore import Variable\n",
    "\n",
    "from mandala.autodiff import basic_math\n",
    "from mandala.autodiff import autodiff"
   ]
  },
  {
   "cell_type": "code",
   "execution_count": 2,
   "metadata": {},
   "outputs": [],
   "source": [
    "def linear_forward(x, W):\n",
    "    y = np.matmul(x, W.T)\n",
    "    return y\n",
    "\n",
    "\n",
    "def linear_backward_W(x, gy):\n",
    "    gW = np.matmul(gy.T, x)\n",
    "    return gW\n",
    "\n",
    "\n",
    "def linear_backward_x(W, gy):\n",
    "    gx = np.matmul(gy, W)\n",
    "    return gx\n",
    "\n",
    "\n",
    "class LinearFunction(autodiff.AutoDiff):\n",
    "\n",
    "    def forward(self, xs):\n",
    "        x, W = xs\n",
    "        y = Node(linear_forward, [x, W])\n",
    "        return y\n",
    "\n",
    "    def backward(self, xs, gy):\n",
    "        x, W = xs\n",
    "        gW = Node(linear_backward_W, [x, gy])\n",
    "        gx = Node(linear_backward_x, [W, gy])\n",
    "        return gx, gW\n",
    "\n",
    "\n",
    "class Linear(object):\n",
    "    def __init__(self, in_ch, out_ch):\n",
    "        self.W = Variable(\n",
    "            np.random.normal(0, 1 / out_ch, (out_ch, in_ch)).astype('f')\n",
    "        )\n",
    "\n",
    "    def __call__(self, x):\n",
    "        return LinearFunction()([x, self.W])"
   ]
  },
  {
   "cell_type": "code",
   "execution_count": 3,
   "metadata": {},
   "outputs": [],
   "source": [
    "def sum_forward(x):\n",
    "    return np.sum(x)\n",
    "\n",
    "\n",
    "def sum_backward(x, gy):\n",
    "    return np.ones_like(x) * gy\n",
    "\n",
    "\n",
    "class SumFunction(autodiff.AutoDiff):\n",
    "    def forward(self, xs):\n",
    "        x = xs[0]\n",
    "        y = Node(sum_forward, [x])\n",
    "        return y\n",
    "\n",
    "    def backward(self, xs, gy):\n",
    "        x = xs[0]\n",
    "        gx = Node(sum_backward, [x, gy])\n",
    "        return gx,\n",
    "\n",
    "\n",
    "def _sum(x):\n",
    "    return SumFunction()([x])"
   ]
  },
  {
   "cell_type": "code",
   "execution_count": 4,
   "metadata": {},
   "outputs": [],
   "source": [
    "l0 = Linear( 5, 10)\n",
    "l1 = Linear(10, 10)\n",
    "l2 = Linear(10,  3)"
   ]
  },
  {
   "cell_type": "code",
   "execution_count": 5,
   "metadata": {},
   "outputs": [],
   "source": [
    "# 真の係数\n",
    "W = np.arange(15, dtype=np.float32).reshape(3, 5)\n",
    "#W = np.zeros((3, 5), dtype=np.float32)"
   ]
  },
  {
   "cell_type": "code",
   "execution_count": 6,
   "metadata": {},
   "outputs": [],
   "source": [
    "batchsize = 32\n",
    "x = Variable(np.random.random((batchsize, 5)).astype(np.float32))\n",
    "t = Variable(np.matmul(x.data, W.T))"
   ]
  },
  {
   "cell_type": "code",
   "execution_count": 7,
   "metadata": {},
   "outputs": [],
   "source": [
    "h0 = l0(x)\n",
    "h1 = l1(h0)\n",
    "y  = l2(h1)\n",
    "loss = (y - t) ** 2 / batchsize"
   ]
  },
  {
   "cell_type": "code",
   "execution_count": 8,
   "metadata": {},
   "outputs": [],
   "source": [
    "loss.backward()"
   ]
  },
  {
   "cell_type": "code",
   "execution_count": 9,
   "metadata": {},
   "outputs": [
    {
     "data": {
      "text/plain": [
       "array([[ 2.0812593 ,  2.8726945 ,  2.3956895 ,  2.8611588 ,  2.6430728 ],\n",
       "       [ 3.4596505 ,  4.795042  ,  4.013479  ,  4.793844  ,  4.4522533 ],\n",
       "       [-3.6535277 , -5.0445976 , -4.209376  , -5.0275106 , -4.6479197 ],\n",
       "       [-1.8047571 , -2.4613888 , -2.0334728 , -2.4282594 , -2.2111676 ],\n",
       "       [ 4.074095  ,  5.6880183 ,  4.7882347 ,  5.7197933 ,  5.357381  ],\n",
       "       [-1.7266023 , -2.3663478 , -1.9624603 , -2.3435693 , -2.146695  ],\n",
       "       [ 0.63721997,  0.8922481 ,  0.75172025,  0.89778584,  0.84225976],\n",
       "       [ 1.563499  ,  2.1629248 ,  1.8066161 ,  2.1576188 ,  1.9979944 ],\n",
       "       [ 0.7824297 ,  1.1190827 ,  0.9587451 ,  1.1454577 ,  1.1005595 ],\n",
       "       [-2.6270323 , -3.742128  , -3.1973395 , -3.8200407 , -3.6560192 ]],\n",
       "      dtype=float32)"
      ]
     },
     "execution_count": 9,
     "metadata": {},
     "output_type": "execute_result"
    }
   ],
   "source": [
    "l0.W.grad.data"
   ]
  },
  {
   "cell_type": "code",
   "execution_count": 10,
   "metadata": {},
   "outputs": [
    {
     "name": "stdout",
     "output_type": "stream",
     "text": [
      "1269.27880859375\n",
      "1473.388671875\n",
      "1425.890869140625\n",
      "1311.43896484375\n",
      "1366.2716064453125\n",
      "1281.0806884765625\n",
      "1548.0069580078125\n",
      "1247.4254150390625\n",
      "1299.529296875\n",
      "1221.3218994140625\n",
      "1115.009033203125\n",
      "1443.5118408203125\n",
      "1345.06103515625\n",
      "1155.745849609375\n",
      "1129.7899169921875\n",
      "1074.6612548828125\n",
      "1441.25244140625\n",
      "1246.7060546875\n",
      "1358.5865478515625\n",
      "1244.9775390625\n",
      "1114.0244140625\n",
      "1393.145263671875\n",
      "887.5902099609375\n",
      "1162.5235595703125\n",
      "1005.1995849609375\n",
      "826.2950439453125\n",
      "904.306396484375\n",
      "698.614990234375\n",
      "487.99517822265625\n",
      "186.46826171875\n",
      "87.84376525878906\n",
      "18.130390167236328\n",
      "5.3416643142700195\n",
      "3.5832109451293945\n",
      "2.9579272270202637\n",
      "1.657355546951294\n",
      "2.847245216369629\n",
      "2.6974411010742188\n",
      "2.755253314971924\n",
      "2.4614977836608887\n",
      "2.4393930435180664\n",
      "2.8534326553344727\n",
      "1.8732962608337402\n",
      "1.87569260597229\n",
      "1.5564732551574707\n",
      "2.4840707778930664\n",
      "2.0936717987060547\n",
      "1.493910551071167\n",
      "2.05059552192688\n",
      "1.9446985721588135\n",
      "1.9508410692214966\n",
      "1.724349021911621\n",
      "2.249502658843994\n",
      "1.9931418895721436\n",
      "1.6056309938430786\n",
      "1.7049094438552856\n",
      "1.4224462509155273\n",
      "0.9065959453582764\n",
      "1.3624823093414307\n",
      "1.7383333444595337\n",
      "2.295982837677002\n",
      "1.7627971172332764\n",
      "1.328473448753357\n",
      "1.79002046585083\n",
      "1.3908956050872803\n",
      "1.112560510635376\n",
      "0.9869531989097595\n",
      "1.3464312553405762\n",
      "1.0172369480133057\n",
      "1.5157041549682617\n",
      "1.3496167659759521\n",
      "1.3518537282943726\n",
      "1.0593363046646118\n",
      "1.1590971946716309\n",
      "1.1254489421844482\n",
      "1.1315395832061768\n",
      "1.4534711837768555\n",
      "0.8952187299728394\n",
      "1.2466967105865479\n",
      "1.2914719581604004\n",
      "0.7848701477050781\n",
      "1.5325665473937988\n",
      "0.8112554550170898\n",
      "0.6662216186523438\n",
      "1.1029826402664185\n",
      "1.3346843719482422\n",
      "0.75118488073349\n",
      "0.605851411819458\n",
      "0.8745572566986084\n",
      "0.9201085567474365\n",
      "0.8257567882537842\n",
      "1.1773295402526855\n",
      "1.024601936340332\n",
      "0.6811208128929138\n",
      "0.8116064071655273\n",
      "0.9141649603843689\n",
      "1.0337711572647095\n",
      "0.7239547371864319\n",
      "0.8475636839866638\n",
      "0.6184565424919128\n"
     ]
    }
   ],
   "source": [
    "lr = 1e-3\n",
    "\n",
    "for i in range(100):\n",
    "    # make batch\n",
    "    x = Variable(np.random.random((batchsize, 5)).astype(np.float32))\n",
    "    t = Variable(np.matmul(x.data, W.T))\n",
    "    \n",
    "    # forward\n",
    "    h0 = l0(x)\n",
    "    h1 = l1(h0)\n",
    "    y  = l2(h1)\n",
    "\n",
    "    # loss\n",
    "    loss = _sum((y - t) ** 2) / batchsize\n",
    "    \n",
    "    l0.W.grad = 0.\n",
    "    l1.W.grad = 0.\n",
    "    l2.W.grad = 0.\n",
    "\n",
    "    # backward\n",
    "    loss.backward()\n",
    "    \n",
    "    # update\n",
    "    l0.W.data -= lr * l0.W.grad.data\n",
    "    l1.W.data -= lr * l1.W.grad.data\n",
    "    l2.W.data -= lr * l2.W.grad.data\n",
    "\n",
    "    print(loss.data)"
   ]
  },
  {
   "cell_type": "code",
   "execution_count": 11,
   "metadata": {},
   "outputs": [
    {
     "data": {
      "text/plain": [
       "(array([ 6.085687, 21.1473  , 36.171135], dtype=float32),\n",
       " array([ 7.346419, 21.82301 , 36.299603], dtype=float32))"
      ]
     },
     "execution_count": 11,
     "metadata": {},
     "output_type": "execute_result"
    }
   ],
   "source": [
    "y.data[0], t.data[0]"
   ]
  },
  {
   "cell_type": "code",
   "execution_count": 104,
   "metadata": {},
   "outputs": [],
   "source": [
    "nodes = []"
   ]
  },
  {
   "cell_type": "code",
   "execution_count": 105,
   "metadata": {},
   "outputs": [],
   "source": [
    "def get_node(y, nodes):\n",
    "    nodes.append(y)\n",
    "    for x in y.args:\n",
    "        if x not in nodes:\n",
    "            get_node(x, nodes)"
   ]
  },
  {
   "cell_type": "code",
   "execution_count": 106,
   "metadata": {},
   "outputs": [
    {
     "data": {
      "text/plain": [
       "<mandala.nodecore.Node at 0x2387186fdd8>"
      ]
     },
     "execution_count": 106,
     "metadata": {},
     "output_type": "execute_result"
    }
   ],
   "source": [
    "l0.W.grad"
   ]
  },
  {
   "cell_type": "code",
   "execution_count": 80,
   "metadata": {},
   "outputs": [],
   "source": [
    "get_node(l0.W.grad, nodes)\n",
    "get_node(l1.W.grad, nodes)\n",
    "get_node(l2.W.grad, nodes)"
   ]
  },
  {
   "cell_type": "code",
   "execution_count": 107,
   "metadata": {},
   "outputs": [],
   "source": [
    "get_node(loss, nodes)"
   ]
  },
  {
   "cell_type": "code",
   "execution_count": 108,
   "metadata": {},
   "outputs": [
    {
     "data": {
      "text/plain": [
       "[<mandala.nodecore.Node at 0x23871873320>,\n",
       " <mandala.nodecore.Node at 0x238718732b0>,\n",
       " <mandala.nodecore.Node at 0x23871873208>,\n",
       " <mandala.nodecore.Node at 0x23871873198>,\n",
       " <mandala.nodecore.Node at 0x238718730f0>,\n",
       " <mandala.nodecore.Node at 0x23871873048>,\n",
       " <mandala.nodecore.Node at 0x2387186ff98>,\n",
       " <mandala.nodecore.Variable at 0x2387185a588>,\n",
       " <mandala.nodecore.Variable at 0x238717bfc18>,\n",
       " <mandala.nodecore.Variable at 0x238717bf7b8>,\n",
       " <mandala.nodecore.Variable at 0x238717bf588>,\n",
       " <mandala.nodecore.Variable at 0x2387185a828>,\n",
       " <mandala.nodecore.Variable at 0x23871873240>,\n",
       " <mandala.nodecore.Variable at 0x23871873358>]"
      ]
     },
     "execution_count": 108,
     "metadata": {},
     "output_type": "execute_result"
    }
   ],
   "source": [
    "nodes"
   ]
  },
  {
   "cell_type": "code",
   "execution_count": 109,
   "metadata": {},
   "outputs": [],
   "source": [
    "import itertools\n",
    "import networkx as nx\n",
    "\n",
    "G = nx.DiGraph()\n",
    "G.add_nodes_from(nodes)"
   ]
  },
  {
   "cell_type": "code",
   "execution_count": 110,
   "metadata": {},
   "outputs": [],
   "source": [
    "for node in nodes:\n",
    "    for n0, n1 in itertools.permutations(nodes, 2):\n",
    "        if not n1 in n0.args:\n",
    "            continue\n",
    "        if not G.has_edge(n0, n1):\n",
    "            G.add_edge(n1, n0, weight=1)"
   ]
  },
  {
   "cell_type": "code",
   "execution_count": 113,
   "metadata": {},
   "outputs": [
    {
     "data": {
      "image/png": "[encoded data removed]",
      "text/plain": [
       "<matplotlib.figure.Figure at 0x23876b15080>"
      ]
     },
     "metadata": {},
     "output_type": "display_data"
    }
   ],
   "source": [
    "%matplotlib inline\n",
    "import matplotlib.pyplot as plt\n",
    "\n",
    "plt.figure(figsize=(15,15))\n",
    "pos = nx.spring_layout(G)\n",
    "nx.draw_networkx(G, pos)\n",
    "\n",
    "plt.axis(\"off\")\n",
    "plt.savefig(\"default.png\")\n",
    "plt.show()"
   ]
  },
  {
   "cell_type": "code",
   "execution_count": null,
   "metadata": {},
   "outputs": [],
   "source": []
  }
 ],
 "metadata": {
  "kernelspec": {
   "display_name": "Python 3",
   "language": "python",
   "name": "python3"
  },
  "language_info": {
   "codemirror_mode": {
    "name": "ipython",
    "version": 3
   },
   "file_extension": ".py",
   "mimetype": "text/x-python",
   "name": "python",
   "nbconvert_exporter": "python",
   "pygments_lexer": "ipython3",
   "version": "3.6.4"
  }
 },
 "nbformat": 4,
 "nbformat_minor": 2
}
